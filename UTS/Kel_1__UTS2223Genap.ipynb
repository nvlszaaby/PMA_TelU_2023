{
  "cells": [
    {
      "cell_type": "markdown",
      "metadata": {
        "id": "85d00a49-bf04-4ccd-942c-25dcc37a55a9"
      },
      "source": [
        "## **Tugas Besar Pengganti Ujian Tengah Semester (UTS), Semester Genap 2022/2023**\n",
        "### Deadline: Selasa, 18 April 2023, Jam 13.00\n",
        "##### Dosen: FYS, ITQ, DKT"
      ],
      "id": "85d00a49-bf04-4ccd-942c-25dcc37a55a9"
    },
    {
      "cell_type": "markdown",
      "metadata": {
        "id": "dc5cace2-e5ad-4a4c-93a9-505cd2d873c9"
      },
      "source": [
        "---\n",
        "***'Dengan ini kami menyatakan bahwa tugas ini dibuat sebenar-benarnya hasil kerjasama kami dalam kelompok. Kami menjunjung tinggi aspek kejujuran sehingga kami dapat pastikan hasil ini bukan berasal dari meniru/mencontek/meminta hasil/berdiskusi dengan kelompok lain, baik dalam satu kelas yang sama maupun berbeda'***\n",
        "\n",
        "---\n",
        "Bandung, 11 April 2023\n",
        "\n",
        "> Kelompok: 1\n",
        "> Anggota:\n",
        "> 1. Rifqy Fachrizi, 1102201685, 45%\n",
        "> 2. Gebby Novalisza, 1102201399, 45%\n",
        "> 3. Fiqri Ramdhani, 1102204388, 10%"
      ],
      "id": "dc5cace2-e5ad-4a4c-93a9-505cd2d873c9"
    },
    {
      "cell_type": "markdown",
      "metadata": {
        "id": "aaa82159-66ad-4e2a-b787-c791ee6e6a61"
      },
      "source": [
        "### **Penjelasan (harus dibaca dan dimengerti)**:\n",
        "* Tugas besar harus dikerjakan menggunakan bahasa pemrograman `Python` dan *library* `Scikit-Learn`. Sebagai dasar, lihat **A.2. Dasar-dasar *Applications Programming Interface* (API) dari *Scikit-Learn*** pada **Chapter 3**\n",
        "* Pada setiap bagian jawaban, anda bisa menambahkan cell `code` untuk kode maupun cell `Markdown` untuk penjelasan, sesuai dengan kebutuhan masing-masing.\n",
        "* Dikumpulkan sesuai dengan tenggat waktu, setiap keterlambatan akan diberikan hukuman pengurangan 10 poin setiap kelipatan 15 menit.\n",
        "* Dikerjakan dengan `Jupyter Lab` atau `Jupyter Notebook`, dan dikumpulkan dalam bentuk file dengan extension `.ipynb` yang digunakan pada `Jupyter Notebook/Jupyter Lab` (tidak boleh dalam format lain)\n"
      ],
      "id": "aaa82159-66ad-4e2a-b787-c791ee6e6a61"
    },
    {
      "cell_type": "markdown",
      "metadata": {
        "id": "b831def3-32d0-4db6-b024-adf7b7ade7da"
      },
      "source": [
        "# 1. Metode Regresi (30 %)"
      ],
      "id": "b831def3-32d0-4db6-b024-adf7b7ade7da"
    },
    {
      "cell_type": "markdown",
      "metadata": {
        "id": "b0b14eba-13ba-437e-9a28-45a593e79ee7"
      },
      "source": [
        "## Ketentuan dataset\n",
        "\n",
        "* Ada 4 dataset yang akan disediakan, yaitu CarData0.csv, CarData1.csv, CarData2.csv, CarData3.csv, . Berikut link drive dataset [Link Download](https://telkomuniversityofficial-my.sharepoint.com/:f:/g/personal/istiqomah_telkomuniversity_ac_id/Ejuwp5O3oQNIhN0c65kSH3sBh9Lp1bp58LyIyCeTbQvVnQ?e=uATtF9)\n",
        "* Ketentuan pemilihan dataset:\n",
        "    > 1. Ketentuan pemilihan file dataset adalah jumlah semua angka belakang nim kelompok dan kemudian mod 4 . contoh: Nim tim 115090010, 115090012, 115090015, dan 115090016, jadi hasil penjumlahannya adalah 0 + 2 + 5 + 6 = 13, 13 mod 4 adalah 1. Jadi kelompok ini memilih dataset CarData1.CSV.\n",
        "    > 2. Pada dataset tersebut yang digunakan sebagai fitur adalah **Year, Kilometer/km_driven, fuel/ Fuel Type,Seller Type, transmission dan owner**. Dimana pada permasalahan ini kita ingin memprediksikan **harga mobil second (Selling Price)** tersebut sesuai fitur diatas.\n",
        "    > 3. Fitur yang wajib ada disetiap tim adalah  Owner dengan Ketentuan pemilihan fitur lain adalah dengan angka belakang nim setiap anggota sebagai penentu 3 Fitur yang dipilih:\n",
        "\n",
        "\n",
        "    | Fitur  |      CarData0 (Nim)  | CarData1(Nim)        | CarData2 (Nim)       |  CarData3 (Nim)    |\n",
        "    | -------| ---------------------| ---------------------| ---------------------| ------------------ |\n",
        "    | Year   |            0 dan 1   |        2 dan 3       |     4 dan 5          |    6 dan 7         |\n",
        "    | Kilometer/km_driven| 2 dan 3  |        4 dan 5       |     6 dan 7          |    8 dan 9         |\n",
        "    | fuel/ Fuel Type|     4 dan 5  |        6 dan 7       |     8 dan 9          |    0 dan 1         |\n",
        "    | Seller Type   |      6 dan 7  |        8 dan 9       |     0 dan 1          |    2 dan 3         |\n",
        "    | transmission   |    8 dan 9   |        0 dan 1       |     2 dan 3          |   4 dan 5          |\n",
        "\n",
        "    **Contoh**: Nim tim 115090010, 115090012, 115090015, dan 115090016 dengan ketentuan file datset CarData1  dan dengan ketentuan tabel diatas maka fitur yang dipilih adalah transmission (115090010), year (115090012), Kilometer/km_driven (115090015) dan fuel/ Fuel Type (115090016). Disini pilih hanya 3 fitur, misal tim ini memilih transmission, year, dan Kilometer/km_driven ditambah fitur wajib Owner. Jadi tim ini telah memilih dataset dengan ketentuan:\n",
        "\n",
        "    > file: CarData1,\n",
        "    > Fitur: Owner, transmission, year, dan Kilometer/km_driven.\n",
        "\n"
      ],
      "id": "b0b14eba-13ba-437e-9a28-45a593e79ee7"
    },
    {
      "cell_type": "markdown",
      "metadata": {
        "id": "7a7ad6d4-4863-4341-8404-3b13741e2d73"
      },
      "source": [
        "#### 1. Tuliskan file dan fitur yang digunakan."
      ],
      "id": "7a7ad6d4-4863-4341-8404-3b13741e2d73"
    },
    {
      "cell_type": "markdown",
      "metadata": {
        "id": "a66dd461-5849-446e-8143-b15d845c7b5d"
      },
      "source": [
        "File: carData2\n",
        "</br> Fitur: fuel, year, owner"
      ],
      "id": "a66dd461-5849-446e-8143-b15d845c7b5d"
    },
    {
      "cell_type": "markdown",
      "metadata": {
        "id": "a12aaece-72ff-4387-bbb9-2586238ea58c"
      },
      "source": [
        "#### 2. Baca dataset\n",
        "Baca file csv yang telah diberikan lalu tampilkan 5 data pertama."
      ],
      "id": "a12aaece-72ff-4387-bbb9-2586238ea58c"
    },
    {
      "cell_type": "code",
      "execution_count": null,
      "metadata": {
        "id": "df11490d-d4f5-45e6-85e1-5077180ef6bd"
      },
      "outputs": [],
      "source": [
        "# Generate some data\n",
        "import pandas as pd\n",
        "import numpy as np"
      ],
      "id": "df11490d-d4f5-45e6-85e1-5077180ef6bd"
    },
    {
      "cell_type": "markdown",
      "metadata": {
        "id": "78007764-fb00-480d-9551-1f4377170c35"
      },
      "source": [
        "#### 3. Ubah data string kedalam integer untuk beberapa data.\n",
        "\n",
        "<p> Untuk beberapa fitur seperti fuel/ Fuel Type,Seller Type, transmission dan owner, jika fitur tersebut masih dalam string maka ubah data tersebut kedalam integer.  </p>\n",
        "Contoh:"
      ],
      "id": "78007764-fb00-480d-9551-1f4377170c35"
    },
    {
      "cell_type": "code",
      "execution_count": null,
      "metadata": {
        "colab": {
          "base_uri": "https://localhost:8080/",
          "height": 478
        },
        "id": "a713bf3c-6c79-480c-b0e2-176feb443eff",
        "outputId": "1f020a63-b10a-4e70-fd40-69999ec35bcb"
      },
      "outputs": [
        {
          "output_type": "execute_result",
          "data": {
            "text/plain": [
              "                       name  year  selling_price  km_driven    fuel  \\\n",
              "0             Maruti 800 AC  2007          60000      70000  Petrol   \n",
              "1  Maruti Wagon R LXI Minor  2007         135000      50000  Petrol   \n",
              "2      Hyundai Verna 1.6 SX  2012         600000     100000  Diesel   \n",
              "3    Datsun RediGO T Option  2017         250000      46000  Petrol   \n",
              "4     Honda Amaze VX i-DTEC  2014         450000     141000  Diesel   \n",
              "\n",
              "  seller_type transmission         owner  \n",
              "0  Individual       Manual   First Owner  \n",
              "1  Individual       Manual   First Owner  \n",
              "2  Individual       Manual   First Owner  \n",
              "3  Individual       Manual   First Owner  \n",
              "4  Individual       Manual  Second Owner  "
            ],
            "text/html": [
              "\n",
              "  <div id=\"df-7930376d-f960-44b6-bc69-fa18813b7cfb\">\n",
              "    <div class=\"colab-df-container\">\n",
              "      <div>\n",
              "<style scoped>\n",
              "    .dataframe tbody tr th:only-of-type {\n",
              "        vertical-align: middle;\n",
              "    }\n",
              "\n",
              "    .dataframe tbody tr th {\n",
              "        vertical-align: top;\n",
              "    }\n",
              "\n",
              "    .dataframe thead th {\n",
              "        text-align: right;\n",
              "    }\n",
              "</style>\n",
              "<table border=\"1\" class=\"dataframe\">\n",
              "  <thead>\n",
              "    <tr style=\"text-align: right;\">\n",
              "      <th></th>\n",
              "      <th>name</th>\n",
              "      <th>year</th>\n",
              "      <th>selling_price</th>\n",
              "      <th>km_driven</th>\n",
              "      <th>fuel</th>\n",
              "      <th>seller_type</th>\n",
              "      <th>transmission</th>\n",
              "      <th>owner</th>\n",
              "    </tr>\n",
              "  </thead>\n",
              "  <tbody>\n",
              "    <tr>\n",
              "      <th>0</th>\n",
              "      <td>Maruti 800 AC</td>\n",
              "      <td>2007</td>\n",
              "      <td>60000</td>\n",
              "      <td>70000</td>\n",
              "      <td>Petrol</td>\n",
              "      <td>Individual</td>\n",
              "      <td>Manual</td>\n",
              "      <td>First Owner</td>\n",
              "    </tr>\n",
              "    <tr>\n",
              "      <th>1</th>\n",
              "      <td>Maruti Wagon R LXI Minor</td>\n",
              "      <td>2007</td>\n",
              "      <td>135000</td>\n",
              "      <td>50000</td>\n",
              "      <td>Petrol</td>\n",
              "      <td>Individual</td>\n",
              "      <td>Manual</td>\n",
              "      <td>First Owner</td>\n",
              "    </tr>\n",
              "    <tr>\n",
              "      <th>2</th>\n",
              "      <td>Hyundai Verna 1.6 SX</td>\n",
              "      <td>2012</td>\n",
              "      <td>600000</td>\n",
              "      <td>100000</td>\n",
              "      <td>Diesel</td>\n",
              "      <td>Individual</td>\n",
              "      <td>Manual</td>\n",
              "      <td>First Owner</td>\n",
              "    </tr>\n",
              "    <tr>\n",
              "      <th>3</th>\n",
              "      <td>Datsun RediGO T Option</td>\n",
              "      <td>2017</td>\n",
              "      <td>250000</td>\n",
              "      <td>46000</td>\n",
              "      <td>Petrol</td>\n",
              "      <td>Individual</td>\n",
              "      <td>Manual</td>\n",
              "      <td>First Owner</td>\n",
              "    </tr>\n",
              "    <tr>\n",
              "      <th>4</th>\n",
              "      <td>Honda Amaze VX i-DTEC</td>\n",
              "      <td>2014</td>\n",
              "      <td>450000</td>\n",
              "      <td>141000</td>\n",
              "      <td>Diesel</td>\n",
              "      <td>Individual</td>\n",
              "      <td>Manual</td>\n",
              "      <td>Second Owner</td>\n",
              "    </tr>\n",
              "  </tbody>\n",
              "</table>\n",
              "</div>\n",
              "      <button class=\"colab-df-convert\" onclick=\"convertToInteractive('df-7930376d-f960-44b6-bc69-fa18813b7cfb')\"\n",
              "              title=\"Convert this dataframe to an interactive table.\"\n",
              "              style=\"display:none;\">\n",
              "        \n",
              "  <svg xmlns=\"http://www.w3.org/2000/svg\" height=\"24px\"viewBox=\"0 0 24 24\"\n",
              "       width=\"24px\">\n",
              "    <path d=\"M0 0h24v24H0V0z\" fill=\"none\"/>\n",
              "    <path d=\"M18.56 5.44l.94 2.06.94-2.06 2.06-.94-2.06-.94-.94-2.06-.94 2.06-2.06.94zm-11 1L8.5 8.5l.94-2.06 2.06-.94-2.06-.94L8.5 2.5l-.94 2.06-2.06.94zm10 10l.94 2.06.94-2.06 2.06-.94-2.06-.94-.94-2.06-.94 2.06-2.06.94z\"/><path d=\"M17.41 7.96l-1.37-1.37c-.4-.4-.92-.59-1.43-.59-.52 0-1.04.2-1.43.59L10.3 9.45l-7.72 7.72c-.78.78-.78 2.05 0 2.83L4 21.41c.39.39.9.59 1.41.59.51 0 1.02-.2 1.41-.59l7.78-7.78 2.81-2.81c.8-.78.8-2.07 0-2.86zM5.41 20L4 18.59l7.72-7.72 1.47 1.35L5.41 20z\"/>\n",
              "  </svg>\n",
              "      </button>\n",
              "      \n",
              "  <style>\n",
              "    .colab-df-container {\n",
              "      display:flex;\n",
              "      flex-wrap:wrap;\n",
              "      gap: 12px;\n",
              "    }\n",
              "\n",
              "    .colab-df-convert {\n",
              "      background-color: #E8F0FE;\n",
              "      border: none;\n",
              "      border-radius: 50%;\n",
              "      cursor: pointer;\n",
              "      display: none;\n",
              "      fill: #1967D2;\n",
              "      height: 32px;\n",
              "      padding: 0 0 0 0;\n",
              "      width: 32px;\n",
              "    }\n",
              "\n",
              "    .colab-df-convert:hover {\n",
              "      background-color: #E2EBFA;\n",
              "      box-shadow: 0px 1px 2px rgba(60, 64, 67, 0.3), 0px 1px 3px 1px rgba(60, 64, 67, 0.15);\n",
              "      fill: #174EA6;\n",
              "    }\n",
              "\n",
              "    [theme=dark] .colab-df-convert {\n",
              "      background-color: #3B4455;\n",
              "      fill: #D2E3FC;\n",
              "    }\n",
              "\n",
              "    [theme=dark] .colab-df-convert:hover {\n",
              "      background-color: #434B5C;\n",
              "      box-shadow: 0px 1px 3px 1px rgba(0, 0, 0, 0.15);\n",
              "      filter: drop-shadow(0px 1px 2px rgba(0, 0, 0, 0.3));\n",
              "      fill: #FFFFFF;\n",
              "    }\n",
              "  </style>\n",
              "\n",
              "      <script>\n",
              "        const buttonEl =\n",
              "          document.querySelector('#df-7930376d-f960-44b6-bc69-fa18813b7cfb button.colab-df-convert');\n",
              "        buttonEl.style.display =\n",
              "          google.colab.kernel.accessAllowed ? 'block' : 'none';\n",
              "\n",
              "        async function convertToInteractive(key) {\n",
              "          const element = document.querySelector('#df-7930376d-f960-44b6-bc69-fa18813b7cfb');\n",
              "          const dataTable =\n",
              "            await google.colab.kernel.invokeFunction('convertToInteractive',\n",
              "                                                     [key], {});\n",
              "          if (!dataTable) return;\n",
              "\n",
              "          const docLinkHtml = 'Like what you see? Visit the ' +\n",
              "            '<a target=\"_blank\" href=https://colab.research.google.com/notebooks/data_table.ipynb>data table notebook</a>'\n",
              "            + ' to learn more about interactive tables.';\n",
              "          element.innerHTML = '';\n",
              "          dataTable['output_type'] = 'display_data';\n",
              "          await google.colab.output.renderOutput(dataTable, element);\n",
              "          const docLink = document.createElement('div');\n",
              "          docLink.innerHTML = docLinkHtml;\n",
              "          element.appendChild(docLink);\n",
              "        }\n",
              "      </script>\n",
              "    </div>\n",
              "  </div>\n",
              "  "
            ]
          },
          "metadata": {},
          "execution_count": 3
        }
      ],
      "source": [
        "import pandas as pd\n",
        "dataSatu = pd.read_csv(\"/content/CarData2.csv\")\n",
        "dataSatu.head()"
      ],
      "id": "a713bf3c-6c79-480c-b0e2-176feb443eff"
    },
    {
      "cell_type": "code",
      "execution_count": null,
      "metadata": {
        "colab": {
          "base_uri": "https://localhost:8080/",
          "height": 441
        },
        "id": "58dc62dc-f163-49da-8670-02a4b638d033",
        "outputId": "f5e764cb-9a84-4652-cd3d-22eefa1dae50"
      },
      "outputs": [
        {
          "output_type": "execute_result",
          "data": {
            "text/plain": [
              "                       name  year  selling_price  km_driven  fuel seller_type  \\\n",
              "0             Maruti 800 AC  2007          60000      70000     4  Individual   \n",
              "1  Maruti Wagon R LXI Minor  2007         135000      50000     4  Individual   \n",
              "2      Hyundai Verna 1.6 SX  2012         600000     100000     1  Individual   \n",
              "3    Datsun RediGO T Option  2017         250000      46000     4  Individual   \n",
              "4     Honda Amaze VX i-DTEC  2014         450000     141000     1  Individual   \n",
              "\n",
              "  transmission         owner  \n",
              "0       Manual   First Owner  \n",
              "1       Manual   First Owner  \n",
              "2       Manual   First Owner  \n",
              "3       Manual   First Owner  \n",
              "4       Manual  Second Owner  "
            ],
            "text/html": [
              "\n",
              "  <div id=\"df-fa0917f3-25cf-48ce-b363-b81b3b5375f0\">\n",
              "    <div class=\"colab-df-container\">\n",
              "      <div>\n",
              "<style scoped>\n",
              "    .dataframe tbody tr th:only-of-type {\n",
              "        vertical-align: middle;\n",
              "    }\n",
              "\n",
              "    .dataframe tbody tr th {\n",
              "        vertical-align: top;\n",
              "    }\n",
              "\n",
              "    .dataframe thead th {\n",
              "        text-align: right;\n",
              "    }\n",
              "</style>\n",
              "<table border=\"1\" class=\"dataframe\">\n",
              "  <thead>\n",
              "    <tr style=\"text-align: right;\">\n",
              "      <th></th>\n",
              "      <th>name</th>\n",
              "      <th>year</th>\n",
              "      <th>selling_price</th>\n",
              "      <th>km_driven</th>\n",
              "      <th>fuel</th>\n",
              "      <th>seller_type</th>\n",
              "      <th>transmission</th>\n",
              "      <th>owner</th>\n",
              "    </tr>\n",
              "  </thead>\n",
              "  <tbody>\n",
              "    <tr>\n",
              "      <th>0</th>\n",
              "      <td>Maruti 800 AC</td>\n",
              "      <td>2007</td>\n",
              "      <td>60000</td>\n",
              "      <td>70000</td>\n",
              "      <td>4</td>\n",
              "      <td>Individual</td>\n",
              "      <td>Manual</td>\n",
              "      <td>First Owner</td>\n",
              "    </tr>\n",
              "    <tr>\n",
              "      <th>1</th>\n",
              "      <td>Maruti Wagon R LXI Minor</td>\n",
              "      <td>2007</td>\n",
              "      <td>135000</td>\n",
              "      <td>50000</td>\n",
              "      <td>4</td>\n",
              "      <td>Individual</td>\n",
              "      <td>Manual</td>\n",
              "      <td>First Owner</td>\n",
              "    </tr>\n",
              "    <tr>\n",
              "      <th>2</th>\n",
              "      <td>Hyundai Verna 1.6 SX</td>\n",
              "      <td>2012</td>\n",
              "      <td>600000</td>\n",
              "      <td>100000</td>\n",
              "      <td>1</td>\n",
              "      <td>Individual</td>\n",
              "      <td>Manual</td>\n",
              "      <td>First Owner</td>\n",
              "    </tr>\n",
              "    <tr>\n",
              "      <th>3</th>\n",
              "      <td>Datsun RediGO T Option</td>\n",
              "      <td>2017</td>\n",
              "      <td>250000</td>\n",
              "      <td>46000</td>\n",
              "      <td>4</td>\n",
              "      <td>Individual</td>\n",
              "      <td>Manual</td>\n",
              "      <td>First Owner</td>\n",
              "    </tr>\n",
              "    <tr>\n",
              "      <th>4</th>\n",
              "      <td>Honda Amaze VX i-DTEC</td>\n",
              "      <td>2014</td>\n",
              "      <td>450000</td>\n",
              "      <td>141000</td>\n",
              "      <td>1</td>\n",
              "      <td>Individual</td>\n",
              "      <td>Manual</td>\n",
              "      <td>Second Owner</td>\n",
              "    </tr>\n",
              "  </tbody>\n",
              "</table>\n",
              "</div>\n",
              "      <button class=\"colab-df-convert\" onclick=\"convertToInteractive('df-fa0917f3-25cf-48ce-b363-b81b3b5375f0')\"\n",
              "              title=\"Convert this dataframe to an interactive table.\"\n",
              "              style=\"display:none;\">\n",
              "        \n",
              "  <svg xmlns=\"http://www.w3.org/2000/svg\" height=\"24px\"viewBox=\"0 0 24 24\"\n",
              "       width=\"24px\">\n",
              "    <path d=\"M0 0h24v24H0V0z\" fill=\"none\"/>\n",
              "    <path d=\"M18.56 5.44l.94 2.06.94-2.06 2.06-.94-2.06-.94-.94-2.06-.94 2.06-2.06.94zm-11 1L8.5 8.5l.94-2.06 2.06-.94-2.06-.94L8.5 2.5l-.94 2.06-2.06.94zm10 10l.94 2.06.94-2.06 2.06-.94-2.06-.94-.94-2.06-.94 2.06-2.06.94z\"/><path d=\"M17.41 7.96l-1.37-1.37c-.4-.4-.92-.59-1.43-.59-.52 0-1.04.2-1.43.59L10.3 9.45l-7.72 7.72c-.78.78-.78 2.05 0 2.83L4 21.41c.39.39.9.59 1.41.59.51 0 1.02-.2 1.41-.59l7.78-7.78 2.81-2.81c.8-.78.8-2.07 0-2.86zM5.41 20L4 18.59l7.72-7.72 1.47 1.35L5.41 20z\"/>\n",
              "  </svg>\n",
              "      </button>\n",
              "      \n",
              "  <style>\n",
              "    .colab-df-container {\n",
              "      display:flex;\n",
              "      flex-wrap:wrap;\n",
              "      gap: 12px;\n",
              "    }\n",
              "\n",
              "    .colab-df-convert {\n",
              "      background-color: #E8F0FE;\n",
              "      border: none;\n",
              "      border-radius: 50%;\n",
              "      cursor: pointer;\n",
              "      display: none;\n",
              "      fill: #1967D2;\n",
              "      height: 32px;\n",
              "      padding: 0 0 0 0;\n",
              "      width: 32px;\n",
              "    }\n",
              "\n",
              "    .colab-df-convert:hover {\n",
              "      background-color: #E2EBFA;\n",
              "      box-shadow: 0px 1px 2px rgba(60, 64, 67, 0.3), 0px 1px 3px 1px rgba(60, 64, 67, 0.15);\n",
              "      fill: #174EA6;\n",
              "    }\n",
              "\n",
              "    [theme=dark] .colab-df-convert {\n",
              "      background-color: #3B4455;\n",
              "      fill: #D2E3FC;\n",
              "    }\n",
              "\n",
              "    [theme=dark] .colab-df-convert:hover {\n",
              "      background-color: #434B5C;\n",
              "      box-shadow: 0px 1px 3px 1px rgba(0, 0, 0, 0.15);\n",
              "      filter: drop-shadow(0px 1px 2px rgba(0, 0, 0, 0.3));\n",
              "      fill: #FFFFFF;\n",
              "    }\n",
              "  </style>\n",
              "\n",
              "      <script>\n",
              "        const buttonEl =\n",
              "          document.querySelector('#df-fa0917f3-25cf-48ce-b363-b81b3b5375f0 button.colab-df-convert');\n",
              "        buttonEl.style.display =\n",
              "          google.colab.kernel.accessAllowed ? 'block' : 'none';\n",
              "\n",
              "        async function convertToInteractive(key) {\n",
              "          const element = document.querySelector('#df-fa0917f3-25cf-48ce-b363-b81b3b5375f0');\n",
              "          const dataTable =\n",
              "            await google.colab.kernel.invokeFunction('convertToInteractive',\n",
              "                                                     [key], {});\n",
              "          if (!dataTable) return;\n",
              "\n",
              "          const docLinkHtml = 'Like what you see? Visit the ' +\n",
              "            '<a target=\"_blank\" href=https://colab.research.google.com/notebooks/data_table.ipynb>data table notebook</a>'\n",
              "            + ' to learn more about interactive tables.';\n",
              "          element.innerHTML = '';\n",
              "          dataTable['output_type'] = 'display_data';\n",
              "          await google.colab.output.renderOutput(dataTable, element);\n",
              "          const docLink = document.createElement('div');\n",
              "          docLink.innerHTML = docLinkHtml;\n",
              "          element.appendChild(docLink);\n",
              "        }\n",
              "      </script>\n",
              "    </div>\n",
              "  </div>\n",
              "  "
            ]
          },
          "metadata": {},
          "execution_count": 4
        }
      ],
      "source": [
        "from sklearn.preprocessing import LabelEncoder\n",
        "Encode = LabelEncoder()\n",
        "Fuel_Type = Encode.fit_transform(dataSatu['fuel'])\n",
        "dataSatu['fuel'] = Fuel_Type\n",
        "dataSatu.head()"
      ],
      "id": "58dc62dc-f163-49da-8670-02a4b638d033"
    },
    {
      "cell_type": "markdown",
      "metadata": {
        "id": "5d86a6ab-9b3f-4c6f-8023-0d3c35d5fdce"
      },
      "source": [
        "#### Ubah semua data dalam bentuk string ke Integer seperti kolom Fuel_Type"
      ],
      "id": "5d86a6ab-9b3f-4c6f-8023-0d3c35d5fdce"
    },
    {
      "cell_type": "code",
      "execution_count": null,
      "metadata": {
        "colab": {
          "base_uri": "https://localhost:8080/",
          "height": 406
        },
        "id": "3ca9502f-0c19-4aa8-9cea-bf9b29911317",
        "outputId": "8a3f4d58-b43e-443c-b8ee-8e6cc851663d"
      },
      "outputs": [
        {
          "output_type": "execute_result",
          "data": {
            "text/plain": [
              "                       name  year  selling_price  km_driven  fuel seller_type  \\\n",
              "0             Maruti 800 AC  2007          60000      70000     4  Individual   \n",
              "1  Maruti Wagon R LXI Minor  2007         135000      50000     4  Individual   \n",
              "2      Hyundai Verna 1.6 SX  2012         600000     100000     1  Individual   \n",
              "3    Datsun RediGO T Option  2017         250000      46000     4  Individual   \n",
              "4     Honda Amaze VX i-DTEC  2014         450000     141000     1  Individual   \n",
              "\n",
              "  transmission  owner  \n",
              "0       Manual      0  \n",
              "1       Manual      0  \n",
              "2       Manual      0  \n",
              "3       Manual      0  \n",
              "4       Manual      2  "
            ],
            "text/html": [
              "\n",
              "  <div id=\"df-d4a1723a-e3d6-4fd7-89c7-8e911ca823e7\">\n",
              "    <div class=\"colab-df-container\">\n",
              "      <div>\n",
              "<style scoped>\n",
              "    .dataframe tbody tr th:only-of-type {\n",
              "        vertical-align: middle;\n",
              "    }\n",
              "\n",
              "    .dataframe tbody tr th {\n",
              "        vertical-align: top;\n",
              "    }\n",
              "\n",
              "    .dataframe thead th {\n",
              "        text-align: right;\n",
              "    }\n",
              "</style>\n",
              "<table border=\"1\" class=\"dataframe\">\n",
              "  <thead>\n",
              "    <tr style=\"text-align: right;\">\n",
              "      <th></th>\n",
              "      <th>name</th>\n",
              "      <th>year</th>\n",
              "      <th>selling_price</th>\n",
              "      <th>km_driven</th>\n",
              "      <th>fuel</th>\n",
              "      <th>seller_type</th>\n",
              "      <th>transmission</th>\n",
              "      <th>owner</th>\n",
              "    </tr>\n",
              "  </thead>\n",
              "  <tbody>\n",
              "    <tr>\n",
              "      <th>0</th>\n",
              "      <td>Maruti 800 AC</td>\n",
              "      <td>2007</td>\n",
              "      <td>60000</td>\n",
              "      <td>70000</td>\n",
              "      <td>4</td>\n",
              "      <td>Individual</td>\n",
              "      <td>Manual</td>\n",
              "      <td>0</td>\n",
              "    </tr>\n",
              "    <tr>\n",
              "      <th>1</th>\n",
              "      <td>Maruti Wagon R LXI Minor</td>\n",
              "      <td>2007</td>\n",
              "      <td>135000</td>\n",
              "      <td>50000</td>\n",
              "      <td>4</td>\n",
              "      <td>Individual</td>\n",
              "      <td>Manual</td>\n",
              "      <td>0</td>\n",
              "    </tr>\n",
              "    <tr>\n",
              "      <th>2</th>\n",
              "      <td>Hyundai Verna 1.6 SX</td>\n",
              "      <td>2012</td>\n",
              "      <td>600000</td>\n",
              "      <td>100000</td>\n",
              "      <td>1</td>\n",
              "      <td>Individual</td>\n",
              "      <td>Manual</td>\n",
              "      <td>0</td>\n",
              "    </tr>\n",
              "    <tr>\n",
              "      <th>3</th>\n",
              "      <td>Datsun RediGO T Option</td>\n",
              "      <td>2017</td>\n",
              "      <td>250000</td>\n",
              "      <td>46000</td>\n",
              "      <td>4</td>\n",
              "      <td>Individual</td>\n",
              "      <td>Manual</td>\n",
              "      <td>0</td>\n",
              "    </tr>\n",
              "    <tr>\n",
              "      <th>4</th>\n",
              "      <td>Honda Amaze VX i-DTEC</td>\n",
              "      <td>2014</td>\n",
              "      <td>450000</td>\n",
              "      <td>141000</td>\n",
              "      <td>1</td>\n",
              "      <td>Individual</td>\n",
              "      <td>Manual</td>\n",
              "      <td>2</td>\n",
              "    </tr>\n",
              "  </tbody>\n",
              "</table>\n",
              "</div>\n",
              "      <button class=\"colab-df-convert\" onclick=\"convertToInteractive('df-d4a1723a-e3d6-4fd7-89c7-8e911ca823e7')\"\n",
              "              title=\"Convert this dataframe to an interactive table.\"\n",
              "              style=\"display:none;\">\n",
              "        \n",
              "  <svg xmlns=\"http://www.w3.org/2000/svg\" height=\"24px\"viewBox=\"0 0 24 24\"\n",
              "       width=\"24px\">\n",
              "    <path d=\"M0 0h24v24H0V0z\" fill=\"none\"/>\n",
              "    <path d=\"M18.56 5.44l.94 2.06.94-2.06 2.06-.94-2.06-.94-.94-2.06-.94 2.06-2.06.94zm-11 1L8.5 8.5l.94-2.06 2.06-.94-2.06-.94L8.5 2.5l-.94 2.06-2.06.94zm10 10l.94 2.06.94-2.06 2.06-.94-2.06-.94-.94-2.06-.94 2.06-2.06.94z\"/><path d=\"M17.41 7.96l-1.37-1.37c-.4-.4-.92-.59-1.43-.59-.52 0-1.04.2-1.43.59L10.3 9.45l-7.72 7.72c-.78.78-.78 2.05 0 2.83L4 21.41c.39.39.9.59 1.41.59.51 0 1.02-.2 1.41-.59l7.78-7.78 2.81-2.81c.8-.78.8-2.07 0-2.86zM5.41 20L4 18.59l7.72-7.72 1.47 1.35L5.41 20z\"/>\n",
              "  </svg>\n",
              "      </button>\n",
              "      \n",
              "  <style>\n",
              "    .colab-df-container {\n",
              "      display:flex;\n",
              "      flex-wrap:wrap;\n",
              "      gap: 12px;\n",
              "    }\n",
              "\n",
              "    .colab-df-convert {\n",
              "      background-color: #E8F0FE;\n",
              "      border: none;\n",
              "      border-radius: 50%;\n",
              "      cursor: pointer;\n",
              "      display: none;\n",
              "      fill: #1967D2;\n",
              "      height: 32px;\n",
              "      padding: 0 0 0 0;\n",
              "      width: 32px;\n",
              "    }\n",
              "\n",
              "    .colab-df-convert:hover {\n",
              "      background-color: #E2EBFA;\n",
              "      box-shadow: 0px 1px 2px rgba(60, 64, 67, 0.3), 0px 1px 3px 1px rgba(60, 64, 67, 0.15);\n",
              "      fill: #174EA6;\n",
              "    }\n",
              "\n",
              "    [theme=dark] .colab-df-convert {\n",
              "      background-color: #3B4455;\n",
              "      fill: #D2E3FC;\n",
              "    }\n",
              "\n",
              "    [theme=dark] .colab-df-convert:hover {\n",
              "      background-color: #434B5C;\n",
              "      box-shadow: 0px 1px 3px 1px rgba(0, 0, 0, 0.15);\n",
              "      filter: drop-shadow(0px 1px 2px rgba(0, 0, 0, 0.3));\n",
              "      fill: #FFFFFF;\n",
              "    }\n",
              "  </style>\n",
              "\n",
              "      <script>\n",
              "        const buttonEl =\n",
              "          document.querySelector('#df-d4a1723a-e3d6-4fd7-89c7-8e911ca823e7 button.colab-df-convert');\n",
              "        buttonEl.style.display =\n",
              "          google.colab.kernel.accessAllowed ? 'block' : 'none';\n",
              "\n",
              "        async function convertToInteractive(key) {\n",
              "          const element = document.querySelector('#df-d4a1723a-e3d6-4fd7-89c7-8e911ca823e7');\n",
              "          const dataTable =\n",
              "            await google.colab.kernel.invokeFunction('convertToInteractive',\n",
              "                                                     [key], {});\n",
              "          if (!dataTable) return;\n",
              "\n",
              "          const docLinkHtml = 'Like what you see? Visit the ' +\n",
              "            '<a target=\"_blank\" href=https://colab.research.google.com/notebooks/data_table.ipynb>data table notebook</a>'\n",
              "            + ' to learn more about interactive tables.';\n",
              "          element.innerHTML = '';\n",
              "          dataTable['output_type'] = 'display_data';\n",
              "          await google.colab.output.renderOutput(dataTable, element);\n",
              "          const docLink = document.createElement('div');\n",
              "          docLink.innerHTML = docLinkHtml;\n",
              "          element.appendChild(docLink);\n",
              "        }\n",
              "      </script>\n",
              "    </div>\n",
              "  </div>\n",
              "  "
            ]
          },
          "metadata": {},
          "execution_count": 5
        }
      ],
      "source": [
        "## Tuliskan Code disini.\n",
        "Owner_Type = Encode.fit_transform(dataSatu['owner'])\n",
        "dataSatu['owner'] = Owner_Type\n",
        "\n",
        "# Year_Type = Encode.fit_transform(dataSatu['year'])\n",
        "# dataSatu['year'] = Year_Type\n",
        "\n",
        "dataSatu.head()\n"
      ],
      "id": "3ca9502f-0c19-4aa8-9cea-bf9b29911317"
    },
    {
      "cell_type": "markdown",
      "metadata": {
        "id": "3e1dc475-7e17-4e11-b231-354786067adf"
      },
      "source": [
        "#### 4. Analisa data secara singkat"
      ],
      "id": "3e1dc475-7e17-4e11-b231-354786067adf"
    },
    {
      "cell_type": "markdown",
      "metadata": {
        "id": "7d3aa3be-ac2e-4627-ad8b-63da673711cd"
      },
      "source": [
        "##### 4.1. Plot data owner VS  harga mobil second(Selling Price)\n",
        "Plot target  (harga mobil second(Selling Price)) terhadap owner menggunakan seaborn library atau matplotlib"
      ],
      "id": "7d3aa3be-ac2e-4627-ad8b-63da673711cd"
    },
    {
      "cell_type": "code",
      "execution_count": null,
      "metadata": {
        "colab": {
          "base_uri": "https://localhost:8080/",
          "height": 387
        },
        "id": "rz-A4CpvmkSc",
        "outputId": "7dd4af54-fb20-41a0-afb0-01912077bb17"
      },
      "outputs": [
        {
          "output_type": "execute_result",
          "data": {
            "text/plain": [
              "<function matplotlib.pyplot.show(close=None, block=None)>"
            ]
          },
          "metadata": {},
          "execution_count": 6
        },
        {
          "output_type": "display_data",
          "data": {
            "text/plain": [
              "<Figure size 1000x500 with 1 Axes>"
            ],
            "image/png": "[encoded data removed]"
          },
          "metadata": {}
        }
      ],
      "source": [
        "import matplotlib.pyplot as plt\n",
        "%matplotlib inline\n",
        "\n",
        "x = dataSatu['owner']\n",
        "y = dataSatu['selling_price']\n",
        "\n",
        "plt.figure(figsize=(10,5))\n",
        "plt.plot(x,y,\".b\")\n",
        "plt.show"
      ],
      "id": "rz-A4CpvmkSc"
    },
    {
      "cell_type": "markdown",
      "metadata": {
        "id": "78e2d067-5789-4cc3-8634-cd98e12b0e8e"
      },
      "source": [
        "##### 4.2. Plot data fitur pilihan 1 VS  harga mobil second(Selling Price)\n",
        "Plot target  (harga mobil second(Selling Price)) terhadap fitur pilihan 1 menggunakan seaborn library atau matplotlib"
      ],
      "id": "78e2d067-5789-4cc3-8634-cd98e12b0e8e"
    },
    {
      "cell_type": "code",
      "execution_count": null,
      "metadata": {
        "colab": {
          "base_uri": "https://localhost:8080/",
          "height": 387
        },
        "id": "HoZcxQcxs5Ka",
        "outputId": "ad1ffed0-9324-482e-baa4-3c054aa6ffbf"
      },
      "outputs": [
        {
          "output_type": "execute_result",
          "data": {
            "text/plain": [
              "<function matplotlib.pyplot.show(close=None, block=None)>"
            ]
          },
          "metadata": {},
          "execution_count": 7
        },
        {
          "output_type": "display_data",
          "data": {
            "text/plain": [
              "<Figure size 1000x500 with 1 Axes>"
            ],
            "image/png": "[encoded data removed]"
          },
          "metadata": {}
        }
      ],
      "source": [
        "x = dataSatu['year']\n",
        "y = dataSatu['selling_price']\n",
        "\n",
        "plt.figure(figsize=(10,5))\n",
        "plt.plot(x,y,\".b\")\n",
        "plt.show"
      ],
      "id": "HoZcxQcxs5Ka"
    },
    {
      "cell_type": "markdown",
      "metadata": {
        "id": "f87e318c-0c68-4d72-818a-8701fed5b99f"
      },
      "source": [
        "##### 4.3. Plot data fitur pilihan 2 VS  harga mobil second(Selling Price)\n",
        "Plot target  (harga mobil second(Selling Price)) terhadap fitur pilihan 1 menggunakan seaborn library atau matplotlib"
      ],
      "id": "f87e318c-0c68-4d72-818a-8701fed5b99f"
    },
    {
      "cell_type": "code",
      "execution_count": null,
      "metadata": {
        "colab": {
          "base_uri": "https://localhost:8080/",
          "height": 387
        },
        "id": "aJLbvgIrs9ns",
        "outputId": "4bac8226-590b-44c8-f03e-b6f4f6206f63"
      },
      "outputs": [
        {
          "output_type": "execute_result",
          "data": {
            "text/plain": [
              "<function matplotlib.pyplot.show(close=None, block=None)>"
            ]
          },
          "metadata": {},
          "execution_count": 8
        },
        {
          "output_type": "display_data",
          "data": {
            "text/plain": [
              "<Figure size 1000x500 with 1 Axes>"
            ],
            "image/png": "[encoded data removed]"
          },
          "metadata": {}
        }
      ],
      "source": [
        "x = dataSatu['fuel']\n",
        "y = dataSatu['selling_price']\n",
        "\n",
        "plt.figure(figsize=(10,5))\n",
        "plt.plot(x,y,\".b\")\n",
        "plt.show"
      ],
      "id": "aJLbvgIrs9ns"
    },
    {
      "cell_type": "markdown",
      "metadata": {
        "id": "9a15dd0e-f72a-4071-ae3e-f1bc0f888d38"
      },
      "source": [
        "##### 4.4. Plot data fitur pilihan 3 VS  harga mobil second(Selling Price)\n",
        "Plot target  (harga mobil second(Selling Price)) terhadap fitur pilihan 3 menggunakan seaborn library atau matplotlib"
      ],
      "id": "9a15dd0e-f72a-4071-ae3e-f1bc0f888d38"
    },
    {
      "cell_type": "code",
      "execution_count": null,
      "metadata": {
        "id": "ff5af188-5bad-402c-9fc4-5d39788c42a8"
      },
      "outputs": [],
      "source": [
        "#plot dengan data ketentuan\n",
        "#x=fitur\n",
        "#y=harga mobil second(Selling Price)\n",
        "\n"
      ],
      "id": "ff5af188-5bad-402c-9fc4-5d39788c42a8"
    },
    {
      "cell_type": "markdown",
      "metadata": {
        "id": "0d0b42c7-0734-4039-97ce-e24eb5145ec7"
      },
      "source": [
        "#### 5. Apa pendapat Anda dari grafik di atas?"
      ],
      "id": "0d0b42c7-0734-4039-97ce-e24eb5145ec7"
    },
    {
      "cell_type": "markdown",
      "metadata": {
        "id": "WCI11tbZycnb"
      },
      "source": [
        "plot dari beberapa fitur terhadap harga mobil agak sedikit rancu, dikarenakan penyebaran datanya kurang bagus sehingga hasilnya belum tentu akan optimal jika di prediksi masing masing fiturnya, tergantung prediksi harga terhadap fiturnya."
      ],
      "id": "WCI11tbZycnb"
    },
    {
      "cell_type": "markdown",
      "metadata": {
        "id": "450d716c-d9b7-48c3-8537-236cb1ea5a30"
      },
      "source": [
        "#### 6. Pemodelan Regresi Linier"
      ],
      "id": "450d716c-d9b7-48c3-8537-236cb1ea5a30"
    },
    {
      "cell_type": "code",
      "execution_count": null,
      "metadata": {
        "colab": {
          "base_uri": "https://localhost:8080/",
          "height": 75
        },
        "id": "TrPUS41EtIXS",
        "outputId": "a6023770-f6da-454d-a672-d69535c9b605"
      },
      "outputs": [
        {
          "output_type": "execute_result",
          "data": {
            "text/plain": [
              "LinearRegression()"
            ],
            "text/html": [
              "<style>#sk-container-id-2 {color: black;background-color: white;}#sk-container-id-2 pre{padding: 0;}#sk-container-id-2 div.sk-toggleable {background-color: white;}#sk-container-id-2 label.sk-toggleable__label {cursor: pointer;display: block;width: 100%;margin-bottom: 0;padding: 0.3em;box-sizing: border-box;text-align: center;}#sk-container-id-2 label.sk-toggleable__label-arrow:before {content: \"▸\";float: left;margin-right: 0.25em;color: #696969;}#sk-container-id-2 label.sk-toggleable__label-arrow:hover:before {color: black;}#sk-container-id-2 div.sk-estimator:hover label.sk-toggleable__label-arrow:before {color: black;}#sk-container-id-2 div.sk-toggleable__content {max-height: 0;max-width: 0;overflow: hidden;text-align: left;background-color: #f0f8ff;}#sk-container-id-2 div.sk-toggleable__content pre {margin: 0.2em;color: black;border-radius: 0.25em;background-color: #f0f8ff;}#sk-container-id-2 input.sk-toggleable__control:checked~div.sk-toggleable__content {max-height: 200px;max-width: 100%;overflow: auto;}#sk-container-id-2 input.sk-toggleable__control:checked~label.sk-toggleable__label-arrow:before {content: \"▾\";}#sk-container-id-2 div.sk-estimator input.sk-toggleable__control:checked~label.sk-toggleable__label {background-color: #d4ebff;}#sk-container-id-2 div.sk-label input.sk-toggleable__control:checked~label.sk-toggleable__label {background-color: #d4ebff;}#sk-container-id-2 input.sk-hidden--visually {border: 0;clip: rect(1px 1px 1px 1px);clip: rect(1px, 1px, 1px, 1px);height: 1px;margin: -1px;overflow: hidden;padding: 0;position: absolute;width: 1px;}#sk-container-id-2 div.sk-estimator {font-family: monospace;background-color: #f0f8ff;border: 1px dotted black;border-radius: 0.25em;box-sizing: border-box;margin-bottom: 0.5em;}#sk-container-id-2 div.sk-estimator:hover {background-color: #d4ebff;}#sk-container-id-2 div.sk-parallel-item::after {content: \"\";width: 100%;border-bottom: 1px solid gray;flex-grow: 1;}#sk-container-id-2 div.sk-label:hover label.sk-toggleable__label {background-color: #d4ebff;}#sk-container-id-2 div.sk-serial::before {content: \"\";position: absolute;border-left: 1px solid gray;box-sizing: border-box;top: 0;bottom: 0;left: 50%;z-index: 0;}#sk-container-id-2 div.sk-serial {display: flex;flex-direction: column;align-items: center;background-color: white;padding-right: 0.2em;padding-left: 0.2em;position: relative;}#sk-container-id-2 div.sk-item {position: relative;z-index: 1;}#sk-container-id-2 div.sk-parallel {display: flex;align-items: stretch;justify-content: center;background-color: white;position: relative;}#sk-container-id-2 div.sk-item::before, #sk-container-id-2 div.sk-parallel-item::before {content: \"\";position: absolute;border-left: 1px solid gray;box-sizing: border-box;top: 0;bottom: 0;left: 50%;z-index: -1;}#sk-container-id-2 div.sk-parallel-item {display: flex;flex-direction: column;z-index: 1;position: relative;background-color: white;}#sk-container-id-2 div.sk-parallel-item:first-child::after {align-self: flex-end;width: 50%;}#sk-container-id-2 div.sk-parallel-item:last-child::after {align-self: flex-start;width: 50%;}#sk-container-id-2 div.sk-parallel-item:only-child::after {width: 0;}#sk-container-id-2 div.sk-dashed-wrapped {border: 1px dashed gray;margin: 0 0.4em 0.5em 0.4em;box-sizing: border-box;padding-bottom: 0.4em;background-color: white;}#sk-container-id-2 div.sk-label label {font-family: monospace;font-weight: bold;display: inline-block;line-height: 1.2em;}#sk-container-id-2 div.sk-label-container {text-align: center;}#sk-container-id-2 div.sk-container {/* jupyter's `normalize.less` sets `[hidden] { display: none; }` but bootstrap.min.css set `[hidden] { display: none !important; }` so we also need the `!important` here to be able to override the default hidden behavior on the sphinx rendered scikit-learn.org. See: https://github.com/scikit-learn/scikit-learn/issues/21755 */display: inline-block !important;position: relative;}#sk-container-id-2 div.sk-text-repr-fallback {display: none;}</style><div id=\"sk-container-id-2\" class=\"sk-top-container\"><div class=\"sk-text-repr-fallback\"><pre>LinearRegression()</pre><b>In a Jupyter environment, please rerun this cell to show the HTML representation or trust the notebook. <br />On GitHub, the HTML representation is unable to render, please try loading this page with nbviewer.org.</b></div><div class=\"sk-container\" hidden><div class=\"sk-item\"><div class=\"sk-estimator sk-toggleable\"><input class=\"sk-toggleable__control sk-hidden--visually\" id=\"sk-estimator-id-2\" type=\"checkbox\" checked><label for=\"sk-estimator-id-2\" class=\"sk-toggleable__label sk-toggleable__label-arrow\">LinearRegression</label><div class=\"sk-toggleable__content\"><pre>LinearRegression()</pre></div></div></div></div></div>"
            ]
          },
          "metadata": {},
          "execution_count": 11
        }
      ],
      "source": [
        "# Import sklearn libraries untuk regresi linier dan membagi data dan model regresi\n",
        "from sklearn.linear_model import LinearRegression\n",
        "model = LinearRegression()\n",
        "model"
      ],
      "id": "TrPUS41EtIXS"
    },
    {
      "cell_type": "code",
      "execution_count": null,
      "metadata": {
        "colab": {
          "base_uri": "https://localhost:8080/"
        },
        "id": "dLisdYXRtJiZ",
        "outputId": "c1203264-d81a-4ebe-b34f-770fb619bea8"
      },
      "outputs": [
        {
          "output_type": "execute_result",
          "data": {
            "text/plain": [
              "pandas.core.frame.DataFrame"
            ]
          },
          "metadata": {},
          "execution_count": 12
        }
      ],
      "source": [
        "## Persiapkan data training X(Semua fitur pilihan) dan harga mobil second(Selling Price)\n",
        "dataSatu.head()\n",
        "fitur_1 = pd.DataFrame(dataSatu['year'])\n",
        "fitur_2 = pd.DataFrame(dataSatu['owner'])\n",
        "fitur_3 = pd.DataFrame(dataSatu['fuel'])\n",
        "\n",
        "Y = pd.DataFrame(dataSatu['selling_price'])\n",
        "\n",
        "merge = fitur_1.join(fitur_2)\n",
        "merge_data = merge.join(fitur_3)\n",
        "type(merge_data)"
      ],
      "id": "dLisdYXRtJiZ"
    },
    {
      "cell_type": "code",
      "execution_count": null,
      "metadata": {
        "colab": {
          "base_uri": "https://localhost:8080/"
        },
        "id": "aaGnz6optLjA",
        "outputId": "0402a6d0-f671-47bd-8ce7-b8295103c3cb"
      },
      "outputs": [
        {
          "output_type": "execute_result",
          "data": {
            "text/plain": [
              "(3906, 1)"
            ]
          },
          "metadata": {},
          "execution_count": 13
        }
      ],
      "source": [
        "## Bagi data menjadi training dan testing. Ratio training 90% dan testing 10%\n",
        "from sklearn.model_selection import train_test_split\n",
        "\n",
        "X_train , X_test  = train_test_split(merge_data, test_size=0.1, random_state=42)\n",
        "Y_train , Y_test = train_test_split(Y, test_size=0.1, random_state=42)\n",
        "\n",
        "Y_train.shape"
      ],
      "id": "aaGnz6optLjA"
    },
    {
      "cell_type": "code",
      "execution_count": null,
      "metadata": {
        "colab": {
          "base_uri": "https://localhost:8080/",
          "height": 75
        },
        "id": "TJecs8U6tNj0",
        "outputId": "c7412c89-6d70-4873-cb09-24eb59ce62fa"
      },
      "outputs": [
        {
          "output_type": "execute_result",
          "data": {
            "text/plain": [
              "LinearRegression()"
            ],
            "text/html": [
              "<style>#sk-container-id-3 {color: black;background-color: white;}#sk-container-id-3 pre{padding: 0;}#sk-container-id-3 div.sk-toggleable {background-color: white;}#sk-container-id-3 label.sk-toggleable__label {cursor: pointer;display: block;width: 100%;margin-bottom: 0;padding: 0.3em;box-sizing: border-box;text-align: center;}#sk-container-id-3 label.sk-toggleable__label-arrow:before {content: \"▸\";float: left;margin-right: 0.25em;color: #696969;}#sk-container-id-3 label.sk-toggleable__label-arrow:hover:before {color: black;}#sk-container-id-3 div.sk-estimator:hover label.sk-toggleable__label-arrow:before {color: black;}#sk-container-id-3 div.sk-toggleable__content {max-height: 0;max-width: 0;overflow: hidden;text-align: left;background-color: #f0f8ff;}#sk-container-id-3 div.sk-toggleable__content pre {margin: 0.2em;color: black;border-radius: 0.25em;background-color: #f0f8ff;}#sk-container-id-3 input.sk-toggleable__control:checked~div.sk-toggleable__content {max-height: 200px;max-width: 100%;overflow: auto;}#sk-container-id-3 input.sk-toggleable__control:checked~label.sk-toggleable__label-arrow:before {content: \"▾\";}#sk-container-id-3 div.sk-estimator input.sk-toggleable__control:checked~label.sk-toggleable__label {background-color: #d4ebff;}#sk-container-id-3 div.sk-label input.sk-toggleable__control:checked~label.sk-toggleable__label {background-color: #d4ebff;}#sk-container-id-3 input.sk-hidden--visually {border: 0;clip: rect(1px 1px 1px 1px);clip: rect(1px, 1px, 1px, 1px);height: 1px;margin: -1px;overflow: hidden;padding: 0;position: absolute;width: 1px;}#sk-container-id-3 div.sk-estimator {font-family: monospace;background-color: #f0f8ff;border: 1px dotted black;border-radius: 0.25em;box-sizing: border-box;margin-bottom: 0.5em;}#sk-container-id-3 div.sk-estimator:hover {background-color: #d4ebff;}#sk-container-id-3 div.sk-parallel-item::after {content: \"\";width: 100%;border-bottom: 1px solid gray;flex-grow: 1;}#sk-container-id-3 div.sk-label:hover label.sk-toggleable__label {background-color: #d4ebff;}#sk-container-id-3 div.sk-serial::before {content: \"\";position: absolute;border-left: 1px solid gray;box-sizing: border-box;top: 0;bottom: 0;left: 50%;z-index: 0;}#sk-container-id-3 div.sk-serial {display: flex;flex-direction: column;align-items: center;background-color: white;padding-right: 0.2em;padding-left: 0.2em;position: relative;}#sk-container-id-3 div.sk-item {position: relative;z-index: 1;}#sk-container-id-3 div.sk-parallel {display: flex;align-items: stretch;justify-content: center;background-color: white;position: relative;}#sk-container-id-3 div.sk-item::before, #sk-container-id-3 div.sk-parallel-item::before {content: \"\";position: absolute;border-left: 1px solid gray;box-sizing: border-box;top: 0;bottom: 0;left: 50%;z-index: -1;}#sk-container-id-3 div.sk-parallel-item {display: flex;flex-direction: column;z-index: 1;position: relative;background-color: white;}#sk-container-id-3 div.sk-parallel-item:first-child::after {align-self: flex-end;width: 50%;}#sk-container-id-3 div.sk-parallel-item:last-child::after {align-self: flex-start;width: 50%;}#sk-container-id-3 div.sk-parallel-item:only-child::after {width: 0;}#sk-container-id-3 div.sk-dashed-wrapped {border: 1px dashed gray;margin: 0 0.4em 0.5em 0.4em;box-sizing: border-box;padding-bottom: 0.4em;background-color: white;}#sk-container-id-3 div.sk-label label {font-family: monospace;font-weight: bold;display: inline-block;line-height: 1.2em;}#sk-container-id-3 div.sk-label-container {text-align: center;}#sk-container-id-3 div.sk-container {/* jupyter's `normalize.less` sets `[hidden] { display: none; }` but bootstrap.min.css set `[hidden] { display: none !important; }` so we also need the `!important` here to be able to override the default hidden behavior on the sphinx rendered scikit-learn.org. See: https://github.com/scikit-learn/scikit-learn/issues/21755 */display: inline-block !important;position: relative;}#sk-container-id-3 div.sk-text-repr-fallback {display: none;}</style><div id=\"sk-container-id-3\" class=\"sk-top-container\"><div class=\"sk-text-repr-fallback\"><pre>LinearRegression()</pre><b>In a Jupyter environment, please rerun this cell to show the HTML representation or trust the notebook. <br />On GitHub, the HTML representation is unable to render, please try loading this page with nbviewer.org.</b></div><div class=\"sk-container\" hidden><div class=\"sk-item\"><div class=\"sk-estimator sk-toggleable\"><input class=\"sk-toggleable__control sk-hidden--visually\" id=\"sk-estimator-id-3\" type=\"checkbox\" checked><label for=\"sk-estimator-id-3\" class=\"sk-toggleable__label sk-toggleable__label-arrow\">LinearRegression</label><div class=\"sk-toggleable__content\"><pre>LinearRegression()</pre></div></div></div></div></div>"
            ]
          },
          "metadata": {},
          "execution_count": 14
        }
      ],
      "source": [
        "## Lakukan pemodelan (fit model) dan cek hasil pada data test (dengan semua fitur)\n",
        "model.fit(X_train, Y_train)"
      ],
      "id": "TJecs8U6tNj0"
    },
    {
      "cell_type": "code",
      "execution_count": null,
      "metadata": {
        "colab": {
          "base_uri": "https://localhost:8080/"
        },
        "id": "RUmqda6F1yZH",
        "outputId": "6f436b09-295b-41f9-836c-74b75f1eb58c"
      },
      "outputs": [
        {
          "output_type": "stream",
          "name": "stdout",
          "text": [
            "[[ 50422.6093891  -26134.40865219 -87721.20770877]]\n",
            "[-1.00759813e+08]\n"
          ]
        }
      ],
      "source": [
        "print(model.coef_)\n",
        "print(model.intercept_)"
      ],
      "id": "RUmqda6F1yZH"
    },
    {
      "cell_type": "code",
      "execution_count": null,
      "metadata": {
        "id": "aGIKBW6h5fm-"
      },
      "outputs": [],
      "source": [
        "#predict\n",
        "y_pred = model.predict(X_test)"
      ],
      "id": "aGIKBW6h5fm-"
    },
    {
      "cell_type": "code",
      "execution_count": null,
      "metadata": {
        "colab": {
          "base_uri": "https://localhost:8080/"
        },
        "id": "ArnDj28ttQQo",
        "outputId": "935cd9ac-8d7c-4201-c20a-5317de061add"
      },
      "outputs": [
        {
          "output_type": "stream",
          "name": "stdout",
          "text": [
            "R^2 :  -1.1390886640333306\n",
            "MAE : 235464.89260865762\n",
            "MSE: 149329819241.41068\n",
            "RMSE: 386432.1664165791\n"
          ]
        }
      ],
      "source": [
        "##  Ukur evaluasi performansi dari model di atas ( R2,MAE, MSE, RMSE)\n",
        "from sklearn.metrics import mean_absolute_error, r2_score,mean_squared_error\n",
        "\n",
        "print(\"R^2 : \", r2_score(y_pred, Y_test))\n",
        "print(\"MAE :\", mean_absolute_error(y_pred, Y_test))\n",
        "print(\"MSE:\",mean_squared_error(y_pred, Y_test))\n",
        "print(\"RMSE:\",np.sqrt(mean_squared_error(y_pred, Y_test)))"
      ],
      "id": "ArnDj28ttQQo"
    },
    {
      "cell_type": "markdown",
      "metadata": {
        "id": "02c15d09-11f1-4d55-9456-f545b1233e65"
      },
      "source": [
        "#### 7. Pemodelan Regresi Polinomial"
      ],
      "id": "02c15d09-11f1-4d55-9456-f545b1233e65"
    },
    {
      "cell_type": "code",
      "execution_count": null,
      "metadata": {
        "id": "jAkMwa4V6YYW"
      },
      "outputs": [],
      "source": [
        "## Ganti model Regresi Linier dengan Regresi Polinomial dan evaluasi model tersebut akurasi ( R2,MAE, MSE, RMSE)\n",
        "# import library\n",
        "# prepare dataset X, Y\n",
        "# split dataset\n",
        "# fit model\n",
        "# cek hasil ke data test pengukuran (MAE, MSE, RMSE)\n",
        "# lakukan fitting berapa kali dengan mengubah orde polinomial sehingga memdapatkan model terbaik\n",
        "\n"
      ],
      "id": "jAkMwa4V6YYW"
    },
    {
      "cell_type": "markdown",
      "metadata": {
        "id": "sO6UF5aREUV9"
      },
      "source": [
        "**Orde 2**"
      ],
      "id": "sO6UF5aREUV9"
    },
    {
      "cell_type": "code",
      "execution_count": null,
      "metadata": {
        "colab": {
          "base_uri": "https://localhost:8080/"
        },
        "id": "9Fchu1fKAsEy",
        "outputId": "e5d9d707-da04-463f-ee58-61756f0375c5"
      },
      "outputs": [
        {
          "output_type": "execute_result",
          "data": {
            "text/plain": [
              "(4340, 9)"
            ]
          },
          "metadata": {},
          "execution_count": 19
        }
      ],
      "source": [
        "from sklearn.preprocessing import PolynomialFeatures\n",
        "poly = PolynomialFeatures(degree=2, include_bias=False)\n",
        "X_poly = poly.fit_transform(merge_data)\n",
        "X_poly.shape"
      ],
      "id": "9Fchu1fKAsEy"
    },
    {
      "cell_type": "code",
      "execution_count": null,
      "metadata": {
        "colab": {
          "base_uri": "https://localhost:8080/"
        },
        "id": "jdy6wFObBlPx",
        "outputId": "70de6237-1a49-4f25-d856-745c27565223"
      },
      "outputs": [
        {
          "output_type": "execute_result",
          "data": {
            "text/plain": [
              "array([2.007000e+03, 0.000000e+00, 4.000000e+00, 4.028049e+06,\n",
              "       0.000000e+00, 8.028000e+03, 0.000000e+00, 0.000000e+00,\n",
              "       1.600000e+01])"
            ]
          },
          "metadata": {},
          "execution_count": 20
        }
      ],
      "source": [
        "X_poly[0]"
      ],
      "id": "jdy6wFObBlPx"
    },
    {
      "cell_type": "code",
      "execution_count": null,
      "metadata": {
        "colab": {
          "base_uri": "https://localhost:8080/"
        },
        "id": "-6tAv_BoB4kM",
        "outputId": "d1220699-cbd1-4402-ccaa-1184605cc58f"
      },
      "outputs": [
        {
          "output_type": "execute_result",
          "data": {
            "text/plain": [
              "(4340, 1)"
            ]
          },
          "metadata": {},
          "execution_count": 21
        }
      ],
      "source": [
        "Y.shape"
      ],
      "id": "-6tAv_BoB4kM"
    },
    {
      "cell_type": "code",
      "execution_count": null,
      "metadata": {
        "colab": {
          "base_uri": "https://localhost:8080/"
        },
        "id": "PkPArFipDe3d",
        "outputId": "4fc5a2bc-95b6-4a9a-8ae3-ccfd510d10c2"
      },
      "outputs": [
        {
          "output_type": "execute_result",
          "data": {
            "text/plain": [
              "(3906, 1)"
            ]
          },
          "metadata": {},
          "execution_count": 22
        }
      ],
      "source": [
        "from sklearn.model_selection import train_test_split\n",
        "\n",
        "X_train_poly , X_test_poly  = train_test_split(X_poly, test_size=0.1, random_state=42)\n",
        "Y_train_poly , Y_test_poly = train_test_split(Y, test_size=0.1, random_state=42)\n",
        "\n",
        "Y_train_poly.shape"
      ],
      "id": "PkPArFipDe3d"
    },
    {
      "cell_type": "code",
      "execution_count": null,
      "metadata": {
        "colab": {
          "base_uri": "https://localhost:8080/",
          "height": 75
        },
        "id": "XM0LuM4_BqHn",
        "outputId": "059ccc01-3217-4c80-bd92-4a3cc6d30625"
      },
      "outputs": [
        {
          "output_type": "execute_result",
          "data": {
            "text/plain": [
              "LinearRegression()"
            ],
            "text/html": [
              "<style>#sk-container-id-4 {color: black;background-color: white;}#sk-container-id-4 pre{padding: 0;}#sk-container-id-4 div.sk-toggleable {background-color: white;}#sk-container-id-4 label.sk-toggleable__label {cursor: pointer;display: block;width: 100%;margin-bottom: 0;padding: 0.3em;box-sizing: border-box;text-align: center;}#sk-container-id-4 label.sk-toggleable__label-arrow:before {content: \"▸\";float: left;margin-right: 0.25em;color: #696969;}#sk-container-id-4 label.sk-toggleable__label-arrow:hover:before {color: black;}#sk-container-id-4 div.sk-estimator:hover label.sk-toggleable__label-arrow:before {color: black;}#sk-container-id-4 div.sk-toggleable__content {max-height: 0;max-width: 0;overflow: hidden;text-align: left;background-color: #f0f8ff;}#sk-container-id-4 div.sk-toggleable__content pre {margin: 0.2em;color: black;border-radius: 0.25em;background-color: #f0f8ff;}#sk-container-id-4 input.sk-toggleable__control:checked~div.sk-toggleable__content {max-height: 200px;max-width: 100%;overflow: auto;}#sk-container-id-4 input.sk-toggleable__control:checked~label.sk-toggleable__label-arrow:before {content: \"▾\";}#sk-container-id-4 div.sk-estimator input.sk-toggleable__control:checked~label.sk-toggleable__label {background-color: #d4ebff;}#sk-container-id-4 div.sk-label input.sk-toggleable__control:checked~label.sk-toggleable__label {background-color: #d4ebff;}#sk-container-id-4 input.sk-hidden--visually {border: 0;clip: rect(1px 1px 1px 1px);clip: rect(1px, 1px, 1px, 1px);height: 1px;margin: -1px;overflow: hidden;padding: 0;position: absolute;width: 1px;}#sk-container-id-4 div.sk-estimator {font-family: monospace;background-color: #f0f8ff;border: 1px dotted black;border-radius: 0.25em;box-sizing: border-box;margin-bottom: 0.5em;}#sk-container-id-4 div.sk-estimator:hover {background-color: #d4ebff;}#sk-container-id-4 div.sk-parallel-item::after {content: \"\";width: 100%;border-bottom: 1px solid gray;flex-grow: 1;}#sk-container-id-4 div.sk-label:hover label.sk-toggleable__label {background-color: #d4ebff;}#sk-container-id-4 div.sk-serial::before {content: \"\";position: absolute;border-left: 1px solid gray;box-sizing: border-box;top: 0;bottom: 0;left: 50%;z-index: 0;}#sk-container-id-4 div.sk-serial {display: flex;flex-direction: column;align-items: center;background-color: white;padding-right: 0.2em;padding-left: 0.2em;position: relative;}#sk-container-id-4 div.sk-item {position: relative;z-index: 1;}#sk-container-id-4 div.sk-parallel {display: flex;align-items: stretch;justify-content: center;background-color: white;position: relative;}#sk-container-id-4 div.sk-item::before, #sk-container-id-4 div.sk-parallel-item::before {content: \"\";position: absolute;border-left: 1px solid gray;box-sizing: border-box;top: 0;bottom: 0;left: 50%;z-index: -1;}#sk-container-id-4 div.sk-parallel-item {display: flex;flex-direction: column;z-index: 1;position: relative;background-color: white;}#sk-container-id-4 div.sk-parallel-item:first-child::after {align-self: flex-end;width: 50%;}#sk-container-id-4 div.sk-parallel-item:last-child::after {align-self: flex-start;width: 50%;}#sk-container-id-4 div.sk-parallel-item:only-child::after {width: 0;}#sk-container-id-4 div.sk-dashed-wrapped {border: 1px dashed gray;margin: 0 0.4em 0.5em 0.4em;box-sizing: border-box;padding-bottom: 0.4em;background-color: white;}#sk-container-id-4 div.sk-label label {font-family: monospace;font-weight: bold;display: inline-block;line-height: 1.2em;}#sk-container-id-4 div.sk-label-container {text-align: center;}#sk-container-id-4 div.sk-container {/* jupyter's `normalize.less` sets `[hidden] { display: none; }` but bootstrap.min.css set `[hidden] { display: none !important; }` so we also need the `!important` here to be able to override the default hidden behavior on the sphinx rendered scikit-learn.org. See: https://github.com/scikit-learn/scikit-learn/issues/21755 */display: inline-block !important;position: relative;}#sk-container-id-4 div.sk-text-repr-fallback {display: none;}</style><div id=\"sk-container-id-4\" class=\"sk-top-container\"><div class=\"sk-text-repr-fallback\"><pre>LinearRegression()</pre><b>In a Jupyter environment, please rerun this cell to show the HTML representation or trust the notebook. <br />On GitHub, the HTML representation is unable to render, please try loading this page with nbviewer.org.</b></div><div class=\"sk-container\" hidden><div class=\"sk-item\"><div class=\"sk-estimator sk-toggleable\"><input class=\"sk-toggleable__control sk-hidden--visually\" id=\"sk-estimator-id-4\" type=\"checkbox\" checked><label for=\"sk-estimator-id-4\" class=\"sk-toggleable__label sk-toggleable__label-arrow\">LinearRegression</label><div class=\"sk-toggleable__content\"><pre>LinearRegression()</pre></div></div></div></div></div>"
            ]
          },
          "metadata": {},
          "execution_count": 23
        }
      ],
      "source": [
        "from sklearn.linear_model import LinearRegression\n",
        "lin_reg_model = LinearRegression()\n",
        "lin_reg_model.fit(X_train_poly,Y_train_poly)"
      ],
      "id": "XM0LuM4_BqHn"
    },
    {
      "cell_type": "code",
      "execution_count": null,
      "metadata": {
        "colab": {
          "base_uri": "https://localhost:8080/"
        },
        "id": "C1DXVWxVC_LI",
        "outputId": "719c6c4f-e3af-4eb6-92d8-16a18c581625"
      },
      "outputs": [
        {
          "output_type": "execute_result",
          "data": {
            "text/plain": [
              "(array([1.21895622e+10]),\n",
              " array([[-1.22228103e+07,  1.07457667e+07,  3.10029879e+07,\n",
              "          3.06384852e+03, -5.35696978e+03, -1.51928782e+04,\n",
              "          1.40822301e+03,  3.75118264e+03, -1.04001528e+05]]))"
            ]
          },
          "metadata": {},
          "execution_count": 24
        }
      ],
      "source": [
        "lin_reg_model.intercept_ , lin_reg_model.coef_"
      ],
      "id": "C1DXVWxVC_LI"
    },
    {
      "cell_type": "code",
      "execution_count": null,
      "metadata": {
        "id": "lUGat1-kDH4R"
      },
      "outputs": [],
      "source": [
        "y_pred_poly = lin_reg_model.predict(X_test_poly)"
      ],
      "id": "lUGat1-kDH4R"
    },
    {
      "cell_type": "code",
      "execution_count": null,
      "metadata": {
        "colab": {
          "base_uri": "https://localhost:8080/"
        },
        "id": "7fZESpujEKLp",
        "outputId": "1cf7bb6d-ed14-4c82-da91-346befeb8c26"
      },
      "outputs": [
        {
          "output_type": "stream",
          "name": "stdout",
          "text": [
            "R^2 :  -0.47469877414208717\n",
            "MAE : 223524.0596069916\n",
            "MSE: 143540186708.25647\n",
            "RMSE: 378866.97759009886\n"
          ]
        }
      ],
      "source": [
        "print(\"R^2 : \", r2_score(y_pred_poly, Y_test_poly))\n",
        "print(\"MAE :\", mean_absolute_error(y_pred_poly, Y_test_poly))\n",
        "print(\"MSE:\",mean_squared_error(y_pred_poly, Y_test_poly))\n",
        "print(\"RMSE:\",np.sqrt(mean_squared_error(y_pred_poly, Y_test_poly)))"
      ],
      "id": "7fZESpujEKLp"
    },
    {
      "cell_type": "markdown",
      "metadata": {
        "id": "IEaYdJ_dEWqU"
      },
      "source": [
        "**Orde 3**"
      ],
      "id": "IEaYdJ_dEWqU"
    },
    {
      "cell_type": "code",
      "execution_count": null,
      "metadata": {
        "colab": {
          "base_uri": "https://localhost:8080/"
        },
        "id": "KLyKUTnKEX6x",
        "outputId": "e95c9702-e1f4-48ae-957d-4ff01db184d9"
      },
      "outputs": [
        {
          "output_type": "execute_result",
          "data": {
            "text/plain": [
              "(4340, 19)"
            ]
          },
          "metadata": {},
          "execution_count": 27
        }
      ],
      "source": [
        "from sklearn.preprocessing import PolynomialFeatures\n",
        "poly = PolynomialFeatures(degree=3, include_bias=False)\n",
        "X_poly_3 = poly.fit_transform(merge_data)\n",
        "X_poly_3.shape"
      ],
      "id": "KLyKUTnKEX6x"
    },
    {
      "cell_type": "code",
      "execution_count": null,
      "metadata": {
        "colab": {
          "base_uri": "https://localhost:8080/"
        },
        "id": "AbZ1fR3uEeIc",
        "outputId": "d79fc793-a343-4908-d75c-b3eb9dc780a8"
      },
      "outputs": [
        {
          "output_type": "execute_result",
          "data": {
            "text/plain": [
              "(3906, 1)"
            ]
          },
          "metadata": {},
          "execution_count": 28
        }
      ],
      "source": [
        "from sklearn.model_selection import train_test_split\n",
        "\n",
        "X_train_poly_3 , X_test_poly_3  = train_test_split(X_poly_3, test_size=0.1, random_state=42)\n",
        "Y_train_poly_3 , Y_test_poly_3 = train_test_split(Y, test_size=0.1, random_state=42)\n",
        "\n",
        "Y_train_poly_3.shape"
      ],
      "id": "AbZ1fR3uEeIc"
    },
    {
      "cell_type": "code",
      "execution_count": null,
      "metadata": {
        "colab": {
          "base_uri": "https://localhost:8080/",
          "height": 75
        },
        "id": "g-fFZVGjEr2Z",
        "outputId": "bba80ef3-0528-4df3-c13b-390d756b7b5c"
      },
      "outputs": [
        {
          "output_type": "execute_result",
          "data": {
            "text/plain": [
              "LinearRegression()"
            ],
            "text/html": [
              "<style>#sk-container-id-5 {color: black;background-color: white;}#sk-container-id-5 pre{padding: 0;}#sk-container-id-5 div.sk-toggleable {background-color: white;}#sk-container-id-5 label.sk-toggleable__label {cursor: pointer;display: block;width: 100%;margin-bottom: 0;padding: 0.3em;box-sizing: border-box;text-align: center;}#sk-container-id-5 label.sk-toggleable__label-arrow:before {content: \"▸\";float: left;margin-right: 0.25em;color: #696969;}#sk-container-id-5 label.sk-toggleable__label-arrow:hover:before {color: black;}#sk-container-id-5 div.sk-estimator:hover label.sk-toggleable__label-arrow:before {color: black;}#sk-container-id-5 div.sk-toggleable__content {max-height: 0;max-width: 0;overflow: hidden;text-align: left;background-color: #f0f8ff;}#sk-container-id-5 div.sk-toggleable__content pre {margin: 0.2em;color: black;border-radius: 0.25em;background-color: #f0f8ff;}#sk-container-id-5 input.sk-toggleable__control:checked~div.sk-toggleable__content {max-height: 200px;max-width: 100%;overflow: auto;}#sk-container-id-5 input.sk-toggleable__control:checked~label.sk-toggleable__label-arrow:before {content: \"▾\";}#sk-container-id-5 div.sk-estimator input.sk-toggleable__control:checked~label.sk-toggleable__label {background-color: #d4ebff;}#sk-container-id-5 div.sk-label input.sk-toggleable__control:checked~label.sk-toggleable__label {background-color: #d4ebff;}#sk-container-id-5 input.sk-hidden--visually {border: 0;clip: rect(1px 1px 1px 1px);clip: rect(1px, 1px, 1px, 1px);height: 1px;margin: -1px;overflow: hidden;padding: 0;position: absolute;width: 1px;}#sk-container-id-5 div.sk-estimator {font-family: monospace;background-color: #f0f8ff;border: 1px dotted black;border-radius: 0.25em;box-sizing: border-box;margin-bottom: 0.5em;}#sk-container-id-5 div.sk-estimator:hover {background-color: #d4ebff;}#sk-container-id-5 div.sk-parallel-item::after {content: \"\";width: 100%;border-bottom: 1px solid gray;flex-grow: 1;}#sk-container-id-5 div.sk-label:hover label.sk-toggleable__label {background-color: #d4ebff;}#sk-container-id-5 div.sk-serial::before {content: \"\";position: absolute;border-left: 1px solid gray;box-sizing: border-box;top: 0;bottom: 0;left: 50%;z-index: 0;}#sk-container-id-5 div.sk-serial {display: flex;flex-direction: column;align-items: center;background-color: white;padding-right: 0.2em;padding-left: 0.2em;position: relative;}#sk-container-id-5 div.sk-item {position: relative;z-index: 1;}#sk-container-id-5 div.sk-parallel {display: flex;align-items: stretch;justify-content: center;background-color: white;position: relative;}#sk-container-id-5 div.sk-item::before, #sk-container-id-5 div.sk-parallel-item::before {content: \"\";position: absolute;border-left: 1px solid gray;box-sizing: border-box;top: 0;bottom: 0;left: 50%;z-index: -1;}#sk-container-id-5 div.sk-parallel-item {display: flex;flex-direction: column;z-index: 1;position: relative;background-color: white;}#sk-container-id-5 div.sk-parallel-item:first-child::after {align-self: flex-end;width: 50%;}#sk-container-id-5 div.sk-parallel-item:last-child::after {align-self: flex-start;width: 50%;}#sk-container-id-5 div.sk-parallel-item:only-child::after {width: 0;}#sk-container-id-5 div.sk-dashed-wrapped {border: 1px dashed gray;margin: 0 0.4em 0.5em 0.4em;box-sizing: border-box;padding-bottom: 0.4em;background-color: white;}#sk-container-id-5 div.sk-label label {font-family: monospace;font-weight: bold;display: inline-block;line-height: 1.2em;}#sk-container-id-5 div.sk-label-container {text-align: center;}#sk-container-id-5 div.sk-container {/* jupyter's `normalize.less` sets `[hidden] { display: none; }` but bootstrap.min.css set `[hidden] { display: none !important; }` so we also need the `!important` here to be able to override the default hidden behavior on the sphinx rendered scikit-learn.org. See: https://github.com/scikit-learn/scikit-learn/issues/21755 */display: inline-block !important;position: relative;}#sk-container-id-5 div.sk-text-repr-fallback {display: none;}</style><div id=\"sk-container-id-5\" class=\"sk-top-container\"><div class=\"sk-text-repr-fallback\"><pre>LinearRegression()</pre><b>In a Jupyter environment, please rerun this cell to show the HTML representation or trust the notebook. <br />On GitHub, the HTML representation is unable to render, please try loading this page with nbviewer.org.</b></div><div class=\"sk-container\" hidden><div class=\"sk-item\"><div class=\"sk-estimator sk-toggleable\"><input class=\"sk-toggleable__control sk-hidden--visually\" id=\"sk-estimator-id-5\" type=\"checkbox\" checked><label for=\"sk-estimator-id-5\" class=\"sk-toggleable__label sk-toggleable__label-arrow\">LinearRegression</label><div class=\"sk-toggleable__content\"><pre>LinearRegression()</pre></div></div></div></div></div>"
            ]
          },
          "metadata": {},
          "execution_count": 29
        }
      ],
      "source": [
        "from sklearn.linear_model import LinearRegression\n",
        "lin_reg_model3 = LinearRegression()\n",
        "lin_reg_model3.fit(X_train_poly_3,Y_train_poly_3)"
      ],
      "id": "g-fFZVGjEr2Z"
    },
    {
      "cell_type": "code",
      "execution_count": null,
      "metadata": {
        "id": "9zXHJ5BGEyso"
      },
      "outputs": [],
      "source": [
        "y_pred_poly_3 = lin_reg_model3.predict(X_test_poly_3)"
      ],
      "id": "9zXHJ5BGEyso"
    },
    {
      "cell_type": "code",
      "execution_count": null,
      "metadata": {
        "colab": {
          "base_uri": "https://localhost:8080/"
        },
        "id": "uGCqNYPlE49c",
        "outputId": "90e063fb-3176-453b-c52a-a75d9d63962b"
      },
      "outputs": [
        {
          "output_type": "stream",
          "name": "stdout",
          "text": [
            "R^2 :  -0.47615489268305433\n",
            "MAE : 219449.66773726643\n",
            "MSE: 142484441464.02213\n",
            "RMSE: 377471.1134166721\n"
          ]
        }
      ],
      "source": [
        "print(\"R^2 : \", r2_score(y_pred_poly_3, Y_test_poly_3))\n",
        "print(\"MAE :\", mean_absolute_error(y_pred_poly_3, Y_test_poly_3))\n",
        "print(\"MSE:\",mean_squared_error(y_pred_poly_3, Y_test_poly_3))\n",
        "print(\"RMSE:\",np.sqrt(mean_squared_error(y_pred_poly_3, Y_test_poly_3)))"
      ],
      "id": "uGCqNYPlE49c"
    },
    {
      "cell_type": "markdown",
      "metadata": {
        "id": "iIH2W0z5FmFW"
      },
      "source": [
        "**Orde 5**"
      ],
      "id": "iIH2W0z5FmFW"
    },
    {
      "cell_type": "code",
      "execution_count": null,
      "metadata": {
        "colab": {
          "base_uri": "https://localhost:8080/"
        },
        "id": "91KwujIIFnSH",
        "outputId": "509d4db5-d220-4ef6-c9c8-f4bb844e2f6c"
      },
      "outputs": [
        {
          "output_type": "execute_result",
          "data": {
            "text/plain": [
              "(4340, 55)"
            ]
          },
          "metadata": {},
          "execution_count": 32
        }
      ],
      "source": [
        "from sklearn.preprocessing import PolynomialFeatures\n",
        "poly = PolynomialFeatures(degree=5, include_bias=False)\n",
        "X_poly_5 = poly.fit_transform(merge_data)\n",
        "X_poly_5.shape"
      ],
      "id": "91KwujIIFnSH"
    },
    {
      "cell_type": "code",
      "execution_count": null,
      "metadata": {
        "colab": {
          "base_uri": "https://localhost:8080/"
        },
        "id": "empBEZDAFuSE",
        "outputId": "ef5c6307-cd28-4c09-d187-08f106d7b6e9"
      },
      "outputs": [
        {
          "output_type": "execute_result",
          "data": {
            "text/plain": [
              "(3906, 1)"
            ]
          },
          "metadata": {},
          "execution_count": 33
        }
      ],
      "source": [
        "from sklearn.model_selection import train_test_split\n",
        "\n",
        "X_train_poly_5 , X_test_poly_5  = train_test_split(X_poly_5, test_size=0.1, random_state=42)\n",
        "Y_train_poly_5 , Y_test_poly_5 = train_test_split(Y, test_size=0.1, random_state=42)\n",
        "\n",
        "Y_train_poly_5.shape"
      ],
      "id": "empBEZDAFuSE"
    },
    {
      "cell_type": "code",
      "execution_count": null,
      "metadata": {
        "colab": {
          "base_uri": "https://localhost:8080/",
          "height": 75
        },
        "id": "K1orP8nOFzPZ",
        "outputId": "7538dc8e-81cc-47e6-c0ba-4e586e18b6a8"
      },
      "outputs": [
        {
          "output_type": "execute_result",
          "data": {
            "text/plain": [
              "LinearRegression()"
            ],
            "text/html": [
              "<style>#sk-container-id-6 {color: black;background-color: white;}#sk-container-id-6 pre{padding: 0;}#sk-container-id-6 div.sk-toggleable {background-color: white;}#sk-container-id-6 label.sk-toggleable__label {cursor: pointer;display: block;width: 100%;margin-bottom: 0;padding: 0.3em;box-sizing: border-box;text-align: center;}#sk-container-id-6 label.sk-toggleable__label-arrow:before {content: \"▸\";float: left;margin-right: 0.25em;color: #696969;}#sk-container-id-6 label.sk-toggleable__label-arrow:hover:before {color: black;}#sk-container-id-6 div.sk-estimator:hover label.sk-toggleable__label-arrow:before {color: black;}#sk-container-id-6 div.sk-toggleable__content {max-height: 0;max-width: 0;overflow: hidden;text-align: left;background-color: #f0f8ff;}#sk-container-id-6 div.sk-toggleable__content pre {margin: 0.2em;color: black;border-radius: 0.25em;background-color: #f0f8ff;}#sk-container-id-6 input.sk-toggleable__control:checked~div.sk-toggleable__content {max-height: 200px;max-width: 100%;overflow: auto;}#sk-container-id-6 input.sk-toggleable__control:checked~label.sk-toggleable__label-arrow:before {content: \"▾\";}#sk-container-id-6 div.sk-estimator input.sk-toggleable__control:checked~label.sk-toggleable__label {background-color: #d4ebff;}#sk-container-id-6 div.sk-label input.sk-toggleable__control:checked~label.sk-toggleable__label {background-color: #d4ebff;}#sk-container-id-6 input.sk-hidden--visually {border: 0;clip: rect(1px 1px 1px 1px);clip: rect(1px, 1px, 1px, 1px);height: 1px;margin: -1px;overflow: hidden;padding: 0;position: absolute;width: 1px;}#sk-container-id-6 div.sk-estimator {font-family: monospace;background-color: #f0f8ff;border: 1px dotted black;border-radius: 0.25em;box-sizing: border-box;margin-bottom: 0.5em;}#sk-container-id-6 div.sk-estimator:hover {background-color: #d4ebff;}#sk-container-id-6 div.sk-parallel-item::after {content: \"\";width: 100%;border-bottom: 1px solid gray;flex-grow: 1;}#sk-container-id-6 div.sk-label:hover label.sk-toggleable__label {background-color: #d4ebff;}#sk-container-id-6 div.sk-serial::before {content: \"\";position: absolute;border-left: 1px solid gray;box-sizing: border-box;top: 0;bottom: 0;left: 50%;z-index: 0;}#sk-container-id-6 div.sk-serial {display: flex;flex-direction: column;align-items: center;background-color: white;padding-right: 0.2em;padding-left: 0.2em;position: relative;}#sk-container-id-6 div.sk-item {position: relative;z-index: 1;}#sk-container-id-6 div.sk-parallel {display: flex;align-items: stretch;justify-content: center;background-color: white;position: relative;}#sk-container-id-6 div.sk-item::before, #sk-container-id-6 div.sk-parallel-item::before {content: \"\";position: absolute;border-left: 1px solid gray;box-sizing: border-box;top: 0;bottom: 0;left: 50%;z-index: -1;}#sk-container-id-6 div.sk-parallel-item {display: flex;flex-direction: column;z-index: 1;position: relative;background-color: white;}#sk-container-id-6 div.sk-parallel-item:first-child::after {align-self: flex-end;width: 50%;}#sk-container-id-6 div.sk-parallel-item:last-child::after {align-self: flex-start;width: 50%;}#sk-container-id-6 div.sk-parallel-item:only-child::after {width: 0;}#sk-container-id-6 div.sk-dashed-wrapped {border: 1px dashed gray;margin: 0 0.4em 0.5em 0.4em;box-sizing: border-box;padding-bottom: 0.4em;background-color: white;}#sk-container-id-6 div.sk-label label {font-family: monospace;font-weight: bold;display: inline-block;line-height: 1.2em;}#sk-container-id-6 div.sk-label-container {text-align: center;}#sk-container-id-6 div.sk-container {/* jupyter's `normalize.less` sets `[hidden] { display: none; }` but bootstrap.min.css set `[hidden] { display: none !important; }` so we also need the `!important` here to be able to override the default hidden behavior on the sphinx rendered scikit-learn.org. See: https://github.com/scikit-learn/scikit-learn/issues/21755 */display: inline-block !important;position: relative;}#sk-container-id-6 div.sk-text-repr-fallback {display: none;}</style><div id=\"sk-container-id-6\" class=\"sk-top-container\"><div class=\"sk-text-repr-fallback\"><pre>LinearRegression()</pre><b>In a Jupyter environment, please rerun this cell to show the HTML representation or trust the notebook. <br />On GitHub, the HTML representation is unable to render, please try loading this page with nbviewer.org.</b></div><div class=\"sk-container\" hidden><div class=\"sk-item\"><div class=\"sk-estimator sk-toggleable\"><input class=\"sk-toggleable__control sk-hidden--visually\" id=\"sk-estimator-id-6\" type=\"checkbox\" checked><label for=\"sk-estimator-id-6\" class=\"sk-toggleable__label sk-toggleable__label-arrow\">LinearRegression</label><div class=\"sk-toggleable__content\"><pre>LinearRegression()</pre></div></div></div></div></div>"
            ]
          },
          "metadata": {},
          "execution_count": 34
        }
      ],
      "source": [
        "from sklearn.linear_model import LinearRegression\n",
        "lin_reg_model5 = LinearRegression()\n",
        "lin_reg_model5.fit(X_train_poly_5,Y_train_poly_5)"
      ],
      "id": "K1orP8nOFzPZ"
    },
    {
      "cell_type": "code",
      "execution_count": null,
      "metadata": {
        "id": "Ws_2XvZ1F4BB"
      },
      "outputs": [],
      "source": [
        "y_pred_poly_5 = lin_reg_model5.predict(X_test_poly_5)"
      ],
      "id": "Ws_2XvZ1F4BB"
    },
    {
      "cell_type": "code",
      "execution_count": null,
      "metadata": {
        "colab": {
          "base_uri": "https://localhost:8080/"
        },
        "id": "MY9Rygf1F7tr",
        "outputId": "ffe3bb33-9ced-42f5-c188-1a5de6aa699e"
      },
      "outputs": [
        {
          "output_type": "stream",
          "name": "stdout",
          "text": [
            "R^2 :  -0.4638654067683132\n",
            "MAE : 219506.51424005395\n",
            "MSE: 142908291559.36218\n",
            "RMSE: 378032.13032672525\n"
          ]
        }
      ],
      "source": [
        "print(\"R^2 : \", r2_score(y_pred_poly_5, Y_test_poly_5))\n",
        "print(\"MAE :\", mean_absolute_error(y_pred_poly_5, Y_test_poly_5))\n",
        "print(\"MSE:\",mean_squared_error(y_pred_poly_5, Y_test_poly_5))\n",
        "print(\"RMSE:\",np.sqrt(mean_squared_error(y_pred_poly_5, Y_test_poly_5)))"
      ],
      "id": "MY9Rygf1F7tr"
    },
    {
      "cell_type": "code",
      "execution_count": null,
      "metadata": {
        "colab": {
          "base_uri": "https://localhost:8080/"
        },
        "id": "K-K6TAhkGF2k",
        "outputId": "72d1b4c0-48a3-469a-9971-d6a3ae54c9a0"
      },
      "outputs": [
        {
          "output_type": "stream",
          "name": "stdout",
          "text": [
            "----- orde 2 -----\n",
            "R^2 :  -0.47469877414208717\n",
            "MAE : 223524.0596069916\n",
            "MSE: 143540186708.25647\n",
            "RMSE: 378866.97759009886\n",
            "\n",
            "----- orde 3 -----\n",
            "R^2 :  -0.47615489268305433\n",
            "MAE : 219449.66773726643\n",
            "MSE: 142484441464.02213\n",
            "RMSE: 377471.1134166721\n",
            "\n",
            "----- orde 5 -----\n",
            "R^2 :  -0.4638654067683132\n",
            "MAE : 219506.51424005395\n",
            "MSE: 142908291559.36218\n",
            "RMSE: 378032.13032672525\n",
            "\n",
            "----- orde 1 / pers normal -----\n",
            "R^2 :  -1.1390886640333306\n",
            "MAE : 235464.89260865762\n",
            "MSE: 149329819241.41068\n",
            "RMSE: 386432.1664165791\n"
          ]
        }
      ],
      "source": [
        "# Perbandingan performance measure untuk regresi polinomial orde-2,orde-3 dan orde-5 dan persamaan normal\n",
        "print(\"----- orde 2 -----\")\n",
        "print(\"R^2 : \", r2_score(y_pred_poly, Y_test_poly))\n",
        "print(\"MAE :\", mean_absolute_error(y_pred_poly, Y_test_poly))\n",
        "print(\"MSE:\",mean_squared_error(y_pred_poly, Y_test_poly))\n",
        "print(\"RMSE:\",np.sqrt(mean_squared_error(y_pred_poly, Y_test_poly)))\n",
        "print(\"\")\n",
        "print(\"----- orde 3 -----\")\n",
        "print(\"R^2 : \", r2_score(y_pred_poly_3, Y_test_poly_3))\n",
        "print(\"MAE :\", mean_absolute_error(y_pred_poly_3, Y_test_poly_3))\n",
        "print(\"MSE:\",mean_squared_error(y_pred_poly_3, Y_test_poly_3))\n",
        "print(\"RMSE:\",np.sqrt(mean_squared_error(y_pred_poly_3, Y_test_poly_3)))\n",
        "print(\"\")\n",
        "print(\"----- orde 5 -----\")\n",
        "print(\"R^2 : \", r2_score(y_pred_poly_5, Y_test_poly_5))\n",
        "print(\"MAE :\", mean_absolute_error(y_pred_poly_5, Y_test_poly_5))\n",
        "print(\"MSE:\",mean_squared_error(y_pred_poly_5, Y_test_poly_5))\n",
        "print(\"RMSE:\",np.sqrt(mean_squared_error(y_pred_poly_5, Y_test_poly_5)))\n",
        "print(\"\")\n",
        "print(\"----- orde 1 / pers normal -----\")\n",
        "print(\"R^2 : \", r2_score(y_pred, Y_test))\n",
        "print(\"MAE :\", mean_absolute_error(y_pred, Y_test))\n",
        "print(\"MSE:\",mean_squared_error(y_pred, Y_test))\n",
        "print(\"RMSE:\",np.sqrt(mean_squared_error(y_pred, Y_test)))"
      ],
      "id": "K-K6TAhkGF2k"
    },
    {
      "cell_type": "markdown",
      "metadata": {
        "id": "9482e87e-9afd-4e33-bf89-d1b3a7773afb"
      },
      "source": [
        "#### 8. Analisa kedua model diatas\n",
        "Bandingan evaluasi kedua performansi model diatas, mana model terbaik dan analisa apakan data diatas linier atau bukan.\n",
        "Tuliskan analisa kalian disini:"
      ],
      "id": "9482e87e-9afd-4e33-bf89-d1b3a7773afb"
    },
    {
      "cell_type": "markdown",
      "source": [
        "model merupakan model regresi linear, dimana untuk analisa pada performance measurenya dilihat dri R2, MAE,MSE,RMSE\n",
        "ketika MAE dan RMSE bernilai kecil maka model akan mendekati model ideal, lalu untuk R2 sendiri yg memiliki nilai bagus adalah ketika R2 mendekati 1, untuk MSE adalan nilai mean squared errornya\n",
        "dari model persamaan normal (orde 1)\n",
        "orde 2\n",
        "orde 3\n",
        "dan orde 5\n",
        "\n",
        "memiliki nilai R2 negatif, yaitu semakin menjauh dari nilai 1, ketika di orde 1 nilai jauh dari angka 1 tpi semakin mendekati angka 1 ketika orde dinaikkan\n",
        "untuk MAE,MSE,RMSE dri data diatas ketika orde semakin ditingkatkan nilainya semakin kecil, ini membuktikan bahwa model semakin meningkat untuk akurasinya ketika ordenya ditingkatkan juga\n"
      ],
      "metadata": {
        "id": "SSVEIWkXCCB_"
      },
      "id": "SSVEIWkXCCB_"
    },
    {
      "cell_type": "markdown",
      "metadata": {
        "id": "85308974-4d0d-4c5d-b58f-05b5ef47ffe2"
      },
      "source": [
        "# 2. Klasifikasi dengan Regresi Logistik dan Sofmax (30%)"
      ],
      "id": "85308974-4d0d-4c5d-b58f-05b5ef47ffe2"
    },
    {
      "cell_type": "markdown",
      "metadata": {
        "id": "ce632c61-3cbb-4797-9d2f-74d757ce7cdd"
      },
      "source": [
        "## 2.1 Klasifikasi dengan Regresi Logistik"
      ],
      "id": "ce632c61-3cbb-4797-9d2f-74d757ce7cdd"
    },
    {
      "cell_type": "markdown",
      "metadata": {
        "id": "1a08a0c0-9126-46b7-956a-319d940c1e19"
      },
      "source": [
        "## Ketentuan dataset\n",
        "\n",
        "### Generate sample data\n",
        "\n",
        "generate dataset sesuai dengan ketentuan nomer kelompok masing-masing:\n",
        "1. Kelompok 1 ->\n",
        "    X, y =make_moons(200, noise=0.3, random_state=100)\n",
        "2. Kelompok 2 ->\n",
        "    X, y = make_blobs(n_samples=400, centers=2, cluster_std=[1.0, 1.5], random_state=100)\n",
        "3. Kelompok 3 -> # Generate sample data\n",
        "    centers = [[1, 1], [-1, -1]]\n",
        "    X, y = make_blobs(n_samples=750, centers=centers, cluster_std=0.4,random_state=0)\n",
        "4. Kelompok 4 ->\n",
        "    centers = [[1, 1], [1, -1]]\n",
        "    X, y = make_blobs(n_samples=750, centers=centers, cluster_std=0.4,random_state=0)\n",
        "5. Kelompok 5 ->\n",
        "    centers = [[1, 1], [1, 3]]\n",
        "    X, y = make_blobs(n_samples=750, centers=centers, cluster_std=0.5,random_state=0)\n",
        "6. Kelompok 6 ->\n",
        "    centers = [[1, 1], [-1, 1]]\n",
        "    X, y = make_blobs(n_samples=750, centers=centers, cluster_std=0.5,random_state=0)\n",
        "7. Kelompok 7 ->\n",
        "    centers = [[1, 1], [1, -1]]\n",
        "    X, y = make_blobs(n_samples=750, centers=centers, cluster_std=0.2, random_state=0)\n",
        "8. Kelompok 8 ->\n",
        "    X, y = make_circles(n_samples=750, noise=0.02)\n",
        "9. Kelompok 9 ->\n",
        "    X, y =make_moons(200, noise=0.5, random_state=100)\n",
        "10. Kelompok 10 ->\n",
        "    X, y =make_moons(200, noise=0.5, random_state=150)\n",
        "11. Kelompok 11 ->\n",
        "    X, y = make_circles(n_samples=750, noise=0.06)\n",
        "12. Kelompok 12 ->\n",
        "    X, y = make_circles(n_samples=750, noise=0.09)\n",
        "13. Kelompok 13 ->\n",
        "    centers = [[1, 1],  [-1, 1]]\n",
        "    X, y = make_blobs(n_samples=750, centers=centers, cluster_std=0.2, random_state=0)\n",
        "14. Kelompok 14 ->\n",
        "    X, y =make_moons(200, noise=0.5, random_state=200)\n",
        "15. Kelompok 15 ->\n",
        "    X, y = make_blobs(n_samples=400, centers=2, cluster_std=[1.0, 1.5], random_state=100)\n",
        "16. Kelompok 16 ->\n",
        "    X, y = make_blobs(n_samples=400, centers=2, cluster_std=[1.0, 1.5], random_state=150)\n"
      ],
      "id": "1a08a0c0-9126-46b7-956a-319d940c1e19"
    },
    {
      "cell_type": "markdown",
      "metadata": {
        "id": "d887ca04-b25b-4d9b-b375-feeed4e4789c"
      },
      "source": [
        "#### 1. Load dataset dan ploting data"
      ],
      "id": "d887ca04-b25b-4d9b-b375-feeed4e4789c"
    },
    {
      "cell_type": "code",
      "execution_count": null,
      "metadata": {
        "id": "99899887-be56-4f96-94df-10976dbef904"
      },
      "outputs": [],
      "source": [
        "# Generate some data\n",
        "import pandas as pd\n",
        "import numpy as np\n",
        "import matplotlib.pyplot as plt\n",
        "from sklearn.datasets import make_blobs\n",
        "from sklearn.datasets import make_moons\n",
        "\n",
        "## Ganti code dibawah disesuaikan nomer kelompok masing-masing\n",
        "X, y = make_moons(n_samples=200, noise=0.3, random_state=100) #Diganti (jika tidak disesuaikan nilai untuk nomer ini 0)"
      ],
      "id": "99899887-be56-4f96-94df-10976dbef904"
    },
    {
      "cell_type": "code",
      "execution_count": null,
      "metadata": {
        "colab": {
          "base_uri": "https://localhost:8080/"
        },
        "id": "6ffcd20f-d7fc-4c5b-b505-17bc15c140b0",
        "outputId": "5dcd246d-b468-4bb0-b8cb-083c35872ec4"
      },
      "outputs": [
        {
          "output_type": "display_data",
          "data": {
            "text/plain": [
              "<Figure size 640x480 with 1 Axes>"
            ],
            "image/png": "[encoded data removed]"
          },
          "metadata": {}
        }
      ],
      "source": [
        "## ploting dengan scatter X dan Y\n",
        "\n",
        "# Plottingan data\n",
        "df = pd.DataFrame(dict(x=X[:,0], y=X[:,1], label=y))\n",
        "colors = {0:'red', 1:'blue'}\n",
        "fig, plotdata = plt.subplots()\n",
        "grouped = df.groupby('label')\n",
        "for key, group in grouped:\n",
        "  group.plot(ax=plotdata, kind='scatter', x='x', y='y',label=key, color=colors[key])\n",
        "plt.show()"
      ],
      "id": "6ffcd20f-d7fc-4c5b-b505-17bc15c140b0"
    },
    {
      "cell_type": "markdown",
      "metadata": {
        "id": "3f8af928-c10c-4e96-8f2d-74981f4336ef"
      },
      "source": [
        "#### 2. Carilah hyperparameter yang sesuai untuk dataset masing-masing dengan melakukan training berulang kali dan lihat ukuran kinerja akurasi sebagai penentu atau menggunakan searchCV dengan metode Regresi logisitik"
      ],
      "id": "3f8af928-c10c-4e96-8f2d-74981f4336ef"
    },
    {
      "cell_type": "code",
      "execution_count": null,
      "metadata": {
        "id": "aLPZJhGy17zx"
      },
      "outputs": [],
      "source": [
        "## Lakukan berulang kali process training dengan mengganti hyperparameter Regresi Logistik dengan ukuran kinerja akurasi\n",
        "\n",
        "# import library\n",
        "from sklearn.linear_model import LogisticRegression\n",
        "from sklearn.model_selection import train_test_split\n",
        "from sklearn.model_selection import GridSearchCV\n",
        "from sklearn.metrics import accuracy_score"
      ],
      "id": "aLPZJhGy17zx"
    },
    {
      "cell_type": "code",
      "execution_count": null,
      "metadata": {
        "id": "9MH_QhfR4Kmf"
      },
      "outputs": [],
      "source": [
        "# prepare dataset X, Y\n",
        "X = df['x'].values.reshape(-1,1)\n",
        "y = df['label']\n",
        "\n",
        "# Split dataset Training size 85 % testing Size 15 %\n",
        "X_train, X_test, y_train, y_test = train_test_split(X,y,random_state=0, train_size=0.85)\n",
        "# print(X_train.shape)\n",
        "# print(X_test.shape)\n",
        "# print(y_train.shape)\n",
        "# print(y_test.shape)"
      ],
      "id": "9MH_QhfR4Kmf"
    },
    {
      "cell_type": "code",
      "execution_count": null,
      "metadata": {
        "colab": {
          "base_uri": "https://localhost:8080/"
        },
        "id": "7x3YXJuG4qrm",
        "outputId": "504dd072-5142-4197-e0bf-b1e336c7a075"
      },
      "outputs": [
        {
          "output_type": "stream",
          "name": "stdout",
          "text": [
            "Fitting 10 folds for each of 80 candidates, totalling 800 fits\n",
            "{'C': 100, 'max_iter': 100, 'penalty': 'l2', 'solver': 'newton-cg'}\n"
          ]
        }
      ],
      "source": [
        "# define hyperparameter (solver, C value, penalty, max_iter)\n",
        "model = LogisticRegression()\n",
        "param_grid = [{'solver': ['newton-cg', 'lbfgs','newton-cholesky','sag'],\n",
        "     'C': [100, 10, 1.0, 0.1, 0.01],\n",
        "     'penalty' : ['l2'],\n",
        "     'max_iter' : [100,1000,2500,5000]\n",
        "     }]\n",
        "\n",
        "# define grid search with GridSearchCV\n",
        "grid_search = GridSearchCV(estimator=model, param_grid=param_grid, refit=True, cv=10, verbose=True, error_score='raise')\n",
        "\n",
        "# fit model (proses training)\n",
        "log_reg = grid_search.fit(X_train, y_train)\n",
        "\n",
        "# Search for the best hyperparameter for the model\n",
        "print(log_reg.best_params_)"
      ],
      "id": "7x3YXJuG4qrm"
    },
    {
      "cell_type": "code",
      "execution_count": null,
      "metadata": {
        "colab": {
          "base_uri": "https://localhost:8080/"
        },
        "id": "pspECoqG67Jm",
        "outputId": "dfc04e3e-ba81-4578-ed66-52677cfc5130"
      },
      "outputs": [
        {
          "output_type": "stream",
          "name": "stdout",
          "text": [
            "Fitting 10 folds for each of 80 candidates, totalling 800 fits\n",
            "{'C': 100, 'max_iter': 100, 'penalty': 'l1', 'solver': 'liblinear'}\n"
          ]
        }
      ],
      "source": [
        "# define hyperparameter (solver, C value, penalty, max_iter)\n",
        "model = LogisticRegression()\n",
        "param_grid = [{'solver': ['liblinear','saga'],\n",
        "     'C': [100, 10, 1.0, 0.1, 0.01],\n",
        "     'penalty' : ['l1','l2'],\n",
        "     'max_iter' : [100,1000,2500,5000]\n",
        "     }]\n",
        "\n",
        "# define grid search with GridSearchCV\n",
        "grid_search = GridSearchCV(estimator=model, param_grid=param_grid, refit=True, cv=10, verbose=True, error_score='raise')\n",
        "\n",
        "# fit model (proses training)\n",
        "log_reg = grid_search.fit(X_train, y_train)\n",
        "\n",
        "# Search for the best hyperparameter for the model\n",
        "print(log_reg.best_params_)"
      ],
      "id": "pspECoqG67Jm"
    },
    {
      "cell_type": "markdown",
      "metadata": {
        "id": "50b005dc-0906-48ea-9687-2ef63af46c9f"
      },
      "source": [
        "#### 3. Pilih Hyperparameter terbaik ukuran kinerja\n",
        "\n",
        "Analisis process tunning hyperparameter  diatas. Mana hyperparameter dengan model terbaik. Tuliskan analisa detailnya dibawah ini (gunakan semua ukuran kinerja Klasifikasi disini (precision,recall, F1, ROC) untuk menganalisis dan gunakan data test."
      ],
      "id": "50b005dc-0906-48ea-9687-2ef63af46c9f"
    },
    {
      "cell_type": "code",
      "execution_count": null,
      "metadata": {
        "colab": {
          "base_uri": "https://localhost:8080/"
        },
        "id": "ObmOmBZt5FvT",
        "outputId": "570e3f91-3420-4f7d-9eb7-0ab3be6f8e86"
      },
      "outputs": [
        {
          "output_type": "stream",
          "name": "stdout",
          "text": [
            "Score:  0.7\n"
          ]
        }
      ],
      "source": [
        "# Fitting with best hyperparameter for the model\n",
        "best_model = LogisticRegression(penalty='l2',C=100, solver='newton-cg', max_iter=100)\n",
        "best_model.fit(X_train, y_train)\n",
        "\n",
        "# cek hasil ke data test pengukuran akurasi\n",
        "y_pred = best_model.predict(X_test)\n",
        "print(\"Score: \", accuracy_score(y_test, y_pred))"
      ],
      "id": "ObmOmBZt5FvT"
    },
    {
      "cell_type": "code",
      "execution_count": null,
      "metadata": {
        "colab": {
          "base_uri": "https://localhost:8080/"
        },
        "id": "mPtiwCfW21iq",
        "outputId": "b0c723b5-f11c-43e3-a096-719d701eecc2"
      },
      "outputs": [
        {
          "output_type": "stream",
          "name": "stdout",
          "text": [
            "Score:  0.7\n"
          ]
        }
      ],
      "source": [
        "# Fitting with best hyperparameter for the model\n",
        "best_model = LogisticRegression(penalty='l1',C=100, solver='liblinear', max_iter=100)\n",
        "best_model.fit(X_train, y_train)\n",
        "\n",
        "# cek hasil ke data test pengukuran akurasi\n",
        "y_pred = best_model.predict(X_test)\n",
        "print(\"Score: \", accuracy_score(y_test, y_pred))"
      ],
      "id": "mPtiwCfW21iq"
    },
    {
      "cell_type": "markdown",
      "metadata": {
        "id": "auIA9SRe7wMc"
      },
      "source": [
        "**Ukuran Kinerja Model Regresi Logistik untuk Klasifikasi**\n",
        "\n",
        "Karena tingkat akurasi untuk kedua model bernilai sama yakni 0.7, maka kami memilih salah satu model untuk diukur kinerjanya yakni model dengan hyperparameter {'C': 100, 'max_iter': 100, 'penalty': 'l2', 'solver': 'newton-cg'}"
      ],
      "id": "auIA9SRe7wMc"
    },
    {
      "cell_type": "code",
      "execution_count": null,
      "metadata": {
        "colab": {
          "base_uri": "https://localhost:8080/"
        },
        "id": "0cf3745e-e3d7-40ce-ab81-62cd2b585725",
        "outputId": "dafe80e4-8547-44d9-b10b-d97287073ca6"
      },
      "outputs": [
        {
          "output_type": "execute_result",
          "data": {
            "text/plain": [
              "array([[12,  4],\n",
              "       [ 3, 11]])"
            ]
          },
          "metadata": {},
          "execution_count": 9
        }
      ],
      "source": [
        "from sklearn.model_selection import cross_val_predict\n",
        "from sklearn.metrics import confusion_matrix\n",
        "\n",
        "y_test_pred = cross_val_predict(best_model, X_test, y_test, cv=10)\n",
        "confusion_matrix(y_test, y_test_pred)"
      ],
      "id": "0cf3745e-e3d7-40ce-ab81-62cd2b585725"
    },
    {
      "cell_type": "code",
      "execution_count": null,
      "metadata": {
        "colab": {
          "base_uri": "https://localhost:8080/"
        },
        "id": "k8sEkmCNC8yG",
        "outputId": "43ec1bb2-a630-4bba-bd50-ab47c5a5ae2f"
      },
      "outputs": [
        {
          "output_type": "stream",
          "name": "stdout",
          "text": [
            "Precision :  0.7333333333333333\n",
            "Recall :  0.7857142857142857\n",
            "F1 Score :  0.7586206896551724\n"
          ]
        }
      ],
      "source": [
        "from sklearn.metrics import precision_score, recall_score\n",
        "from sklearn.metrics import f1_score\n",
        "\n",
        "print(\"Precision : \", precision_score(y_test, y_test_pred))\n",
        "print(\"Recall : \", recall_score(y_test, y_test_pred))\n",
        "print(\"F1 Score : \", f1_score(y_test, y_test_pred))"
      ],
      "id": "k8sEkmCNC8yG"
    },
    {
      "cell_type": "markdown",
      "metadata": {
        "id": "8hRazec0BSd-"
      },
      "source": [
        "Ketiga nilai parameter kinerja ini terjadi ketika threshold berada pada nilai 0.10544046894414727"
      ],
      "id": "8hRazec0BSd-"
    },
    {
      "cell_type": "code",
      "execution_count": null,
      "metadata": {
        "colab": {
          "base_uri": "https://localhost:8080/"
        },
        "id": "r8xI_m59B6I4",
        "outputId": "63365461-c48b-4b1e-dbb5-f4c05a8587c6"
      },
      "outputs": [
        {
          "output_type": "execute_result",
          "data": {
            "text/plain": [
              "0.10770377613862436"
            ]
          },
          "metadata": {},
          "execution_count": 23
        }
      ],
      "source": [
        "from sklearn.model_selection import cross_val_predict\n",
        "y_scores = cross_val_predict(best_model, X_test, y_test, cv=10, method=\"decision_function\")\n",
        "\n",
        "thres = thresholds[np.argmax(precisions >= 0.73)]\n",
        "thres"
      ],
      "id": "r8xI_m59B6I4"
    },
    {
      "cell_type": "markdown",
      "metadata": {
        "id": "orL8R2ZF8ji9"
      },
      "source": [
        "Dalam regresi logistik, nilai precision dan recall dapat ditingkatkan dengan mencari nilai threshold terbaik untuk model. Adapun berikut ini plot precision dan recall untuk threshold pada nilai tertentu."
      ],
      "id": "orL8R2ZF8ji9"
    },
    {
      "cell_type": "code",
      "execution_count": null,
      "metadata": {
        "id": "H0ucrV6GGKDm"
      },
      "outputs": [],
      "source": [
        "# Best threshold for performance measure\n",
        "from sklearn.metrics import precision_recall_curve\n",
        "precisions, recalls, thresholds = precision_recall_curve(y_test, y_scores)"
      ],
      "id": "H0ucrV6GGKDm"
    },
    {
      "cell_type": "code",
      "execution_count": null,
      "metadata": {
        "colab": {
          "base_uri": "https://localhost:8080/",
          "height": 416
        },
        "id": "ha_ueUuwRlBw",
        "outputId": "88eea1b6-1157-4c04-9d91-40731457ecfe"
      },
      "outputs": [
        {
          "output_type": "display_data",
          "data": {
            "text/plain": [
              "<Figure size 800x400 with 1 Axes>"
            ],
            "image/png": "[encoded data removed]"
          },
          "metadata": {}
        }
      ],
      "source": [
        "def plot_precision_recall_vs_threshold(precisions, recalls, thresholds):\n",
        "  plt.plot(thresholds, precisions[:-1], \"b--\", label=\"Precision\", linewidth=2)\n",
        "  plt.plot(thresholds, recalls[:-1], \"g-\", label=\"Recall\", linewidth=2)\n",
        "  plt.legend(loc=\"center right\", fontsize=16)\n",
        "  plt.xlabel(\"Threshold\", fontsize=16)\n",
        "  plt.grid(True)\n",
        "  plt.axis([-3.9, 2.8, 0, 1])\n",
        "\n",
        "recall_80_precision = recalls[np.argmax(precisions >= 0.8)]\n",
        "threshold_80_precision = thresholds[np.argmax(precisions >= 0.8)]\n",
        "\n",
        "plt.figure(figsize=(8, 4))\n",
        "plot_precision_recall_vs_threshold(precisions, recalls, thresholds)\n",
        "plt.plot([threshold_80_precision, threshold_80_precision], [0., 0.8], \"r:\")\n",
        "plt.plot([-4, threshold_80_precision], [0.80, 0.80], \"r:\")\n",
        "plt.plot([-4, threshold_80_precision], [recall_80_precision,recall_80_precision], \"r:\")\n",
        "plt.plot([threshold_80_precision], [0.80], \"ro\")\n",
        "plt.plot([threshold_80_precision], [recall_80_precision], \"ro\")\n",
        "plt.title(\"Kurva Precision dan Recall pada Threshold tertentu\")\n",
        "plt.show()"
      ],
      "id": "ha_ueUuwRlBw"
    },
    {
      "cell_type": "markdown",
      "metadata": {
        "id": "o9TWMQ1zCrhm"
      },
      "source": [
        "Dari plot tersebut dapat dilihat bahwa ketika nilai precision dari model berbanding terbalik dengan nilai recallnya. Sebagaimana contoh pada plot tersebut, ketika nilai precision berada pada angka 0.80, maka nilai recall sekitar 0.35."
      ],
      "id": "o9TWMQ1zCrhm"
    },
    {
      "cell_type": "code",
      "execution_count": null,
      "metadata": {
        "id": "WvC9uyWO9siw"
      },
      "outputs": [],
      "source": [
        "thres_pre_80 = thresholds[np.argmax(precisions >= 0.8)]\n",
        "thres_pre_80"
      ],
      "id": "WvC9uyWO9siw"
    },
    {
      "cell_type": "code",
      "execution_count": null,
      "metadata": {
        "colab": {
          "base_uri": "https://localhost:8080/"
        },
        "id": "v2ePgTCh_Xxt",
        "outputId": "52d4c3e5-fc4e-488b-b872-e2ea0f95c9dc"
      },
      "outputs": [
        {
          "output_type": "stream",
          "name": "stdout",
          "text": [
            "While new threshold is set at 1.299\n",
            "Precision :  1.0\n",
            "Recall :  0.35714285714285715\n"
          ]
        }
      ],
      "source": [
        "print(\"While new threshold is set at 1.299\")\n",
        "y_train_pred_80 = (y_scores >= thres_pre_80)\n",
        "print(\"Precision : \", precision_score(y_test, y_train_pred_80))\n",
        "print(\"Recall : \", recall_score(y_test, y_train_pred_80))"
      ],
      "id": "v2ePgTCh_Xxt"
    },
    {
      "cell_type": "markdown",
      "metadata": {
        "id": "ddm12Iuw9I3T"
      },
      "source": [
        "Ukuran kinerja precision dan recall akan bernilai sama ketika nilai threshold sebesar 0.140649399558042"
      ],
      "id": "ddm12Iuw9I3T"
    },
    {
      "cell_type": "code",
      "execution_count": null,
      "metadata": {
        "colab": {
          "base_uri": "https://localhost:8080/"
        },
        "id": "cS-VywmUTmRx",
        "outputId": "7ec799d8-8539-4060-c5f6-5b0f8f67ef1e"
      },
      "outputs": [
        {
          "output_type": "execute_result",
          "data": {
            "text/plain": [
              "0.14297428478514762"
            ]
          },
          "metadata": {},
          "execution_count": 26
        }
      ],
      "source": [
        "same_pre_rec = thresholds[np.argmax(precisions == recalls)]\n",
        "same_pre_rec"
      ],
      "id": "cS-VywmUTmRx"
    },
    {
      "cell_type": "markdown",
      "metadata": {
        "id": "cMoyCMQt9aC5"
      },
      "source": [
        "Plotting nilai ROC (Receiver Operating Characteristic)"
      ],
      "id": "cMoyCMQt9aC5"
    },
    {
      "cell_type": "code",
      "execution_count": null,
      "metadata": {
        "colab": {
          "base_uri": "https://localhost:8080/",
          "height": 568
        },
        "id": "A7DTzCktEDIw",
        "outputId": "511dbd66-e657-4436-a29f-fa5651cb54ec"
      },
      "outputs": [
        {
          "output_type": "display_data",
          "data": {
            "text/plain": [
              "<Figure size 800x600 with 1 Axes>"
            ],
            "image/png": "[encoded data removed]"
          },
          "metadata": {}
        },
        {
          "output_type": "stream",
          "name": "stdout",
          "text": [
            "ROC-AUC Score :  0.8035714285714286\n"
          ]
        }
      ],
      "source": [
        "from sklearn.metrics import roc_curve\n",
        "from sklearn.metrics import roc_auc_score\n",
        "\n",
        "fpr, tpr, thresholds = roc_curve(y_test, y_train_pred_80)\n",
        "\n",
        "def plot_roc_curve(fpr, tpr, label=None):\n",
        "  plt.plot(fpr, tpr, linewidth=2, label=label)\n",
        "  plt.plot([0, 1], [0, 1], 'k--') # dashed diagonal\n",
        "  plt.axis([0, 1, 0, 1])\n",
        "  plt.xlabel('False Positive Rate (Fall-Out)', fontsize=12)\n",
        "  plt.ylabel('True Positive Rate (Recall)', fontsize=12)\n",
        "  plt.grid(True)\n",
        "\n",
        "plt.figure(figsize=(8, 6))\n",
        "plot_roc_curve(fpr, tpr)\n",
        "plt.show()\n",
        "\n",
        "print(\"ROC-AUC Score : \", roc_auc_score(y_test, y_scores))"
      ],
      "id": "A7DTzCktEDIw"
    },
    {
      "cell_type": "markdown",
      "metadata": {
        "id": "A50pb26fECYA"
      },
      "source": [
        "Dari kurva ROC tersebut, dapat dilihat bahwa semakin besar nilai TPR, maka nilai FPR juga akan semakin besar. Cara untuk membandingkan kinerja classifier ini adalah dengan menghitung nilai di bawa kurva ROC (ROC-AUC). Semakin mendekati 1, maka model classifier semakin ideal."
      ],
      "id": "A50pb26fECYA"
    },
    {
      "cell_type": "markdown",
      "metadata": {
        "id": "36e920af-4217-4245-8b87-3306c6376f88"
      },
      "source": [
        "## 2.2 Klasifikasi dengan Regresi Softmax"
      ],
      "id": "36e920af-4217-4245-8b87-3306c6376f88"
    },
    {
      "cell_type": "markdown",
      "metadata": {
        "id": "987425ab-ba32-4c59-bd93-5906cfc8db14"
      },
      "source": [
        "## Ketentuan dataset\n",
        "\n",
        "### Generate sample data\n",
        "\n",
        "generate dataset sesuai dengan ketentuan nomer kelompok masing-masing:\n",
        "1. Kelompok 1 ->\n",
        "    X, y = make_blobs(n_samples=400, centers=3, cluster_std=[1.0, 1.5, 1.2], random_state=100)\n",
        "2. Kelompok 2 ->\n",
        "    X, y = make_blobs(n_samples=400, centers=3, cluster_std=[1.0, 1.5, 1], random_state=100)\n",
        "3. Kelompok 3 -> # Generate sample data\n",
        "    centers = [[1, 1], [-1, -1],[-1, 1]]\n",
        "    X, y = make_blobs(n_samples=750, centers=centers, cluster_std=0.4,random_state=0)\n",
        "4. Kelompok 4 ->\n",
        "    centers = [[1, 1], [1, -1],[-1, 1]]\n",
        "    X, y = make_blobs(n_samples=750, centers=centers, cluster_std=0.4,random_state=0)\n",
        "5. Kelompok 5 ->\n",
        "    centers = [[1, 1], [1, 3],[1,6]]\n",
        "    X, y = make_blobs(n_samples=750, centers=centers, cluster_std=0.5,random_state=0)\n",
        "6. Kelompok 6 ->\n",
        "    centers = [[1, 1], [-1, 1], [-1, 3]]\n",
        "    X, y = make_blobs(n_samples=750, centers=centers, cluster_std=0.5,random_state=0)\n",
        "7. Kelompok 7 ->\n",
        "    centers = [[1, 3], [-1, 1], [-1, 3]]\n",
        "    X, y = make_blobs(n_samples=600, centers=centers, cluster_std=0.5,random_state=0)\n",
        "8. Kelompok 8 ->\n",
        "    centers = [[1, 3], [-1, 2], [-1, 3]]\n",
        "    X, y = make_blobs(n_samples=500, centers=centers, cluster_std=0.5,random_state=0)\n",
        "9. Kelompok 9 ->\n",
        "    centers = [[1, 3], [-1, 5], [-1, 3]]\n",
        "    X, y = make_blobs(n_samples=500, centers=centers, cluster_std=0.5,random_state=0)\n",
        "10. Kelompok 10 ->\n",
        "    centers = [[1, 3], [-1, 5], [-1, 3]]\n",
        "    X, y = make_blobs(n_samples=800, centers=centers, cluster_std=0.5,random_state=0)\n",
        "11. Kelompok 11 ->\n",
        "    centers = [[1, 3], [-1, 5], [-1, 8]]\n",
        "    X, y = make_blobs(n_samples=800, centers=centers, cluster_std=0.5,random_state=0)\n",
        "12. Kelompok 12 ->\n",
        "    centers = [[1, 3], [-1, 5], [1, 8]]\n",
        "    X, y = make_blobs(n_samples=800, centers=centers, cluster_std=0.5,random_state=0)\n",
        "13. Kelompok 13 ->\n",
        "    centers = [[1, 1],  [-1, 1],[1,2]]\n",
        "    X, y = make_blobs(n_samples=750, centers=centers, cluster_std=0.2, random_state=0)\n",
        "14. Kelompok 14 ->\n",
        "    centers = [[1, 1],  [-1, -1],[1,2]]\n",
        "    X, y = make_blobs(n_samples=750, centers=centers, cluster_std=0.2, random_state=0)\n",
        "15. Kelompok 15 ->\n",
        "    centers = [[1, 1],  [-1, -1],[1,3]]\n",
        "    X, y = make_blobs(n_samples=750, centers=centers, cluster_std=0.2, random_state=0)\n",
        "16. Kelompok 16 ->\n",
        "    X, y = make_blobs(n_samples=400, centers=3, cluster_std=[1.0, 1.5, 1], random_state=150)\n"
      ],
      "id": "987425ab-ba32-4c59-bd93-5906cfc8db14"
    },
    {
      "cell_type": "markdown",
      "metadata": {
        "id": "38e62fb4-34cd-4788-83b2-d8200b753b25"
      },
      "source": [
        "#### 1. Load dataset dan ploting data"
      ],
      "id": "38e62fb4-34cd-4788-83b2-d8200b753b25"
    },
    {
      "cell_type": "code",
      "execution_count": null,
      "metadata": {
        "id": "8cd295e9-4f5d-414a-84c7-7c8a3f865d68"
      },
      "outputs": [],
      "source": [
        "# Generate some data\n",
        "import pandas as pd\n",
        "import numpy as np\n",
        "import matplotlib.pyplot as plt\n",
        "from sklearn.datasets import make_blobs\n",
        "from sklearn.datasets import make_moons\n",
        "\n",
        "## Ganti code dibawah disesuaikan nomer kelompok masing-masing\n",
        "X, y = make_blobs(n_samples=400, centers=3, cluster_std=[1.0, 1.5, 1.2], random_state=100) #Diganti (jika tidak disesuaikan nilai untuk nomer ini 0)"
      ],
      "id": "8cd295e9-4f5d-414a-84c7-7c8a3f865d68"
    },
    {
      "cell_type": "code",
      "execution_count": null,
      "metadata": {
        "colab": {
          "base_uri": "https://localhost:8080/",
          "height": 449
        },
        "id": "sYccV3pPrn6O",
        "outputId": "da1f9cf5-ed79-4a9f-e6a5-f9141428ffe4"
      },
      "outputs": [
        {
          "output_type": "display_data",
          "data": {
            "text/plain": [
              "<Figure size 640x480 with 1 Axes>"
            ],
            "image/png": "[encoded data removed]"
          },
          "metadata": {}
        }
      ],
      "source": [
        "## ploting dengan scatter X dan Y\n",
        "\n",
        "# Plottingan data\n",
        "df = pd.DataFrame(dict(x=X[:,0], y=X[:,1], label=y))\n",
        "colors = {0:'red', 1:'blue', 2:'green'}\n",
        "fig, plotdata = plt.subplots()\n",
        "grouped = df.groupby('label')\n",
        "for key, group in grouped:\n",
        "  group.plot(ax=plotdata, kind='scatter', x='x', y='y',label=key, color=colors[key])\n",
        "plt.show()"
      ],
      "id": "sYccV3pPrn6O"
    },
    {
      "cell_type": "markdown",
      "metadata": {
        "id": "89a765df-ee42-441a-b980-9e262bf51458"
      },
      "source": [
        "#### 2. Carilah hyperparameter yang sesuai untuk dataset masing-masing dengan melakukan training berulang kali dan lihat ukuran kinerja akurasi sebagai penentu atau menggunakan searchCV dengan metode Regresi Softmax"
      ],
      "id": "89a765df-ee42-441a-b980-9e262bf51458"
    },
    {
      "cell_type": "code",
      "execution_count": null,
      "metadata": {
        "id": "sBg-wHa2GjRm"
      },
      "outputs": [],
      "source": [
        "## Lakukan berulang kali process training dengan mengganti hyperparameter Regresi Softmax dengan ukuran kinerja akurasi\n",
        "# import library\n",
        "from sklearn.linear_model import LogisticRegression\n",
        "from sklearn.model_selection import train_test_split\n",
        "from sklearn.model_selection import GridSearchCV\n",
        "from sklearn.metrics import accuracy_score"
      ],
      "id": "sBg-wHa2GjRm"
    },
    {
      "cell_type": "code",
      "execution_count": null,
      "metadata": {
        "id": "84inOtQtHHgO"
      },
      "outputs": [],
      "source": [
        "# prepare dataset X, Y\n",
        "dataX = df['x'].values.reshape(-1,1)\n",
        "datay = df['label']\n",
        "\n",
        "# split dataset Training size 90 % testing Size 10 %\n",
        "X_train, X_test, y_train, y_test = train_test_split(dataX, datay, random_state=0,  train_size=0.9)"
      ],
      "id": "84inOtQtHHgO"
    },
    {
      "cell_type": "code",
      "execution_count": null,
      "metadata": {
        "colab": {
          "base_uri": "https://localhost:8080/"
        },
        "id": "f6b59a8a-a021-4637-b6a5-ecb41a57a1a8",
        "outputId": "781382b6-7190-4a8c-a998-06f89ab59661"
      },
      "outputs": [
        {
          "output_type": "stream",
          "name": "stdout",
          "text": [
            "Fitting 10 folds for each of 60 candidates, totalling 600 fits\n"
          ]
        },
        {
          "output_type": "stream",
          "name": "stderr",
          "text": [
            "/usr/local/lib/python3.9/dist-packages/sklearn/linear_model/_sag.py:350: ConvergenceWarning: The max_iter was reached which means the coef_ did not converge\n",
            "  warnings.warn(\n",
            "/usr/local/lib/python3.9/dist-packages/sklearn/linear_model/_sag.py:350: ConvergenceWarning: The max_iter was reached which means the coef_ did not converge\n",
            "  warnings.warn(\n",
            "/usr/local/lib/python3.9/dist-packages/sklearn/linear_model/_sag.py:350: ConvergenceWarning: The max_iter was reached which means the coef_ did not converge\n",
            "  warnings.warn(\n",
            "/usr/local/lib/python3.9/dist-packages/sklearn/linear_model/_sag.py:350: ConvergenceWarning: The max_iter was reached which means the coef_ did not converge\n",
            "  warnings.warn(\n",
            "/usr/local/lib/python3.9/dist-packages/sklearn/linear_model/_sag.py:350: ConvergenceWarning: The max_iter was reached which means the coef_ did not converge\n",
            "  warnings.warn(\n",
            "/usr/local/lib/python3.9/dist-packages/sklearn/linear_model/_sag.py:350: ConvergenceWarning: The max_iter was reached which means the coef_ did not converge\n",
            "  warnings.warn(\n",
            "/usr/local/lib/python3.9/dist-packages/sklearn/linear_model/_sag.py:350: ConvergenceWarning: The max_iter was reached which means the coef_ did not converge\n",
            "  warnings.warn(\n",
            "/usr/local/lib/python3.9/dist-packages/sklearn/linear_model/_sag.py:350: ConvergenceWarning: The max_iter was reached which means the coef_ did not converge\n",
            "  warnings.warn(\n",
            "/usr/local/lib/python3.9/dist-packages/sklearn/linear_model/_sag.py:350: ConvergenceWarning: The max_iter was reached which means the coef_ did not converge\n",
            "  warnings.warn(\n",
            "/usr/local/lib/python3.9/dist-packages/sklearn/linear_model/_sag.py:350: ConvergenceWarning: The max_iter was reached which means the coef_ did not converge\n",
            "  warnings.warn(\n",
            "/usr/local/lib/python3.9/dist-packages/sklearn/linear_model/_sag.py:350: ConvergenceWarning: The max_iter was reached which means the coef_ did not converge\n",
            "  warnings.warn(\n",
            "/usr/local/lib/python3.9/dist-packages/sklearn/linear_model/_sag.py:350: ConvergenceWarning: The max_iter was reached which means the coef_ did not converge\n",
            "  warnings.warn(\n",
            "/usr/local/lib/python3.9/dist-packages/sklearn/linear_model/_sag.py:350: ConvergenceWarning: The max_iter was reached which means the coef_ did not converge\n",
            "  warnings.warn(\n",
            "/usr/local/lib/python3.9/dist-packages/sklearn/linear_model/_sag.py:350: ConvergenceWarning: The max_iter was reached which means the coef_ did not converge\n",
            "  warnings.warn(\n",
            "/usr/local/lib/python3.9/dist-packages/sklearn/linear_model/_sag.py:350: ConvergenceWarning: The max_iter was reached which means the coef_ did not converge\n",
            "  warnings.warn(\n",
            "/usr/local/lib/python3.9/dist-packages/sklearn/linear_model/_sag.py:350: ConvergenceWarning: The max_iter was reached which means the coef_ did not converge\n",
            "  warnings.warn(\n",
            "/usr/local/lib/python3.9/dist-packages/sklearn/linear_model/_sag.py:350: ConvergenceWarning: The max_iter was reached which means the coef_ did not converge\n",
            "  warnings.warn(\n",
            "/usr/local/lib/python3.9/dist-packages/sklearn/linear_model/_sag.py:350: ConvergenceWarning: The max_iter was reached which means the coef_ did not converge\n",
            "  warnings.warn(\n",
            "/usr/local/lib/python3.9/dist-packages/sklearn/linear_model/_sag.py:350: ConvergenceWarning: The max_iter was reached which means the coef_ did not converge\n",
            "  warnings.warn(\n",
            "/usr/local/lib/python3.9/dist-packages/sklearn/linear_model/_sag.py:350: ConvergenceWarning: The max_iter was reached which means the coef_ did not converge\n",
            "  warnings.warn(\n",
            "/usr/local/lib/python3.9/dist-packages/sklearn/linear_model/_sag.py:350: ConvergenceWarning: The max_iter was reached which means the coef_ did not converge\n",
            "  warnings.warn(\n",
            "/usr/local/lib/python3.9/dist-packages/sklearn/linear_model/_sag.py:350: ConvergenceWarning: The max_iter was reached which means the coef_ did not converge\n",
            "  warnings.warn(\n",
            "/usr/local/lib/python3.9/dist-packages/sklearn/linear_model/_sag.py:350: ConvergenceWarning: The max_iter was reached which means the coef_ did not converge\n",
            "  warnings.warn(\n",
            "/usr/local/lib/python3.9/dist-packages/sklearn/linear_model/_sag.py:350: ConvergenceWarning: The max_iter was reached which means the coef_ did not converge\n",
            "  warnings.warn(\n",
            "/usr/local/lib/python3.9/dist-packages/sklearn/linear_model/_sag.py:350: ConvergenceWarning: The max_iter was reached which means the coef_ did not converge\n",
            "  warnings.warn(\n",
            "/usr/local/lib/python3.9/dist-packages/sklearn/linear_model/_sag.py:350: ConvergenceWarning: The max_iter was reached which means the coef_ did not converge\n",
            "  warnings.warn(\n",
            "/usr/local/lib/python3.9/dist-packages/sklearn/linear_model/_sag.py:350: ConvergenceWarning: The max_iter was reached which means the coef_ did not converge\n",
            "  warnings.warn(\n",
            "/usr/local/lib/python3.9/dist-packages/sklearn/linear_model/_sag.py:350: ConvergenceWarning: The max_iter was reached which means the coef_ did not converge\n",
            "  warnings.warn(\n",
            "/usr/local/lib/python3.9/dist-packages/sklearn/linear_model/_sag.py:350: ConvergenceWarning: The max_iter was reached which means the coef_ did not converge\n",
            "  warnings.warn(\n",
            "/usr/local/lib/python3.9/dist-packages/sklearn/linear_model/_sag.py:350: ConvergenceWarning: The max_iter was reached which means the coef_ did not converge\n",
            "  warnings.warn(\n",
            "/usr/local/lib/python3.9/dist-packages/sklearn/linear_model/_sag.py:350: ConvergenceWarning: The max_iter was reached which means the coef_ did not converge\n",
            "  warnings.warn(\n",
            "/usr/local/lib/python3.9/dist-packages/sklearn/linear_model/_sag.py:350: ConvergenceWarning: The max_iter was reached which means the coef_ did not converge\n",
            "  warnings.warn(\n",
            "/usr/local/lib/python3.9/dist-packages/sklearn/linear_model/_sag.py:350: ConvergenceWarning: The max_iter was reached which means the coef_ did not converge\n",
            "  warnings.warn(\n",
            "/usr/local/lib/python3.9/dist-packages/sklearn/linear_model/_sag.py:350: ConvergenceWarning: The max_iter was reached which means the coef_ did not converge\n",
            "  warnings.warn(\n",
            "/usr/local/lib/python3.9/dist-packages/sklearn/linear_model/_sag.py:350: ConvergenceWarning: The max_iter was reached which means the coef_ did not converge\n",
            "  warnings.warn(\n",
            "/usr/local/lib/python3.9/dist-packages/sklearn/linear_model/_sag.py:350: ConvergenceWarning: The max_iter was reached which means the coef_ did not converge\n",
            "  warnings.warn(\n",
            "/usr/local/lib/python3.9/dist-packages/sklearn/linear_model/_sag.py:350: ConvergenceWarning: The max_iter was reached which means the coef_ did not converge\n",
            "  warnings.warn(\n",
            "/usr/local/lib/python3.9/dist-packages/sklearn/linear_model/_sag.py:350: ConvergenceWarning: The max_iter was reached which means the coef_ did not converge\n",
            "  warnings.warn(\n",
            "/usr/local/lib/python3.9/dist-packages/sklearn/linear_model/_sag.py:350: ConvergenceWarning: The max_iter was reached which means the coef_ did not converge\n",
            "  warnings.warn(\n",
            "/usr/local/lib/python3.9/dist-packages/sklearn/linear_model/_sag.py:350: ConvergenceWarning: The max_iter was reached which means the coef_ did not converge\n",
            "  warnings.warn(\n",
            "/usr/local/lib/python3.9/dist-packages/sklearn/linear_model/_sag.py:350: ConvergenceWarning: The max_iter was reached which means the coef_ did not converge\n",
            "  warnings.warn(\n",
            "/usr/local/lib/python3.9/dist-packages/sklearn/linear_model/_sag.py:350: ConvergenceWarning: The max_iter was reached which means the coef_ did not converge\n",
            "  warnings.warn(\n",
            "/usr/local/lib/python3.9/dist-packages/sklearn/linear_model/_sag.py:350: ConvergenceWarning: The max_iter was reached which means the coef_ did not converge\n",
            "  warnings.warn(\n",
            "/usr/local/lib/python3.9/dist-packages/sklearn/linear_model/_sag.py:350: ConvergenceWarning: The max_iter was reached which means the coef_ did not converge\n",
            "  warnings.warn(\n",
            "/usr/local/lib/python3.9/dist-packages/sklearn/linear_model/_sag.py:350: ConvergenceWarning: The max_iter was reached which means the coef_ did not converge\n",
            "  warnings.warn(\n",
            "/usr/local/lib/python3.9/dist-packages/sklearn/linear_model/_sag.py:350: ConvergenceWarning: The max_iter was reached which means the coef_ did not converge\n",
            "  warnings.warn(\n",
            "/usr/local/lib/python3.9/dist-packages/sklearn/linear_model/_sag.py:350: ConvergenceWarning: The max_iter was reached which means the coef_ did not converge\n",
            "  warnings.warn(\n",
            "/usr/local/lib/python3.9/dist-packages/sklearn/linear_model/_sag.py:350: ConvergenceWarning: The max_iter was reached which means the coef_ did not converge\n",
            "  warnings.warn(\n",
            "/usr/local/lib/python3.9/dist-packages/sklearn/linear_model/_sag.py:350: ConvergenceWarning: The max_iter was reached which means the coef_ did not converge\n",
            "  warnings.warn(\n",
            "/usr/local/lib/python3.9/dist-packages/sklearn/linear_model/_sag.py:350: ConvergenceWarning: The max_iter was reached which means the coef_ did not converge\n",
            "  warnings.warn(\n",
            "/usr/local/lib/python3.9/dist-packages/sklearn/linear_model/_sag.py:350: ConvergenceWarning: The max_iter was reached which means the coef_ did not converge\n",
            "  warnings.warn(\n",
            "/usr/local/lib/python3.9/dist-packages/sklearn/linear_model/_sag.py:350: ConvergenceWarning: The max_iter was reached which means the coef_ did not converge\n",
            "  warnings.warn(\n",
            "/usr/local/lib/python3.9/dist-packages/sklearn/linear_model/_sag.py:350: ConvergenceWarning: The max_iter was reached which means the coef_ did not converge\n",
            "  warnings.warn(\n",
            "/usr/local/lib/python3.9/dist-packages/sklearn/linear_model/_sag.py:350: ConvergenceWarning: The max_iter was reached which means the coef_ did not converge\n",
            "  warnings.warn(\n",
            "/usr/local/lib/python3.9/dist-packages/sklearn/linear_model/_sag.py:350: ConvergenceWarning: The max_iter was reached which means the coef_ did not converge\n",
            "  warnings.warn(\n",
            "/usr/local/lib/python3.9/dist-packages/sklearn/linear_model/_sag.py:350: ConvergenceWarning: The max_iter was reached which means the coef_ did not converge\n",
            "  warnings.warn(\n",
            "/usr/local/lib/python3.9/dist-packages/sklearn/linear_model/_sag.py:350: ConvergenceWarning: The max_iter was reached which means the coef_ did not converge\n",
            "  warnings.warn(\n",
            "/usr/local/lib/python3.9/dist-packages/sklearn/linear_model/_sag.py:350: ConvergenceWarning: The max_iter was reached which means the coef_ did not converge\n",
            "  warnings.warn(\n",
            "/usr/local/lib/python3.9/dist-packages/sklearn/linear_model/_sag.py:350: ConvergenceWarning: The max_iter was reached which means the coef_ did not converge\n",
            "  warnings.warn(\n",
            "/usr/local/lib/python3.9/dist-packages/sklearn/linear_model/_sag.py:350: ConvergenceWarning: The max_iter was reached which means the coef_ did not converge\n",
            "  warnings.warn(\n"
          ]
        },
        {
          "output_type": "stream",
          "name": "stdout",
          "text": [
            "{'C': 0.1, 'max_iter': 100, 'penalty': 'l2', 'solver': 'newton-cg'}\n"
          ]
        }
      ],
      "source": [
        "# define hyperparameter (solver, C value, penalty, max_iter)\n",
        "softmax_model = LogisticRegression(multi_class=\"multinomial\")\n",
        "param_grid = [{'solver': ['newton-cg', 'lbfgs','sag'],\n",
        "     'C': [100, 10, 1.0, 0.1, 0.01],\n",
        "     'penalty' : ['l2'],\n",
        "     'max_iter' : [100,1000,2500,5000]\n",
        "     }]\n",
        "\n",
        "# define grid search with GridSearchCV\n",
        "grid_search = GridSearchCV(estimator=softmax_model, param_grid=param_grid, refit=True, cv=10, verbose=True, error_score='raise')\n",
        "\n",
        "# fit model (proses training)\n",
        "sf_model = grid_search.fit(X_train, y_train)\n",
        "\n",
        "# Search for the best hyperparameter for the model\n",
        "print(sf_model.best_params_) # result = {'C': 0.1, 'max_iter': 100, 'penalty': 'l2', 'solver': 'lbfgs'}"
      ],
      "id": "f6b59a8a-a021-4637-b6a5-ecb41a57a1a8"
    },
    {
      "cell_type": "code",
      "execution_count": null,
      "metadata": {
        "colab": {
          "base_uri": "https://localhost:8080/"
        },
        "id": "Zw_O9hZSHeUK",
        "outputId": "73874e5e-e51f-4ec0-94dd-dc831f844e72"
      },
      "outputs": [
        {
          "output_type": "stream",
          "name": "stdout",
          "text": [
            "Fitting 10 folds for each of 40 candidates, totalling 400 fits\n"
          ]
        },
        {
          "output_type": "stream",
          "name": "stderr",
          "text": [
            "/usr/local/lib/python3.9/dist-packages/sklearn/linear_model/_sag.py:350: ConvergenceWarning: The max_iter was reached which means the coef_ did not converge\n",
            "  warnings.warn(\n",
            "/usr/local/lib/python3.9/dist-packages/sklearn/linear_model/_sag.py:350: ConvergenceWarning: The max_iter was reached which means the coef_ did not converge\n",
            "  warnings.warn(\n",
            "/usr/local/lib/python3.9/dist-packages/sklearn/linear_model/_sag.py:350: ConvergenceWarning: The max_iter was reached which means the coef_ did not converge\n",
            "  warnings.warn(\n",
            "/usr/local/lib/python3.9/dist-packages/sklearn/linear_model/_sag.py:350: ConvergenceWarning: The max_iter was reached which means the coef_ did not converge\n",
            "  warnings.warn(\n",
            "/usr/local/lib/python3.9/dist-packages/sklearn/linear_model/_sag.py:350: ConvergenceWarning: The max_iter was reached which means the coef_ did not converge\n",
            "  warnings.warn(\n",
            "/usr/local/lib/python3.9/dist-packages/sklearn/linear_model/_sag.py:350: ConvergenceWarning: The max_iter was reached which means the coef_ did not converge\n",
            "  warnings.warn(\n",
            "/usr/local/lib/python3.9/dist-packages/sklearn/linear_model/_sag.py:350: ConvergenceWarning: The max_iter was reached which means the coef_ did not converge\n",
            "  warnings.warn(\n",
            "/usr/local/lib/python3.9/dist-packages/sklearn/linear_model/_sag.py:350: ConvergenceWarning: The max_iter was reached which means the coef_ did not converge\n",
            "  warnings.warn(\n",
            "/usr/local/lib/python3.9/dist-packages/sklearn/linear_model/_sag.py:350: ConvergenceWarning: The max_iter was reached which means the coef_ did not converge\n",
            "  warnings.warn(\n",
            "/usr/local/lib/python3.9/dist-packages/sklearn/linear_model/_sag.py:350: ConvergenceWarning: The max_iter was reached which means the coef_ did not converge\n",
            "  warnings.warn(\n",
            "/usr/local/lib/python3.9/dist-packages/sklearn/linear_model/_sag.py:350: ConvergenceWarning: The max_iter was reached which means the coef_ did not converge\n",
            "  warnings.warn(\n",
            "/usr/local/lib/python3.9/dist-packages/sklearn/linear_model/_sag.py:350: ConvergenceWarning: The max_iter was reached which means the coef_ did not converge\n",
            "  warnings.warn(\n",
            "/usr/local/lib/python3.9/dist-packages/sklearn/linear_model/_sag.py:350: ConvergenceWarning: The max_iter was reached which means the coef_ did not converge\n",
            "  warnings.warn(\n",
            "/usr/local/lib/python3.9/dist-packages/sklearn/linear_model/_sag.py:350: ConvergenceWarning: The max_iter was reached which means the coef_ did not converge\n",
            "  warnings.warn(\n",
            "/usr/local/lib/python3.9/dist-packages/sklearn/linear_model/_sag.py:350: ConvergenceWarning: The max_iter was reached which means the coef_ did not converge\n",
            "  warnings.warn(\n",
            "/usr/local/lib/python3.9/dist-packages/sklearn/linear_model/_sag.py:350: ConvergenceWarning: The max_iter was reached which means the coef_ did not converge\n",
            "  warnings.warn(\n",
            "/usr/local/lib/python3.9/dist-packages/sklearn/linear_model/_sag.py:350: ConvergenceWarning: The max_iter was reached which means the coef_ did not converge\n",
            "  warnings.warn(\n",
            "/usr/local/lib/python3.9/dist-packages/sklearn/linear_model/_sag.py:350: ConvergenceWarning: The max_iter was reached which means the coef_ did not converge\n",
            "  warnings.warn(\n",
            "/usr/local/lib/python3.9/dist-packages/sklearn/linear_model/_sag.py:350: ConvergenceWarning: The max_iter was reached which means the coef_ did not converge\n",
            "  warnings.warn(\n",
            "/usr/local/lib/python3.9/dist-packages/sklearn/linear_model/_sag.py:350: ConvergenceWarning: The max_iter was reached which means the coef_ did not converge\n",
            "  warnings.warn(\n",
            "/usr/local/lib/python3.9/dist-packages/sklearn/linear_model/_sag.py:350: ConvergenceWarning: The max_iter was reached which means the coef_ did not converge\n",
            "  warnings.warn(\n",
            "/usr/local/lib/python3.9/dist-packages/sklearn/linear_model/_sag.py:350: ConvergenceWarning: The max_iter was reached which means the coef_ did not converge\n",
            "  warnings.warn(\n",
            "/usr/local/lib/python3.9/dist-packages/sklearn/linear_model/_sag.py:350: ConvergenceWarning: The max_iter was reached which means the coef_ did not converge\n",
            "  warnings.warn(\n",
            "/usr/local/lib/python3.9/dist-packages/sklearn/linear_model/_sag.py:350: ConvergenceWarning: The max_iter was reached which means the coef_ did not converge\n",
            "  warnings.warn(\n",
            "/usr/local/lib/python3.9/dist-packages/sklearn/linear_model/_sag.py:350: ConvergenceWarning: The max_iter was reached which means the coef_ did not converge\n",
            "  warnings.warn(\n",
            "/usr/local/lib/python3.9/dist-packages/sklearn/linear_model/_sag.py:350: ConvergenceWarning: The max_iter was reached which means the coef_ did not converge\n",
            "  warnings.warn(\n",
            "/usr/local/lib/python3.9/dist-packages/sklearn/linear_model/_sag.py:350: ConvergenceWarning: The max_iter was reached which means the coef_ did not converge\n",
            "  warnings.warn(\n",
            "/usr/local/lib/python3.9/dist-packages/sklearn/linear_model/_sag.py:350: ConvergenceWarning: The max_iter was reached which means the coef_ did not converge\n",
            "  warnings.warn(\n",
            "/usr/local/lib/python3.9/dist-packages/sklearn/linear_model/_sag.py:350: ConvergenceWarning: The max_iter was reached which means the coef_ did not converge\n",
            "  warnings.warn(\n",
            "/usr/local/lib/python3.9/dist-packages/sklearn/linear_model/_sag.py:350: ConvergenceWarning: The max_iter was reached which means the coef_ did not converge\n",
            "  warnings.warn(\n",
            "/usr/local/lib/python3.9/dist-packages/sklearn/linear_model/_sag.py:350: ConvergenceWarning: The max_iter was reached which means the coef_ did not converge\n",
            "  warnings.warn(\n",
            "/usr/local/lib/python3.9/dist-packages/sklearn/linear_model/_sag.py:350: ConvergenceWarning: The max_iter was reached which means the coef_ did not converge\n",
            "  warnings.warn(\n",
            "/usr/local/lib/python3.9/dist-packages/sklearn/linear_model/_sag.py:350: ConvergenceWarning: The max_iter was reached which means the coef_ did not converge\n",
            "  warnings.warn(\n",
            "/usr/local/lib/python3.9/dist-packages/sklearn/linear_model/_sag.py:350: ConvergenceWarning: The max_iter was reached which means the coef_ did not converge\n",
            "  warnings.warn(\n",
            "/usr/local/lib/python3.9/dist-packages/sklearn/linear_model/_sag.py:350: ConvergenceWarning: The max_iter was reached which means the coef_ did not converge\n",
            "  warnings.warn(\n",
            "/usr/local/lib/python3.9/dist-packages/sklearn/linear_model/_sag.py:350: ConvergenceWarning: The max_iter was reached which means the coef_ did not converge\n",
            "  warnings.warn(\n",
            "/usr/local/lib/python3.9/dist-packages/sklearn/linear_model/_sag.py:350: ConvergenceWarning: The max_iter was reached which means the coef_ did not converge\n",
            "  warnings.warn(\n",
            "/usr/local/lib/python3.9/dist-packages/sklearn/linear_model/_sag.py:350: ConvergenceWarning: The max_iter was reached which means the coef_ did not converge\n",
            "  warnings.warn(\n",
            "/usr/local/lib/python3.9/dist-packages/sklearn/linear_model/_sag.py:350: ConvergenceWarning: The max_iter was reached which means the coef_ did not converge\n",
            "  warnings.warn(\n",
            "/usr/local/lib/python3.9/dist-packages/sklearn/linear_model/_sag.py:350: ConvergenceWarning: The max_iter was reached which means the coef_ did not converge\n",
            "  warnings.warn(\n",
            "/usr/local/lib/python3.9/dist-packages/sklearn/linear_model/_sag.py:350: ConvergenceWarning: The max_iter was reached which means the coef_ did not converge\n",
            "  warnings.warn(\n",
            "/usr/local/lib/python3.9/dist-packages/sklearn/linear_model/_sag.py:350: ConvergenceWarning: The max_iter was reached which means the coef_ did not converge\n",
            "  warnings.warn(\n",
            "/usr/local/lib/python3.9/dist-packages/sklearn/linear_model/_sag.py:350: ConvergenceWarning: The max_iter was reached which means the coef_ did not converge\n",
            "  warnings.warn(\n",
            "/usr/local/lib/python3.9/dist-packages/sklearn/linear_model/_sag.py:350: ConvergenceWarning: The max_iter was reached which means the coef_ did not converge\n",
            "  warnings.warn(\n",
            "/usr/local/lib/python3.9/dist-packages/sklearn/linear_model/_sag.py:350: ConvergenceWarning: The max_iter was reached which means the coef_ did not converge\n",
            "  warnings.warn(\n",
            "/usr/local/lib/python3.9/dist-packages/sklearn/linear_model/_sag.py:350: ConvergenceWarning: The max_iter was reached which means the coef_ did not converge\n",
            "  warnings.warn(\n",
            "/usr/local/lib/python3.9/dist-packages/sklearn/linear_model/_sag.py:350: ConvergenceWarning: The max_iter was reached which means the coef_ did not converge\n",
            "  warnings.warn(\n",
            "/usr/local/lib/python3.9/dist-packages/sklearn/linear_model/_sag.py:350: ConvergenceWarning: The max_iter was reached which means the coef_ did not converge\n",
            "  warnings.warn(\n",
            "/usr/local/lib/python3.9/dist-packages/sklearn/linear_model/_sag.py:350: ConvergenceWarning: The max_iter was reached which means the coef_ did not converge\n",
            "  warnings.warn(\n",
            "/usr/local/lib/python3.9/dist-packages/sklearn/linear_model/_sag.py:350: ConvergenceWarning: The max_iter was reached which means the coef_ did not converge\n",
            "  warnings.warn(\n",
            "/usr/local/lib/python3.9/dist-packages/sklearn/linear_model/_sag.py:350: ConvergenceWarning: The max_iter was reached which means the coef_ did not converge\n",
            "  warnings.warn(\n",
            "/usr/local/lib/python3.9/dist-packages/sklearn/linear_model/_sag.py:350: ConvergenceWarning: The max_iter was reached which means the coef_ did not converge\n",
            "  warnings.warn(\n",
            "/usr/local/lib/python3.9/dist-packages/sklearn/linear_model/_sag.py:350: ConvergenceWarning: The max_iter was reached which means the coef_ did not converge\n",
            "  warnings.warn(\n",
            "/usr/local/lib/python3.9/dist-packages/sklearn/linear_model/_sag.py:350: ConvergenceWarning: The max_iter was reached which means the coef_ did not converge\n",
            "  warnings.warn(\n",
            "/usr/local/lib/python3.9/dist-packages/sklearn/linear_model/_sag.py:350: ConvergenceWarning: The max_iter was reached which means the coef_ did not converge\n",
            "  warnings.warn(\n",
            "/usr/local/lib/python3.9/dist-packages/sklearn/linear_model/_sag.py:350: ConvergenceWarning: The max_iter was reached which means the coef_ did not converge\n",
            "  warnings.warn(\n",
            "/usr/local/lib/python3.9/dist-packages/sklearn/linear_model/_sag.py:350: ConvergenceWarning: The max_iter was reached which means the coef_ did not converge\n",
            "  warnings.warn(\n",
            "/usr/local/lib/python3.9/dist-packages/sklearn/linear_model/_sag.py:350: ConvergenceWarning: The max_iter was reached which means the coef_ did not converge\n",
            "  warnings.warn(\n",
            "/usr/local/lib/python3.9/dist-packages/sklearn/linear_model/_sag.py:350: ConvergenceWarning: The max_iter was reached which means the coef_ did not converge\n",
            "  warnings.warn(\n",
            "/usr/local/lib/python3.9/dist-packages/sklearn/linear_model/_sag.py:350: ConvergenceWarning: The max_iter was reached which means the coef_ did not converge\n",
            "  warnings.warn(\n",
            "/usr/local/lib/python3.9/dist-packages/sklearn/linear_model/_sag.py:350: ConvergenceWarning: The max_iter was reached which means the coef_ did not converge\n",
            "  warnings.warn(\n",
            "/usr/local/lib/python3.9/dist-packages/sklearn/linear_model/_sag.py:350: ConvergenceWarning: The max_iter was reached which means the coef_ did not converge\n",
            "  warnings.warn(\n",
            "/usr/local/lib/python3.9/dist-packages/sklearn/linear_model/_sag.py:350: ConvergenceWarning: The max_iter was reached which means the coef_ did not converge\n",
            "  warnings.warn(\n",
            "/usr/local/lib/python3.9/dist-packages/sklearn/linear_model/_sag.py:350: ConvergenceWarning: The max_iter was reached which means the coef_ did not converge\n",
            "  warnings.warn(\n",
            "/usr/local/lib/python3.9/dist-packages/sklearn/linear_model/_sag.py:350: ConvergenceWarning: The max_iter was reached which means the coef_ did not converge\n",
            "  warnings.warn(\n",
            "/usr/local/lib/python3.9/dist-packages/sklearn/linear_model/_sag.py:350: ConvergenceWarning: The max_iter was reached which means the coef_ did not converge\n",
            "  warnings.warn(\n",
            "/usr/local/lib/python3.9/dist-packages/sklearn/linear_model/_sag.py:350: ConvergenceWarning: The max_iter was reached which means the coef_ did not converge\n",
            "  warnings.warn(\n",
            "/usr/local/lib/python3.9/dist-packages/sklearn/linear_model/_sag.py:350: ConvergenceWarning: The max_iter was reached which means the coef_ did not converge\n",
            "  warnings.warn(\n",
            "/usr/local/lib/python3.9/dist-packages/sklearn/linear_model/_sag.py:350: ConvergenceWarning: The max_iter was reached which means the coef_ did not converge\n",
            "  warnings.warn(\n",
            "/usr/local/lib/python3.9/dist-packages/sklearn/linear_model/_sag.py:350: ConvergenceWarning: The max_iter was reached which means the coef_ did not converge\n",
            "  warnings.warn(\n",
            "/usr/local/lib/python3.9/dist-packages/sklearn/linear_model/_sag.py:350: ConvergenceWarning: The max_iter was reached which means the coef_ did not converge\n",
            "  warnings.warn(\n",
            "/usr/local/lib/python3.9/dist-packages/sklearn/linear_model/_sag.py:350: ConvergenceWarning: The max_iter was reached which means the coef_ did not converge\n",
            "  warnings.warn(\n",
            "/usr/local/lib/python3.9/dist-packages/sklearn/linear_model/_sag.py:350: ConvergenceWarning: The max_iter was reached which means the coef_ did not converge\n",
            "  warnings.warn(\n",
            "/usr/local/lib/python3.9/dist-packages/sklearn/linear_model/_sag.py:350: ConvergenceWarning: The max_iter was reached which means the coef_ did not converge\n",
            "  warnings.warn(\n",
            "/usr/local/lib/python3.9/dist-packages/sklearn/linear_model/_sag.py:350: ConvergenceWarning: The max_iter was reached which means the coef_ did not converge\n",
            "  warnings.warn(\n",
            "/usr/local/lib/python3.9/dist-packages/sklearn/linear_model/_sag.py:350: ConvergenceWarning: The max_iter was reached which means the coef_ did not converge\n",
            "  warnings.warn(\n",
            "/usr/local/lib/python3.9/dist-packages/sklearn/linear_model/_sag.py:350: ConvergenceWarning: The max_iter was reached which means the coef_ did not converge\n",
            "  warnings.warn(\n",
            "/usr/local/lib/python3.9/dist-packages/sklearn/linear_model/_sag.py:350: ConvergenceWarning: The max_iter was reached which means the coef_ did not converge\n",
            "  warnings.warn(\n",
            "/usr/local/lib/python3.9/dist-packages/sklearn/linear_model/_sag.py:350: ConvergenceWarning: The max_iter was reached which means the coef_ did not converge\n",
            "  warnings.warn(\n",
            "/usr/local/lib/python3.9/dist-packages/sklearn/linear_model/_sag.py:350: ConvergenceWarning: The max_iter was reached which means the coef_ did not converge\n",
            "  warnings.warn(\n",
            "/usr/local/lib/python3.9/dist-packages/sklearn/linear_model/_sag.py:350: ConvergenceWarning: The max_iter was reached which means the coef_ did not converge\n",
            "  warnings.warn(\n",
            "/usr/local/lib/python3.9/dist-packages/sklearn/linear_model/_sag.py:350: ConvergenceWarning: The max_iter was reached which means the coef_ did not converge\n",
            "  warnings.warn(\n",
            "/usr/local/lib/python3.9/dist-packages/sklearn/linear_model/_sag.py:350: ConvergenceWarning: The max_iter was reached which means the coef_ did not converge\n",
            "  warnings.warn(\n",
            "/usr/local/lib/python3.9/dist-packages/sklearn/linear_model/_sag.py:350: ConvergenceWarning: The max_iter was reached which means the coef_ did not converge\n",
            "  warnings.warn(\n",
            "/usr/local/lib/python3.9/dist-packages/sklearn/linear_model/_sag.py:350: ConvergenceWarning: The max_iter was reached which means the coef_ did not converge\n",
            "  warnings.warn(\n",
            "/usr/local/lib/python3.9/dist-packages/sklearn/linear_model/_sag.py:350: ConvergenceWarning: The max_iter was reached which means the coef_ did not converge\n",
            "  warnings.warn(\n",
            "/usr/local/lib/python3.9/dist-packages/sklearn/linear_model/_sag.py:350: ConvergenceWarning: The max_iter was reached which means the coef_ did not converge\n",
            "  warnings.warn(\n",
            "/usr/local/lib/python3.9/dist-packages/sklearn/linear_model/_sag.py:350: ConvergenceWarning: The max_iter was reached which means the coef_ did not converge\n",
            "  warnings.warn(\n",
            "/usr/local/lib/python3.9/dist-packages/sklearn/linear_model/_sag.py:350: ConvergenceWarning: The max_iter was reached which means the coef_ did not converge\n",
            "  warnings.warn(\n",
            "/usr/local/lib/python3.9/dist-packages/sklearn/linear_model/_sag.py:350: ConvergenceWarning: The max_iter was reached which means the coef_ did not converge\n",
            "  warnings.warn(\n",
            "/usr/local/lib/python3.9/dist-packages/sklearn/linear_model/_sag.py:350: ConvergenceWarning: The max_iter was reached which means the coef_ did not converge\n",
            "  warnings.warn(\n",
            "/usr/local/lib/python3.9/dist-packages/sklearn/linear_model/_sag.py:350: ConvergenceWarning: The max_iter was reached which means the coef_ did not converge\n",
            "  warnings.warn(\n",
            "/usr/local/lib/python3.9/dist-packages/sklearn/linear_model/_sag.py:350: ConvergenceWarning: The max_iter was reached which means the coef_ did not converge\n",
            "  warnings.warn(\n",
            "/usr/local/lib/python3.9/dist-packages/sklearn/linear_model/_sag.py:350: ConvergenceWarning: The max_iter was reached which means the coef_ did not converge\n",
            "  warnings.warn(\n",
            "/usr/local/lib/python3.9/dist-packages/sklearn/linear_model/_sag.py:350: ConvergenceWarning: The max_iter was reached which means the coef_ did not converge\n",
            "  warnings.warn(\n",
            "/usr/local/lib/python3.9/dist-packages/sklearn/linear_model/_sag.py:350: ConvergenceWarning: The max_iter was reached which means the coef_ did not converge\n",
            "  warnings.warn(\n",
            "/usr/local/lib/python3.9/dist-packages/sklearn/linear_model/_sag.py:350: ConvergenceWarning: The max_iter was reached which means the coef_ did not converge\n",
            "  warnings.warn(\n",
            "/usr/local/lib/python3.9/dist-packages/sklearn/linear_model/_sag.py:350: ConvergenceWarning: The max_iter was reached which means the coef_ did not converge\n",
            "  warnings.warn(\n",
            "/usr/local/lib/python3.9/dist-packages/sklearn/linear_model/_sag.py:350: ConvergenceWarning: The max_iter was reached which means the coef_ did not converge\n",
            "  warnings.warn(\n",
            "/usr/local/lib/python3.9/dist-packages/sklearn/linear_model/_sag.py:350: ConvergenceWarning: The max_iter was reached which means the coef_ did not converge\n",
            "  warnings.warn(\n",
            "/usr/local/lib/python3.9/dist-packages/sklearn/linear_model/_sag.py:350: ConvergenceWarning: The max_iter was reached which means the coef_ did not converge\n",
            "  warnings.warn(\n",
            "/usr/local/lib/python3.9/dist-packages/sklearn/linear_model/_sag.py:350: ConvergenceWarning: The max_iter was reached which means the coef_ did not converge\n",
            "  warnings.warn(\n",
            "/usr/local/lib/python3.9/dist-packages/sklearn/linear_model/_sag.py:350: ConvergenceWarning: The max_iter was reached which means the coef_ did not converge\n",
            "  warnings.warn(\n",
            "/usr/local/lib/python3.9/dist-packages/sklearn/linear_model/_sag.py:350: ConvergenceWarning: The max_iter was reached which means the coef_ did not converge\n",
            "  warnings.warn(\n",
            "/usr/local/lib/python3.9/dist-packages/sklearn/linear_model/_sag.py:350: ConvergenceWarning: The max_iter was reached which means the coef_ did not converge\n",
            "  warnings.warn(\n",
            "/usr/local/lib/python3.9/dist-packages/sklearn/linear_model/_sag.py:350: ConvergenceWarning: The max_iter was reached which means the coef_ did not converge\n",
            "  warnings.warn(\n",
            "/usr/local/lib/python3.9/dist-packages/sklearn/linear_model/_sag.py:350: ConvergenceWarning: The max_iter was reached which means the coef_ did not converge\n",
            "  warnings.warn(\n",
            "/usr/local/lib/python3.9/dist-packages/sklearn/linear_model/_sag.py:350: ConvergenceWarning: The max_iter was reached which means the coef_ did not converge\n",
            "  warnings.warn(\n",
            "/usr/local/lib/python3.9/dist-packages/sklearn/linear_model/_sag.py:350: ConvergenceWarning: The max_iter was reached which means the coef_ did not converge\n",
            "  warnings.warn(\n",
            "/usr/local/lib/python3.9/dist-packages/sklearn/linear_model/_sag.py:350: ConvergenceWarning: The max_iter was reached which means the coef_ did not converge\n",
            "  warnings.warn(\n",
            "/usr/local/lib/python3.9/dist-packages/sklearn/linear_model/_sag.py:350: ConvergenceWarning: The max_iter was reached which means the coef_ did not converge\n",
            "  warnings.warn(\n",
            "/usr/local/lib/python3.9/dist-packages/sklearn/linear_model/_sag.py:350: ConvergenceWarning: The max_iter was reached which means the coef_ did not converge\n",
            "  warnings.warn(\n",
            "/usr/local/lib/python3.9/dist-packages/sklearn/linear_model/_sag.py:350: ConvergenceWarning: The max_iter was reached which means the coef_ did not converge\n",
            "  warnings.warn(\n",
            "/usr/local/lib/python3.9/dist-packages/sklearn/linear_model/_sag.py:350: ConvergenceWarning: The max_iter was reached which means the coef_ did not converge\n",
            "  warnings.warn(\n",
            "/usr/local/lib/python3.9/dist-packages/sklearn/linear_model/_sag.py:350: ConvergenceWarning: The max_iter was reached which means the coef_ did not converge\n",
            "  warnings.warn(\n",
            "/usr/local/lib/python3.9/dist-packages/sklearn/linear_model/_sag.py:350: ConvergenceWarning: The max_iter was reached which means the coef_ did not converge\n",
            "  warnings.warn(\n",
            "/usr/local/lib/python3.9/dist-packages/sklearn/linear_model/_sag.py:350: ConvergenceWarning: The max_iter was reached which means the coef_ did not converge\n",
            "  warnings.warn(\n",
            "/usr/local/lib/python3.9/dist-packages/sklearn/linear_model/_sag.py:350: ConvergenceWarning: The max_iter was reached which means the coef_ did not converge\n",
            "  warnings.warn(\n",
            "/usr/local/lib/python3.9/dist-packages/sklearn/linear_model/_sag.py:350: ConvergenceWarning: The max_iter was reached which means the coef_ did not converge\n",
            "  warnings.warn(\n",
            "/usr/local/lib/python3.9/dist-packages/sklearn/linear_model/_sag.py:350: ConvergenceWarning: The max_iter was reached which means the coef_ did not converge\n",
            "  warnings.warn(\n",
            "/usr/local/lib/python3.9/dist-packages/sklearn/linear_model/_sag.py:350: ConvergenceWarning: The max_iter was reached which means the coef_ did not converge\n",
            "  warnings.warn(\n",
            "/usr/local/lib/python3.9/dist-packages/sklearn/linear_model/_sag.py:350: ConvergenceWarning: The max_iter was reached which means the coef_ did not converge\n",
            "  warnings.warn(\n",
            "/usr/local/lib/python3.9/dist-packages/sklearn/linear_model/_sag.py:350: ConvergenceWarning: The max_iter was reached which means the coef_ did not converge\n",
            "  warnings.warn(\n",
            "/usr/local/lib/python3.9/dist-packages/sklearn/linear_model/_sag.py:350: ConvergenceWarning: The max_iter was reached which means the coef_ did not converge\n",
            "  warnings.warn(\n",
            "/usr/local/lib/python3.9/dist-packages/sklearn/linear_model/_sag.py:350: ConvergenceWarning: The max_iter was reached which means the coef_ did not converge\n",
            "  warnings.warn(\n",
            "/usr/local/lib/python3.9/dist-packages/sklearn/linear_model/_sag.py:350: ConvergenceWarning: The max_iter was reached which means the coef_ did not converge\n",
            "  warnings.warn(\n",
            "/usr/local/lib/python3.9/dist-packages/sklearn/linear_model/_sag.py:350: ConvergenceWarning: The max_iter was reached which means the coef_ did not converge\n",
            "  warnings.warn(\n",
            "/usr/local/lib/python3.9/dist-packages/sklearn/linear_model/_sag.py:350: ConvergenceWarning: The max_iter was reached which means the coef_ did not converge\n",
            "  warnings.warn(\n",
            "/usr/local/lib/python3.9/dist-packages/sklearn/linear_model/_sag.py:350: ConvergenceWarning: The max_iter was reached which means the coef_ did not converge\n",
            "  warnings.warn(\n",
            "/usr/local/lib/python3.9/dist-packages/sklearn/linear_model/_sag.py:350: ConvergenceWarning: The max_iter was reached which means the coef_ did not converge\n",
            "  warnings.warn(\n"
          ]
        },
        {
          "output_type": "stream",
          "name": "stdout",
          "text": [
            "{'C': 0.1, 'max_iter': 100, 'penalty': 'l1', 'solver': 'saga'}\n"
          ]
        },
        {
          "output_type": "stream",
          "name": "stderr",
          "text": [
            "/usr/local/lib/python3.9/dist-packages/sklearn/linear_model/_sag.py:350: ConvergenceWarning: The max_iter was reached which means the coef_ did not converge\n",
            "  warnings.warn(\n"
          ]
        }
      ],
      "source": [
        "# define hyperparameter (solver, C value, penalty, max_iter)\n",
        "model = LogisticRegression(multi_class=\"multinomial\")\n",
        "param_grid = [{'solver': ['saga'],\n",
        "     'C': [100, 10, 1.0, 0.1, 0.01],\n",
        "     'penalty' : ['l1', 'l2'],\n",
        "     'max_iter' : [100,1000,2500,5000]\n",
        "     }]\n",
        "\n",
        "# define grid search with GridSearchCV\n",
        "grid_search = GridSearchCV(estimator=model, param_grid=param_grid, refit=True, cv=10, verbose=True, error_score='raise')\n",
        "\n",
        "# fit model (proses training)\n",
        "sf_model = grid_search.fit(X_train, y_train)\n",
        "\n",
        "# Search for the best hyperparameter for the model\n",
        "print(sf_model.best_params_)"
      ],
      "id": "Zw_O9hZSHeUK"
    },
    {
      "cell_type": "markdown",
      "metadata": {
        "id": "4d0a6ec0-ad62-45cd-8c3b-fb3a80cdd713"
      },
      "source": [
        "#### 3. Pilih Hyperparameter terbaik ukuran kinerja\n",
        "\n",
        "Analisis process tunning hyperparameter  diatas. Mana hyperparameter dengan model terbaik. Tuliskan analisa detailnya dibawah ini (gunakan semua ukuran kinerja Klasifikasi disini (precision,recall, F1, ROC) untuk menganalisis dan gunakan data test."
      ],
      "id": "4d0a6ec0-ad62-45cd-8c3b-fb3a80cdd713"
    },
    {
      "cell_type": "code",
      "execution_count": null,
      "metadata": {
        "colab": {
          "base_uri": "https://localhost:8080/"
        },
        "id": "0S5YKI4HHGVp",
        "outputId": "b6d0c56f-89be-47a8-88e7-7b803f5b0102"
      },
      "outputs": [
        {
          "output_type": "stream",
          "name": "stdout",
          "text": [
            "Accuracy Score:  0.75\n"
          ]
        },
        {
          "output_type": "stream",
          "name": "stderr",
          "text": [
            "/usr/local/lib/python3.9/dist-packages/sklearn/linear_model/_sag.py:350: ConvergenceWarning: The max_iter was reached which means the coef_ did not converge\n",
            "  warnings.warn(\n"
          ]
        }
      ],
      "source": [
        "# Fitting with best hyperparameter for the model 1\n",
        "best_softmax = LogisticRegression(multi_class=\"multinomial\", penalty='l2',C=100, solver='saga', max_iter=1000)\n",
        "best_softmax.fit(X_train, y_train)\n",
        "\n",
        "# cek hasil ke data test pengukuran akurasi\n",
        "y_pred = best_softmax.predict(X_test)\n",
        "print(\"Accuracy Score: \", accuracy_score(y_test, y_pred))\n",
        "\n",
        "# lakukan fitting berapa kali dengan mengubah orde hyperparameter sehingga memdapatkan model terbaik dan gunakan data test untuk evaluasi.\n",
        "# tuliskan semua code minimal 2 kali process training dengan hyperparameter berbeda atau gunakan searchCV"
      ],
      "id": "0S5YKI4HHGVp"
    },
    {
      "cell_type": "code",
      "execution_count": null,
      "metadata": {
        "colab": {
          "base_uri": "https://localhost:8080/"
        },
        "id": "2XG-hQTPI7K5",
        "outputId": "14e50916-b216-45fb-d5d0-11dfbdb61420"
      },
      "outputs": [
        {
          "output_type": "stream",
          "name": "stdout",
          "text": [
            "Accuracy Score:  0.75\n"
          ]
        }
      ],
      "source": [
        "# Fitting with best hyperparameter for the model 2\n",
        "best_softmax = LogisticRegression(multi_class=\"multinomial\", penalty='l2',C=100, solver='newton-cg', max_iter=100)\n",
        "best_softmax.fit(X_train, y_train)\n",
        "\n",
        "# cek hasil ke data test pengukuran akurasi\n",
        "y_pred = best_softmax.predict(X_test)\n",
        "print(\"Accuracy Score: \", accuracy_score(y_test, y_pred))"
      ],
      "id": "2XG-hQTPI7K5"
    },
    {
      "cell_type": "markdown",
      "metadata": {
        "id": "Vxwg3LuwJE3m"
      },
      "source": [
        "**Ukuran Kinerja Model Regresi Softmax untuk Klasifikasi Multiclass**\n",
        "\n",
        "Karena tingkat akurasi untuk kedua model bernilai sama yakni 0.75, maka kami memilih salah satu model terbaik untuk diukur kinerjanya yakni model dengan hyperparameter {'C': 100, 'max_iter': 100, 'penalty': 'l2', 'solver': 'newton-cg'}"
      ],
      "id": "Vxwg3LuwJE3m"
    },
    {
      "cell_type": "code",
      "execution_count": null,
      "metadata": {
        "colab": {
          "base_uri": "https://localhost:8080/"
        },
        "id": "4uQ1NUfchoFw",
        "outputId": "55d7d342-f9a6-4301-c974-c54bb73d79ca"
      },
      "outputs": [
        {
          "output_type": "stream",
          "name": "stdout",
          "text": [
            "Validation Score :  0.775\n"
          ]
        },
        {
          "output_type": "execute_result",
          "data": {
            "text/plain": [
              "array([[ 8,  5,  0],\n",
              "       [ 4, 13,  0],\n",
              "       [ 0,  0, 10]])"
            ]
          },
          "metadata": {},
          "execution_count": 42
        }
      ],
      "source": [
        "from sklearn.model_selection import cross_val_predict, cross_val_score\n",
        "from sklearn.metrics import confusion_matrix\n",
        "\n",
        "y_test_pred = cross_val_predict(best_softmax, X_test, y_test, cv=10)\n",
        "y_scores_rf = cross_val_score(best_softmax, X_test, y_test, cv=10)\n",
        "\n",
        "print(\"Validation Score : \", y_scores_rf.mean())\n",
        "confusion_matrix(y_test, y_test_pred)"
      ],
      "id": "4uQ1NUfchoFw"
    },
    {
      "cell_type": "code",
      "execution_count": null,
      "metadata": {
        "colab": {
          "base_uri": "https://localhost:8080/"
        },
        "id": "SMoxJfJsnnbH",
        "outputId": "14a0839a-2102-4bf0-846e-aae9bb146a2c"
      },
      "outputs": [
        {
          "output_type": "stream",
          "name": "stdout",
          "text": [
            "Precision : 0.7962962962962963\n",
            "Recall : 0.7933634992458521\n",
            "F1 Score :  0.7942857142857142\n"
          ]
        }
      ],
      "source": [
        "from sklearn.metrics import precision_score, recall_score\n",
        "from sklearn.metrics import f1_score\n",
        "\n",
        "print(\"Precision :\", precision_score(y_test, y_test_pred, average='macro'))\n",
        "print(\"Recall :\", recall_score(y_test, y_test_pred, average='macro'))\n",
        "print(\"F1 Score : \", f1_score(y_test, y_test_pred, average ='macro'))\n",
        "\n",
        "# karena bersifat multiclass, maka pada precision_score, recall_score, f1_score\n",
        "# perlu ditambahkan average dengan opsi 'micro','macro', dan 'weighted'.\n",
        "# Lihat dokumentasi precision_score sklearn"
      ],
      "id": "SMoxJfJsnnbH"
    },
    {
      "cell_type": "code",
      "execution_count": null,
      "metadata": {
        "colab": {
          "base_uri": "https://localhost:8080/"
        },
        "id": "QkJPuqccURa7",
        "outputId": "a4311091-f0a9-4f93-d9a5-737ff1deca9a"
      },
      "outputs": [
        {
          "output_type": "stream",
          "name": "stdout",
          "text": [
            "ROC One over the Rest (OvR) Softmax Regression\n",
            "{0: 0.7336182336182336, 1: 0.7736572890025575, 2: 1.0}\n",
            "ROC OvR =  0.8357585075402637\n"
          ]
        }
      ],
      "source": [
        "from sklearn.metrics import roc_auc_score\n",
        "\n",
        "def roc_auc_score_multiclass(actual_class, pred_class, average = \"macro\"):\n",
        "\n",
        "  #creating a set of all the unique classes using the actual class list\n",
        "  unique_class = set(actual_class)\n",
        "  roc_auc_dict = {}\n",
        "  for per_class in unique_class:\n",
        "    #creating a list of all the classes except the current class\n",
        "    other_class = [x for x in unique_class if x != per_class]\n",
        "\n",
        "    #marking the current class as 1 and all other classes as 0\n",
        "    new_actual_class = [0 if x in other_class else 1 for x in actual_class]\n",
        "    new_pred_class = [0 if x in other_class else 1 for x in pred_class]\n",
        "\n",
        "    #using the sklearn metrics method to calculate the roc_auc_score\n",
        "    roc_auc = roc_auc_score(new_actual_class, new_pred_class, average = average)\n",
        "    roc_auc_dict[per_class] = roc_auc\n",
        "\n",
        "  return roc_auc_dict\n",
        "\n",
        "print(\"ROC One over the Rest (OvR) Softmax Regression\")\n",
        "# assuming your already have a list of actual_class and predicted_class from the softmax regression classifier\n",
        "sr_roc_auc_multiclass = roc_auc_score_multiclass(y_test, y_test_pred)\n",
        "print(sr_roc_auc_multiclass)\n",
        "\n",
        "print(\"ROC OvR = \", sum(sr_roc_auc_multiclass.values()) / float(len(sr_roc_auc_multiclass)))"
      ],
      "id": "QkJPuqccURa7"
    },
    {
      "cell_type": "markdown",
      "metadata": {
        "id": "5a37c8f4-8209-44a1-9d14-f1cd2e4d7537"
      },
      "source": [
        "# 3. Decision Tree, Ensamble Learning dan Random Forest.(40%)"
      ],
      "id": "5a37c8f4-8209-44a1-9d14-f1cd2e4d7537"
    },
    {
      "cell_type": "markdown",
      "metadata": {
        "id": "b86de29f-c0ac-4bc7-965e-3b9afd252e6a"
      },
      "source": [
        "### Dataset\n",
        "Pada soal nomer tiga ini akan digunakan dataset dari Hand Letter Character  EMNIST.\n",
        "Link dataset Soal 3: [Link Download](https://drive.google.com/drive/folders/1evUshGLGINJ80MQXDvHNi3HGw_iSni6H?usp=share_link)\n",
        "\n",
        "Dengan kategori label:\n",
        "Label,Descripion\n",
        "1. A\n",
        "2. B\n",
        "3. C\n",
        "4. D\n",
        "5. E\n",
        "6. F\n",
        "7. G\n",
        "8. H\n",
        "9. I\n",
        "10. J\n",
        "11. K\n",
        "12. L\n",
        "13. M\n",
        "14. N\n",
        "15. O\n",
        "16. P\n",
        "17. Q\n",
        "18. R\n",
        "19. S\n",
        "20. T\n",
        "21. U\n",
        "22. V\n",
        "23. W\n",
        "24. X\n",
        "25. Y\n",
        "26. Z\n",
        "\n",
        "Setiap kelompok hanya mengklasifikasi dengan kelas label yang disesuaikan dengan angka terakhir di NIM masing-masing untuk yang akan diklasifikasi. Contoh Nim anggota 1. 112090006, 2. 112090004, 3.112090005, 4.112090007 pilih angka 4, 5, 6 dan 7 berarti hanya data dengan lebel 4(D), 5(E), 6(F) dan 7(G) yang akan diklasifikasi. Jika ada beberapa nim dengan nomer belakang sama maka pilih abjad lain untuk diklasifikasi minimal 4 abjad yang diklasifikasi."
      ],
      "id": "b86de29f-c0ac-4bc7-965e-3b9afd252e6a"
    },
    {
      "cell_type": "markdown",
      "metadata": {
        "id": "0abvyYpdqv7S"
      },
      "source": [
        "**Kelompok 1 : 1102201685 (E), 1102204388 (H), 1102210399 (I)**\n",
        "</br>data label 1(A), 5(E), 8(H), 9(I)"
      ],
      "id": "0abvyYpdqv7S"
    },
    {
      "cell_type": "code",
      "execution_count": null,
      "metadata": {
        "colab": {
          "base_uri": "https://localhost:8080/"
        },
        "id": "1197cb30-49f7-44aa-b556-d721602dcfe8",
        "outputId": "4d0c485b-7a96-4f11-f7ed-2329b87e9c06"
      },
      "outputs": [
        {
          "data": {
            "text/plain": [
              "(2308, 784)"
            ]
          },
          "execution_count": 2,
          "metadata": {},
          "output_type": "execute_result"
        }
      ],
      "source": [
        "# Load libraries\n",
        "import pandas as pd\n",
        "import numpy as np\n",
        "import matplotlib.pyplot as plt\n",
        "\n",
        "data_train = pd.read_excel('emnist-letters-train.xlsx')\n",
        "labels = [1, 5, 8, 9] # ganti ini dengan label sesuai lebel kelompok kalian, Jika tidak disesuaikan nilai akan 0 di nomer ini.\n",
        "data_train_isin = data_train[data_train[\"Label\"].isin(labels)] # memilah label berdasarkan labels\n",
        "X = data_train_isin.drop(columns=['Label']) #drop / menghilangkan columns label\n",
        "y = data_train_isin['Label'] # mengambil column label\n",
        "#check data size\n",
        "X.shape"
      ],
      "id": "1197cb30-49f7-44aa-b556-d721602dcfe8"
    },
    {
      "cell_type": "markdown",
      "metadata": {
        "id": "91da9c98-45c0-47cb-bb09-681ae9822ec8"
      },
      "source": [
        "#### 1. Plot image dari salah satu instance\n",
        "Load image dengan ketentuan image 28 x 28"
      ],
      "id": "91da9c98-45c0-47cb-bb09-681ae9822ec8"
    },
    {
      "cell_type": "code",
      "execution_count": null,
      "metadata": {
        "colab": {
          "base_uri": "https://localhost:8080/",
          "height": 929
        },
        "id": "mLrE6o-AYoa5",
        "outputId": "d7438cc2-bb34-46d2-a4dc-97b1782330df"
      },
      "outputs": [
        {
          "data": {
            "image/png": "[encoded data removed]",
            "text/plain": [
              "<Figure size 640x480 with 1 Axes>"
            ]
          },
          "metadata": {},
          "output_type": "display_data"
        },
        {
          "data": {
            "image/png": "[encoded data removed]",
            "text/plain": [
              "<Figure size 640x480 with 1 Axes>"
            ]
          },
          "metadata": {},
          "output_type": "display_data"
        },
        {
          "data": {
            "image/png": "[encoded data removed]",
            "text/plain": [
              "<Figure size 640x480 with 1 Axes>"
            ]
          },
          "metadata": {},
          "output_type": "display_data"
        },
        {
          "data": {
            "image/png": "[encoded data removed]",
            "text/plain": [
              "<Figure size 640x480 with 1 Axes>"
            ]
          },
          "metadata": {},
          "output_type": "display_data"
        }
      ],
      "source": [
        "# making subplots objects\n",
        "import matplotlib as mpl\n",
        "import matplotlib.pyplot as plt\n",
        "\n",
        "plt.subplot(2,2,1)\n",
        "some_digit = X[0:1]\n",
        "handletter = some_digit.values.reshape(28, 28)\n",
        "plt.imshow(handletter, cmap=mpl.cm.binary)\n",
        "plt.title('Handletter E (Label: 5)', fontsize=8)\n",
        "plt.axis(\"on\")\n",
        "plt.show()\n",
        "\n",
        "plt.subplot(2,2,2)\n",
        "some_digit = X[1:2]\n",
        "handletter = some_digit.values.reshape(28, 28)\n",
        "plt.imshow(handletter, cmap=mpl.cm.binary)\n",
        "plt.title('Handletter I (Label: 9)', fontsize=8)\n",
        "plt.axis(\"on\")\n",
        "plt.show()\n",
        "\n",
        "plt.subplot(2,2,3)\n",
        "some_digit = X[7:8]\n",
        "handletter = some_digit.values.reshape(28, 28)\n",
        "plt.imshow(handletter, cmap=mpl.cm.binary)\n",
        "plt.title('Handletter H (Label: 8)', fontsize=8)\n",
        "plt.axis(\"on\")\n",
        "plt.show()\n",
        "\n",
        "plt.subplot(2,2,4)\n",
        "some_digit = X[5:6]\n",
        "handletter = some_digit.values.reshape(28, 28)\n",
        "plt.imshow(handletter, cmap=mpl.cm.binary)\n",
        "plt.title('Handletter A (Label: A)', fontsize=8)\n",
        "plt.axis(\"on\")\n",
        "plt.show()"
      ],
      "id": "mLrE6o-AYoa5"
    },
    {
      "cell_type": "markdown",
      "metadata": {
        "id": "9a7a8b93-0347-4c12-9bcc-d829228ed91b"
      },
      "source": [
        "#### 2. Memisahkan lebel dengan fitur\n",
        "\n",
        "Split dataset dengan ketentuan training size 80% dan testing size 20%"
      ],
      "id": "9a7a8b93-0347-4c12-9bcc-d829228ed91b"
    },
    {
      "cell_type": "code",
      "execution_count": null,
      "metadata": {
        "id": "49ca47bb-ce9b-4e06-80f1-1d01b0f4a66f"
      },
      "outputs": [],
      "source": [
        "from sklearn.model_selection import train_test_split\n",
        "X_train, X_test, y_train, y_test = train_test_split(X, y, train_size=0.8)"
      ],
      "id": "49ca47bb-ce9b-4e06-80f1-1d01b0f4a66f"
    },
    {
      "cell_type": "markdown",
      "metadata": {
        "id": "cfdd02e8-8807-4ce2-976b-4736db473a8b"
      },
      "source": [
        "#### 3. Initialisasi Model Random Forest dan hyperparameter  machine learning dengan mengunakan 3 fold cross-validation\n",
        "\n",
        "Lakukan process training berulang kali (minimal 3 kali) ganti hyperparameternya temukan model terbaik tuliskan semua codenya."
      ],
      "id": "cfdd02e8-8807-4ce2-976b-4736db473a8b"
    },
    {
      "cell_type": "code",
      "execution_count": null,
      "metadata": {
        "id": "zEsI039aBCzz"
      },
      "outputs": [],
      "source": [
        "from sklearn.ensemble import RandomForestClassifier\n",
        "from sklearn.model_selection import cross_val_score"
      ],
      "id": "zEsI039aBCzz"
    },
    {
      "cell_type": "code",
      "execution_count": null,
      "metadata": {
        "colab": {
          "base_uri": "https://localhost:8080/"
        },
        "id": "Sr_m4X7wE1Q3",
        "outputId": "b270bc0d-2eb7-440e-fd78-6c5c74c2cee2"
      },
      "outputs": [
        {
          "name": "stdout",
          "output_type": "stream",
          "text": [
            "First Training : Different Criterion (Gini or Entropy)\n",
            "Accuracy Score with Gini:  0.9019498117059093\n",
            "Accuracy Score with Entropy :  0.9019498117059093\n",
            "\n",
            "Second Training : Different Max Depth (Criterion : Entropy)\n",
            "Accuracy Score with with Max Depth=8 :  0.9246990814063984\n",
            "Accuracy Score with Max Depth=10 :  0.9306585013902087\n",
            "\n",
            "Third Training : Different  n_estimator (Criterion : Entropy)\n",
            "Accuracy Score with with n_estimator=500 :  0.9322862774082287\n",
            "Accuracy Score with n_estimator=2000 :  0.9317442719881744\n"
          ]
        }
      ],
      "source": [
        "# First Training : Different Criterion (Gini or Entropy)\n",
        "\n",
        "print(\"First Training : Different Criterion (Gini or Entropy)\")\n",
        "rf_clf1 = RandomForestClassifier(criterion='gini', n_estimators=500, max_depth=5, random_state=42)\n",
        "scores1 = cross_val_score(rf_clf1, X_train, y_train, cv=3)\n",
        "print(\"Accuracy Score with Gini: \", scores1.mean())\n",
        "\n",
        "rf_clf2 = RandomForestClassifier(criterion='entropy', n_estimators=500, max_depth=5, random_state=42)\n",
        "scores2 = cross_val_score(rf_clf2, X_train, y_train, cv=3)\n",
        "print(\"Accuracy Score with Entropy : \", scores2.mean())\n",
        "\n",
        "# Second Training : Different Max Depth (Criterion : Entropy)\n",
        "\n",
        "print(\"\\nSecond Training : Different Max Depth (Criterion : Entropy)\")\n",
        "rf_clf1 = RandomForestClassifier(criterion='entropy', n_estimators=500, max_depth=8, random_state=42)\n",
        "scores1 = cross_val_score(rf_clf1, X_train, y_train, cv=3)\n",
        "print(\"Accuracy Score with with Max Depth=8 : \", scores1.mean())\n",
        "\n",
        "rf_clf2 = RandomForestClassifier(criterion='entropy', n_estimators=500, max_depth=10, random_state=42)\n",
        "scores2 = cross_val_score(rf_clf2, X_train, y_train, cv=3)\n",
        "print(\"Accuracy Score with Max Depth=10 : \", scores2.mean())\n",
        "\n",
        "# Third Training : Different n_estimators (Criterion : Entropy)\n",
        "\n",
        "print(\"\\nThird Training : Different  n_estimator (Criterion : Entropy)\")\n",
        "rf_clf1 = RandomForestClassifier(criterion='entropy', n_estimators=500, max_depth=20, random_state=42)\n",
        "scores1 = cross_val_score(rf_clf1, X_train, y_train, cv=3)\n",
        "print(\"Accuracy Score with with n_estimator=500 : \", scores1.mean())\n",
        "\n",
        "rf_clf2 = RandomForestClassifier(criterion='entropy', n_estimators=2000, max_depth=20, random_state=42)\n",
        "scores2 = cross_val_score(rf_clf2, X_train, y_train, cv=3)\n",
        "print(\"Accuracy Score with n_estimator=2000 : \", scores2.mean())"
      ],
      "id": "Sr_m4X7wE1Q3"
    },
    {
      "cell_type": "markdown",
      "metadata": {
        "id": "DCBg8lRtxPnB"
      },
      "source": [
        "**Analisis**:\n",
        "</br>Berdasarkan proses training dengan hyperparameter yang diubah-ubah tersebut, setidaknya diperoleh beberapa kesimpulan sebagai berikut:\n",
        "\n",
        "1.   Model dengan hyperparameter impurity entropy memiliki skor akurasi yang lebih tinggi daripada gini.\n",
        "2.   Semakin besar max-depth, maka tingkat akurasinya juga kana semakin meningkat sebab max_depth pada Random Forest didefinisikan sebagai tingkat kedalaman percabangan antara root node dan leaf node.\n",
        "3.   Sebaliknya, pada data ini apabila model menggunakan n_estimator yang semakin besar, maka tingkat akurasinya akan menurun. Ini berarti n_estimators berbanding terbalik dengan tingkat akurasi model. n_estimators mendefinisikan jumlah tree dalam model random forest tersebut."
      ],
      "id": "DCBg8lRtxPnB"
    },
    {
      "cell_type": "code",
      "execution_count": null,
      "metadata": {
        "colab": {
          "base_uri": "https://localhost:8080/"
        },
        "id": "nSo2KiuLtEYI",
        "outputId": "6e9148ca-136b-482f-f7b6-3304fe18bbd5"
      },
      "outputs": [
        {
          "name": "stdout",
          "output_type": "stream",
          "text": [
            "Fit the model with Best Hyperparameter\n",
            "Accuracy Score:  0.9322862774082287\n"
          ]
        }
      ],
      "source": [
        "# Fit the model with best Hyperparameter per label\n",
        "print(\"Fit the model with Best Hyperparameter\")\n",
        "\n",
        "rf_clf_All = RandomForestClassifier(criterion='entropy', n_estimators=500, max_depth=20, random_state=42)\n",
        "score_All = cross_val_score(rf_clf_All, X_train, y_train, cv=3)\n",
        "print(\"Accuracy Score: \", score_All.mean())"
      ],
      "id": "nSo2KiuLtEYI"
    },
    {
      "cell_type": "markdown",
      "metadata": {
        "id": "6736b1f0-3f6d-44c9-b5de-94b936c79238"
      },
      "source": [
        "#### 4. Hitung ukuran kinerja model random forest sertakan analisis\n",
        "Analisis process tunning hyperparameter  diatas. Mana hyperparameter dengan model terbaik. Tuliskan analisa detailnya dibawah ini (gunakan semua ukuran kinerja Klasifikasi disini (precision,recall, F1, ROC) untuk menganalisis dan gunakan data test."
      ],
      "id": "6736b1f0-3f6d-44c9-b5de-94b936c79238"
    },
    {
      "cell_type": "code",
      "execution_count": null,
      "metadata": {
        "id": "XXwX9Ed3UiNy"
      },
      "outputs": [],
      "source": [
        "from sklearn.metrics import precision_score, recall_score\n",
        "from sklearn.model_selection import cross_val_predict\n",
        "from sklearn.metrics import f1_score\n",
        "from sklearn.metrics import roc_auc_score"
      ],
      "id": "XXwX9Ed3UiNy"
    },
    {
      "cell_type": "code",
      "execution_count": null,
      "metadata": {
        "colab": {
          "base_uri": "https://localhost:8080/"
        },
        "id": "YGcRosfea6xm",
        "outputId": "7220081a-54df-4cff-ef07-7d2b4c580aed"
      },
      "outputs": [
        {
          "name": "stdout",
          "output_type": "stream",
          "text": [
            "Validation Score :  0.9134199134199134\n"
          ]
        }
      ],
      "source": [
        "valscore_rf = cross_val_score(rf_clf_All, X_test, y_test, cv=3)\n",
        "print(\"Validation Score : \", valscore_rf.mean())"
      ],
      "id": "YGcRosfea6xm"
    },
    {
      "cell_type": "code",
      "execution_count": null,
      "metadata": {
        "colab": {
          "base_uri": "https://localhost:8080/"
        },
        "id": "P3TjhE9jFUgy",
        "outputId": "d2c15183-9a31-4307-a932-fd50ed19f2d1"
      },
      "outputs": [
        {
          "name": "stdout",
          "output_type": "stream",
          "text": [
            "Precision Score :  0.9117103541967102\n",
            "Recall Score :  0.9159275115281642\n",
            "F1 Score :  0.9133911326955645\n"
          ]
        }
      ],
      "source": [
        "y_pred_All = cross_val_predict(rf_clf_All, X_test, y_test, cv=3)\n",
        "\n",
        "# Precision Score\n",
        "print(\"Precision Score : \", precision_score(y_pred_All, y_test, average='macro'))\n",
        "precision_rf = precision_score(y_pred_All, y_test, average='macro')\n",
        "\n",
        "# Recall Score\n",
        "print(\"Recall Score : \", recall_score(y_pred_All, y_test, average='macro'))\n",
        "recall_rf = recall_score(y_pred_All, y_test, average='macro')\n",
        "\n",
        "# f1 score\n",
        "print(\"F1 Score : \", f1_score(y_pred_All, y_test, average='macro'))\n",
        "f1score_rf = f1_score(y_pred_All, y_test, average='macro')"
      ],
      "id": "P3TjhE9jFUgy"
    },
    {
      "cell_type": "code",
      "execution_count": null,
      "metadata": {
        "colab": {
          "base_uri": "https://localhost:8080/"
        },
        "id": "rS4j3jNTsTf8",
        "outputId": "2886938e-e144-4ba7-d5aa-5882f6c9da51"
      },
      "outputs": [
        {
          "name": "stdout",
          "output_type": "stream",
          "text": [
            "ROC One over the Rest (OvR) Random Forest\n",
            "{8: 0.9348418185627487, 1: 0.9117027941360731, 5: 0.9424521857923498, 9: 0.9759402121504338}\n",
            "ROC OvR =  0.9412342526604014\n"
          ]
        }
      ],
      "source": [
        "from sklearn.metrics import roc_auc_score\n",
        "\n",
        "def roc_auc_score_multiclass(actual_class, pred_class, average = \"macro\"):\n",
        "\n",
        "  #creating a set of all the unique classes using the actual class list\n",
        "  unique_class = set(actual_class)\n",
        "  roc_auc_dict = {}\n",
        "  for per_class in unique_class:\n",
        "    #creating a list of all the classes except the current class\n",
        "    other_class = [x for x in unique_class if x != per_class]\n",
        "\n",
        "    #marking the current class as 1 and all other classes as 0\n",
        "    new_actual_class = [0 if x in other_class else 1 for x in actual_class]\n",
        "    new_pred_class = [0 if x in other_class else 1 for x in pred_class]\n",
        "\n",
        "    #using the sklearn metrics method to calculate the roc_auc_score\n",
        "    roc_auc = roc_auc_score(new_actual_class, new_pred_class, average = average)\n",
        "    roc_auc_dict[per_class] = roc_auc\n",
        "\n",
        "  return roc_auc_dict\n",
        "\n",
        "print(\"ROC One over the Rest (OvR) Random Forest\")\n",
        "# assuming your already have a list of actual_class and predicted_class from the softmax regression classifier\n",
        "rf_roc_auc_multiclass = roc_auc_score_multiclass(y_test, y_pred_All)\n",
        "print(rf_roc_auc_multiclass)\n",
        "\n",
        "rf_roc_average = sum(rf_roc_auc_multiclass.values()) / float(len(rf_roc_auc_multiclass))\n",
        "print(\"ROC OvR = \", rf_roc_average)"
      ],
      "id": "rS4j3jNTsTf8"
    },
    {
      "cell_type": "markdown",
      "metadata": {
        "id": "87bfc483-daaf-49a0-b9d5-cc7932d9ddb0"
      },
      "source": [
        "#### 5. Pilih fitur terpenting yang mana yang sangat mempengaruhi model."
      ],
      "id": "87bfc483-daaf-49a0-b9d5-cc7932d9ddb0"
    },
    {
      "cell_type": "code",
      "execution_count": null,
      "metadata": {
        "id": "c_vQIKxSFzIE"
      },
      "outputs": [],
      "source": [
        "## Pilih fitur terpenting yang mana yang sangat mempengaruhi model.\n",
        "\n",
        "rf_clf_All.fit(X_train, y_train)\n",
        "for name, score in zip(X, rf_clf_All.feature_importances_):\n",
        "  print(name,score)"
      ],
      "id": "c_vQIKxSFzIE"
    },
    {
      "cell_type": "code",
      "execution_count": null,
      "metadata": {
        "colab": {
          "base_uri": "https://localhost:8080/",
          "height": 420
        },
        "id": "ZtTbJRNcF3RA",
        "outputId": "c8979d77-ed59-4558-dbc6-e09f9b32c0df"
      },
      "outputs": [
        {
          "data": {
            "image/png": "[encoded data removed]",
            "text/plain": [
              "<Figure size 640x480 with 2 Axes>"
            ]
          },
          "metadata": {},
          "output_type": "display_data"
        }
      ],
      "source": [
        "import matplotlib as mpl\n",
        "def plot_digit(data):\n",
        "  image = data.reshape(28,28)\n",
        "  plt.imshow(image, cmap = mpl.cm.hot,\n",
        "             interpolation=\"nearest\")\n",
        "  plt.axis(\"off\")\n",
        "\n",
        "plot_digit(rf_clf_All.feature_importances_)\n",
        "\n",
        "cbar = plt.colorbar(ticks=[rf_clf_All.feature_importances_.min(), rf_clf_All.feature_importances_.max()])\n",
        "cbar.ax.set_yticklabels(['Not Important','Very Important'])\n",
        "plt.show()"
      ],
      "id": "ZtTbJRNcF3RA"
    },
    {
      "cell_type": "markdown",
      "metadata": {
        "id": "jXQFBz1edB4F"
      },
      "source": [
        "**Analisis :**\n",
        "</br> Sebagaimana yang terlihat pada plot *feature importances* tersebut, semakin terang suatu pixel, maka pixel tersebut merupakan fitur terpenting yang sangat mempengaruhi model karena dalam dataset ini, fitur diwakili oleh 28 x 28 pixel warna. Itu artinya ada 784 fitur."
      ],
      "id": "jXQFBz1edB4F"
    },
    {
      "cell_type": "markdown",
      "metadata": {
        "id": "eb43e64e-a2be-4285-a6a7-9202e32330a5"
      },
      "source": [
        "#### 6. Buatlah model yang sama dengan random forest dan menggunakan metode bagging dan decision tree"
      ],
      "id": "eb43e64e-a2be-4285-a6a7-9202e32330a5"
    },
    {
      "cell_type": "code",
      "execution_count": null,
      "metadata": {
        "id": "5cbe52fa-1ffc-4006-a565-9cb9b54ede80"
      },
      "outputs": [],
      "source": [
        "from sklearn.ensemble import BaggingClassifier\n",
        "from sklearn.tree import DecisionTreeClassifier\n",
        "from sklearn.metrics import accuracy_score"
      ],
      "id": "5cbe52fa-1ffc-4006-a565-9cb9b54ede80"
    },
    {
      "cell_type": "code",
      "execution_count": null,
      "metadata": {
        "colab": {
          "background_save": true
        },
        "id": "u1Bd1G7GF_nK",
        "outputId": "e242e6c4-d57f-4f36-d69e-cf37235d0489"
      },
      "outputs": [
        {
          "name": "stdout",
          "output_type": "stream",
          "text": [
            "Accuracy Score (DT & Bagging):  0.8954492661809734\n"
          ]
        }
      ],
      "source": [
        "bag_clf_All = BaggingClassifier(DecisionTreeClassifier(criterion=\"entropy\", max_depth=20, random_state=42),\n",
        "                            n_estimators=2000, bootstrap=True)\n",
        "acc_bag = cross_val_score(bag_clf_All, X_train, y_train, cv=3)\n",
        "\n",
        "print(\"Accuracy Score (DT & Bagging): \", acc_bag.mean())"
      ],
      "id": "u1Bd1G7GF_nK"
    },
    {
      "cell_type": "markdown",
      "metadata": {
        "id": "39c006ef-150a-4ddf-b65b-1269462c2280"
      },
      "source": [
        "#### 7. Hitung ukuran kinerja model metode bagging dan decision tree sertakan analisis\n",
        "Analisis process tunning hyperparameter  diatas. Mana hyperparameter dengan model terbaik. Tuliskan analisa detailnya dibawah ini (gunakan semua ukuran kinerja Klasifikasi disini (precision,recall, F1, ROC) untuk menganalisis dan gunakan data test."
      ],
      "id": "39c006ef-150a-4ddf-b65b-1269462c2280"
    },
    {
      "cell_type": "code",
      "execution_count": null,
      "metadata": {
        "colab": {
          "base_uri": "https://localhost:8080/"
        },
        "id": "eb48e21d-4cd9-4d0e-a6f2-6dbc97c41a80",
        "outputId": "2f551319-e7c1-4d52-849d-63e434f55ab9"
      },
      "outputs": [
        {
          "name": "stdout",
          "output_type": "stream",
          "text": [
            "Validation Score :  [0.87012987 0.9025974  0.85064935]\n",
            "Precision Score :  0.8793512016747059\n",
            "Recall Score :  0.8833410124935958\n",
            "F1 Score :  0.8805284733771452\n"
          ]
        }
      ],
      "source": [
        "y_pred_bdt = cross_val_predict(bag_clf_All, X_test, y_test, cv=3)\n",
        "y_val_bdt = cross_val_score(bag_clf_All, X_test, y_test, cv=3)\n",
        "print(\"Validation Score : \", y_val_bdt)\n",
        "\n",
        "# Precision Score\n",
        "print(\"Precision Score : \", precision_score(y_pred_bdt, y_test, average='macro'))\n",
        "precision_bag = precision_score(y_pred_bdt, y_test, average='macro')\n",
        "\n",
        "# Recall Score\n",
        "print(\"Recall Score : \", recall_score(y_pred_bdt, y_test, average='macro'))\n",
        "recall_bag = recall_score(y_pred_bdt, y_test, average='macro')\n",
        "\n",
        "# f1 score\n",
        "print(\"F1 Score : \", f1_score(y_pred_bdt, y_test, average='macro'))\n",
        "f1score_bag = f1_score(y_pred_bdt, y_test, average='macro')"
      ],
      "id": "eb48e21d-4cd9-4d0e-a6f2-6dbc97c41a80"
    },
    {
      "cell_type": "code",
      "execution_count": null,
      "metadata": {
        "colab": {
          "base_uri": "https://localhost:8080/"
        },
        "id": "VNiq7hSvviJt",
        "outputId": "19f415eb-cc21-4867-c5fb-03f74cfc4ec4"
      },
      "outputs": [
        {
          "name": "stdout",
          "output_type": "stream",
          "text": [
            "ROC One over the Rest (OvR) Bagging dan Decision Tree\n",
            "{8: 0.907081500104756, 1: 0.8870818193208873, 5: 0.922728825136612, 9: 0.9615477338476375}\n",
            "ROC OvR =  0.9196099696024731\n"
          ]
        }
      ],
      "source": [
        "from sklearn.metrics import roc_auc_score\n",
        "\n",
        "def roc_auc_score_multiclass(actual_class, pred_class, average = \"macro\"):\n",
        "\n",
        "  #creating a set of all the unique classes using the actual class list\n",
        "  unique_class = set(actual_class)\n",
        "  roc_auc_dict = {}\n",
        "  for per_class in unique_class:\n",
        "    #creating a list of all the classes except the current class\n",
        "    other_class = [x for x in unique_class if x != per_class]\n",
        "\n",
        "    #marking the current class as 1 and all other classes as 0\n",
        "    new_actual_class = [0 if x in other_class else 1 for x in actual_class]\n",
        "    new_pred_class = [0 if x in other_class else 1 for x in pred_class]\n",
        "\n",
        "    #using the sklearn metrics method to calculate the roc_auc_score\n",
        "    roc_auc = roc_auc_score(new_actual_class, new_pred_class, average = average)\n",
        "    roc_auc_dict[per_class] = roc_auc\n",
        "\n",
        "  return roc_auc_dict\n",
        "\n",
        "print(\"ROC One over the Rest (OvR) Bagging dan Decision Tree\")\n",
        "# assuming your already have a list of actual_class and predicted_class from the softmax regression classifier\n",
        "bdt_roc_auc_multiclass = roc_auc_score_multiclass(y_test, y_pred_bdt)\n",
        "print(bdt_roc_auc_multiclass)\n",
        "\n",
        "bdt_roc_average = sum(bdt_roc_auc_multiclass.values()) / float(len(bdt_roc_auc_multiclass))\n",
        "print(\"ROC OvR = \", bdt_roc_average)"
      ],
      "id": "VNiq7hSvviJt"
    },
    {
      "cell_type": "markdown",
      "metadata": {
        "id": "26a21fdc-af66-4bd8-bfb1-a14ec70f1b96"
      },
      "source": [
        "#### 8. Bandingkan ukuran kinerja random forest dan metode bagging dan decision tree, analisis hasilnya"
      ],
      "id": "26a21fdc-af66-4bd8-bfb1-a14ec70f1b96"
    },
    {
      "cell_type": "code",
      "execution_count": null,
      "metadata": {
        "colab": {
          "base_uri": "https://localhost:8080/"
        },
        "id": "815beed9-c3d0-47ae-8b10-c12e9107e247",
        "outputId": "08912a35-fa4b-4c2c-c6d1-aa1df5262739"
      },
      "outputs": [
        {
          "name": "stdout",
          "output_type": "stream",
          "text": [
            "+-------------------------+--------------------+--------------------+--------------------+--------------------+--------------------+--------------------+\n",
            "|          Model          |    Train_score     |     Val_score      |     Precision      |       Recall       |      F1 Score      |      ROC-AUC       |\n",
            "+-------------------------+--------------------+--------------------+--------------------+--------------------+--------------------+--------------------+\n",
            "|  RandomForestClassifier | 0.9322862774082287 | 0.9134199134199134 | 0.9117103541967102 | 0.9159275115281642 | 0.9133911326955645 | 0.9412342526604014 |\n",
            "| Bagging & Decision Tree | 0.8954492661809734 | 0.8744588744588745 | 0.8793512016747059 | 0.8833410124935958 | 0.8805284733771452 | 0.9196099696024731 |\n",
            "+-------------------------+--------------------+--------------------+--------------------+--------------------+--------------------+--------------------+\n"
          ]
        }
      ],
      "source": [
        "from prettytable import PrettyTable\n",
        "\n",
        "# Specify the Column Names while initializing the Table\n",
        "myTable = PrettyTable([\"Model\", \"Train_score\", \"Val_score\", \"Precision\", \"Recall\", \"F1 Score\", \"ROC-AUC\"])\n",
        "\n",
        "# Add rows\n",
        "myTable.add_row([\"RandomForestClassifier\", score_All.mean(), valscore_rf.mean(), precision_rf, recall_rf, f1score_rf, rf_roc_average])\n",
        "myTable.add_row([\"Bagging & Decision Tree\", acc_bag.mean(), y_val_bdt.mean(), precision_bag, recall_bag, f1score_bag, bdt_roc_average])\n",
        "\n",
        "print(myTable)\n"
      ],
      "id": "815beed9-c3d0-47ae-8b10-c12e9107e247"
    },
    {
      "cell_type": "markdown",
      "metadata": {
        "id": "8jsmsjcH8DNT"
      },
      "source": [
        "**Analisis :**\n",
        "</br> Berdasarkan tabel tersebut, dapat dilihat bahwa untuk dataset ini, kita akan mendapatkan model terbaik dengan menggunakan metode RandomForestClassifier. Hal ini dilihat dari ukuran kinerja (precision, recall, F1 score, dan ROC-AUC) yang lebih tinggi dibandingkan dengan menggunakan metode Bagging & Decision Tree.\n"
      ],
      "id": "8jsmsjcH8DNT"
    }
  ],
  "metadata": {
    "colab": {
      "collapsed_sections": [
        "aaa82159-66ad-4e2a-b787-c791ee6e6a61",
        "ce632c61-3cbb-4797-9d2f-74d757ce7cdd",
        "36e920af-4217-4245-8b87-3306c6376f88",
        "38e62fb4-34cd-4788-83b2-d8200b753b25",
        "89a765df-ee42-441a-b980-9e262bf51458"
      ],
      "provenance": []
    },
    "kernelspec": {
      "display_name": "Python 3 (ipykernel)",
      "language": "python",
      "name": "python3"
    },
    "language_info": {
      "codemirror_mode": {
        "name": "ipython",
        "version": 3
      },
      "file_extension": ".py",
      "mimetype": "text/x-python",
      "name": "python",
      "nbconvert_exporter": "python",
      "pygments_lexer": "ipython3",
      "version": "3.9.13"
    }
  },
  "nbformat": 4,
  "nbformat_minor": 5
}